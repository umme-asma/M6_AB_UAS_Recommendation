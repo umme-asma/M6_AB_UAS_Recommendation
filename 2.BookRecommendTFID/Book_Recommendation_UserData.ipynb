{
 "cells": [
  {
   "cell_type": "raw",
   "metadata": {},
   "source": [
    "For book recommendation TFID is better or KNN"
   ]
  },
  {
   "cell_type": "raw",
   "metadata": {},
   "source": [
    "For book recommendation, choosing between TF-IDF and KNN depends on how you're building your recommendation system. Let's break it down:"
   ]
  },
  {
   "cell_type": "raw",
   "metadata": {},
   "source": [
    "🔹 TF-IDF (Term Frequency–Inverse Document Frequency)\n",
    "Use case: Best for content-based filtering when books are described using text (e.g., title, description, genres, tags).\n",
    "\n",
    "How it works: Converts book descriptions into vector representations based on important terms.\n",
    "\n",
    "Recommendation logic: Recommend books similar in content (e.g., descriptions, metadata) to a user's liked book.\n",
    "\n",
    "Strength: Handles text data well and finds similar books even if no users have rated them (solves cold start to some extent)."
   ]
  },
  {
   "cell_type": "raw",
   "metadata": {},
   "source": [
    "🔹 KNN (K-Nearest Neighbors)\n",
    "Use case: Best when using collaborative filtering, where you rely on user behavior like ratings or past reads.\n",
    "\n",
    "How it works: Finds users/books similar to a target user/book based on interaction patterns.\n",
    "\n",
    "Recommendation logic:\n",
    "\n",
    "User-based KNN: Find users similar to the target and recommend what they liked.\n",
    "\n",
    "Item-based KNN: Recommend books similar to ones the user already liked.\n",
    "\n",
    "Strength: Captures real user preferences, not just content similarity."
   ]
  },
  {
   "cell_type": "raw",
   "metadata": {},
   "source": [
    "✅ Which is better?\n",
    "Scenario\t                                               Use TF-IDF\t           Use KNN\n",
    "You have only textual data (no user ratings)\t           ✔️ Yes\t              ❌ Not effective\n",
    "You have user ratings/behavioral data\t                   ❌ Limited\t          ✔️ Yes\n",
    "You want content similarity (e.g., same genre or theme)\t   ✔️ Yes\t              ❌ Not ideal\n",
    "You want personalized recommendations\t                   ❌ Basic\t              ✔️ Yes"
   ]
  },
  {
   "cell_type": "raw",
   "metadata": {},
   "source": [
    "🧠 Best Practice:\n",
    "Combine both in a hybrid recommender system:\n",
    "\n",
    "Use TF-IDF for content-based recommendations.\n",
    "\n",
    "Use KNN (with collaborative filtering) for user-based suggestions.\n",
    "\n",
    "Blend both scores to improve overall performance."
   ]
  },
  {
   "cell_type": "raw",
   "metadata": {},
   "source": [
    "---------------------------------------✅ 1. TF-IDF Content-Based Recommender---------------------------------------------"
   ]
  },
  {
   "cell_type": "code",
   "execution_count": 1,
   "metadata": {},
   "outputs": [
    {
     "name": "stdout",
     "output_type": "stream",
     "text": [
      "Recommendations for 'The Alchemist':\n",
      "1         Harry Potter\n",
      "2    Lord of the Rings\n",
      "3      Sherlock Holmes\n",
      "Name: title, dtype: object\n"
     ]
    }
   ],
   "source": [
    "import pandas as pd\n",
    "from sklearn.feature_extraction.text import TfidfVectorizer\n",
    "from sklearn.metrics.pairwise import cosine_similarity\n",
    "\n",
    "# Sample book dataset\n",
    "books = pd.DataFrame({\n",
    "    'title': ['The Alchemist', 'Harry Potter', 'Lord of the Rings', 'Sherlock Holmes', 'The Prophet'],\n",
    "    'description': [\n",
    "        'A journey of a shepherd discovering his destiny.',\n",
    "        'A young wizard and his adventures at Hogwarts.',\n",
    "        'An epic fantasy quest to destroy a powerful ring.',\n",
    "        'A detective solving mysteries in London.',\n",
    "        'Philosophical teachings and reflections on life.'\n",
    "    ]\n",
    "})\n",
    "\n",
    "# TF-IDF Vectorization\n",
    "tfidf = TfidfVectorizer(stop_words='english')\n",
    "tfidf_matrix = tfidf.fit_transform(books['description'])\n",
    "\n",
    "# Cosine similarity\n",
    "cosine_sim = cosine_similarity(tfidf_matrix, tfidf_matrix)\n",
    "\n",
    "# Function to recommend similar books\n",
    "def recommend_books(title, cosine_sim=cosine_sim):\n",
    "    idx = books[books['title'] == title].index[0]\n",
    "    sim_scores = list(enumerate(cosine_sim[idx]))\n",
    "    sim_scores = sorted(sim_scores, key=lambda x: x[1], reverse=True)[1:4]  # top 3\n",
    "    book_indices = [i[0] for i in sim_scores]\n",
    "    return books['title'].iloc[book_indices]\n",
    "\n",
    "# Test the recommender\n",
    "print(\"Recommendations for 'The Alchemist':\")\n",
    "print(recommend_books('The Alchemist'))\n"
   ]
  },
  {
   "cell_type": "raw",
   "metadata": {},
   "source": [
    "---------------------------------------------✅ 2. KNN Collaborative Filtering Recommender-------------------------------"
   ]
  },
  {
   "cell_type": "code",
   "execution_count": 10,
   "metadata": {},
   "outputs": [
    {
     "name": "stdout",
     "output_type": "stream",
     "text": [
      "KNN Recommendations for 'Harry Potter':\n",
      "0    Lord of the Rings\n",
      "1          The Prophet\n",
      "2        The Alchemist\n",
      "Name: title, dtype: object\n"
     ]
    }
   ],
   "source": [
    "import pandas as pd\n",
    "from sklearn.neighbors import NearestNeighbors\n",
    "\n",
    "# Step 1: Book titles\n",
    "books = pd.DataFrame({\n",
    "    'title': ['The Alchemist', 'Harry Potter', 'Lord of the Rings', 'Sherlock Holmes', 'The Prophet']\n",
    "})\n",
    "\n",
    "# Step 2: User-book rating matrix (books are rows)\n",
    "ratings = pd.DataFrame({\n",
    "    'user1': [5, 3, 0, 0, 2],\n",
    "    'user2': [4, 0, 4, 1, 3],\n",
    "    'user3': [0, 4, 5, 0, 1],\n",
    "    'user4': [1, 1, 0, 5, 0],\n",
    "}, index=books['title'])\n",
    "\n",
    "# Step 3: Train KNN model on books (rows) and users (columns)\n",
    "book_features = ratings.fillna(0).values  # shape: (n_books, n_users)\n",
    "\n",
    "model_knn = NearestNeighbors(metric='cosine', algorithm='brute')\n",
    "model_knn.fit(book_features)\n",
    "\n",
    "# Step 4: Recommendation function\n",
    "def recommend_similar_books(book_title, k=3):\n",
    "    # Find the index of the given book\n",
    "    if book_title not in books['title'].values:\n",
    "        return f\"'{book_title}' not found in book list.\"\n",
    "    \n",
    "    idx = books[books['title'] == book_title].index[0]\n",
    "\n",
    "    # Get distances and indices of nearest neighbors\n",
    "    distances, indices = model_knn.kneighbors([book_features[idx]], n_neighbors=k+1)\n",
    "\n",
    "    # Skip the first one (it's the same book)\n",
    "    recommended_indices = indices.flatten()[1:]\n",
    "    recommended_books = books['title'].iloc[recommended_indices]\n",
    "    return recommended_books.reset_index(drop=True)\n",
    "\n",
    "# Step 5: Test it\n",
    "print(\"KNN Recommendations for 'Harry Potter':\")\n",
    "print(recommend_similar_books('Harry Potter'))\n"
   ]
  },
  {
   "cell_type": "raw",
   "metadata": {},
   "source": [
    "📌 Summary:\n",
    "Technique\t                Works With\t                           Type\n",
    "TF-IDF\t                 Text data (e.g., book description)\t       Content-Based\n",
    "KNN\t                     User-item interaction (ratings)\t       Collaborative Filtering"
   ]
  },
  {
   "cell_type": "raw",
   "metadata": {},
   "source": [
    "--------Let's now combine TF-IDF (content-based) and KNN (collaborative-based) into a simple hybrid recommender system-------------"
   ]
  },
  {
   "cell_type": "raw",
   "metadata": {},
   "source": [
    "✅ Step-by-Step Hybrid Recommender (TF-IDF + KNN)\n",
    "We'll:\n",
    "\n",
    "Use TF-IDF to get content similarity scores.\n",
    "\n",
    "Use KNN to get collaborative similarity scores.\n",
    "\n",
    "Normalize & combine both to rank books."
   ]
  },
  {
   "cell_type": "code",
   "execution_count": 3,
   "metadata": {},
   "outputs": [],
   "source": [
    "import pandas as pd\n",
    "import numpy as np\n",
    "from sklearn.feature_extraction.text import TfidfVectorizer\n",
    "from sklearn.metrics.pairwise import cosine_similarity\n",
    "from sklearn.neighbors import NearestNeighbors\n",
    "from sklearn.preprocessing import MinMaxScaler\n",
    "\n",
    "# Book data\n",
    "books = pd.DataFrame({\n",
    "    'title': ['The Alchemist', 'Harry Potter', 'Lord of the Rings', 'Sherlock Holmes', 'The Prophet'],\n",
    "    'description': [\n",
    "        'A journey of a shepherd discovering his destiny.',\n",
    "        'A young wizard and his adventures at Hogwarts.',\n",
    "        'An epic fantasy quest to destroy a powerful ring.',\n",
    "        'A detective solving mysteries in London.',\n",
    "        'Philosophical teachings and reflections on life.'\n",
    "    ]\n",
    "})\n",
    "\n",
    "# User rating matrix\n",
    "ratings = pd.DataFrame({\n",
    "    'user1': [5, 3, 0, 0, 2],\n",
    "    'user2': [4, 0, 4, 1, 3],\n",
    "    'user3': [0, 4, 5, 0, 1],\n",
    "    'user4': [1, 1, 0, 5, 0],\n",
    "}, index=books['title'])\n",
    "\n",
    "# Transpose ratings for item-based filtering\n",
    "book_features = ratings.fillna(0).T\n"
   ]
  },
  {
   "cell_type": "code",
   "execution_count": 4,
   "metadata": {},
   "outputs": [],
   "source": [
    "#🔹 Content Similarity (TF-IDF)\n",
    "# TF-IDF vectors\n",
    "tfidf = TfidfVectorizer(stop_words='english')\n",
    "tfidf_matrix = tfidf.fit_transform(books['description'])\n",
    "tfidf_sim = cosine_similarity(tfidf_matrix, tfidf_matrix)\n"
   ]
  },
  {
   "cell_type": "code",
   "execution_count": 5,
   "metadata": {},
   "outputs": [],
   "source": [
    "#🔹 Collaborative Similarity (KNN)\n",
    "# Fit KNN\n",
    "model_knn = NearestNeighbors(metric='cosine', algorithm='brute')\n",
    "model_knn.fit(book_features.T)\n",
    "\n",
    "# Generate collaborative similarity matrix\n",
    "collab_sim = cosine_similarity(book_features.T)\n"
   ]
  },
  {
   "cell_type": "code",
   "execution_count": 6,
   "metadata": {},
   "outputs": [],
   "source": [
    "#🔹 Normalize and Combine (Hybrid)\n",
    "# Normalize both similarity matrices to range [0, 1]\n",
    "scaler = MinMaxScaler()\n",
    "tfidf_sim_norm = scaler.fit_transform(tfidf_sim)\n",
    "collab_sim_norm = scaler.fit_transform(collab_sim)\n",
    "\n",
    "# Hybrid: weighted sum of both (alpha: weight of content, 1-alpha: collaborative)\n",
    "alpha = 0.5\n",
    "hybrid_sim = alpha * tfidf_sim_norm + (1 - alpha) * collab_sim_norm\n"
   ]
  },
  {
   "cell_type": "code",
   "execution_count": 7,
   "metadata": {},
   "outputs": [],
   "source": [
    "#🔍 Hybrid Recommendation Function\n",
    "def hybrid_recommend(book_title, top_n=3):\n",
    "    idx = books[books['title'] == book_title].index[0]\n",
    "    sim_scores = list(enumerate(hybrid_sim[idx]))\n",
    "    sim_scores = sorted(sim_scores, key=lambda x: x[1], reverse=True)[1:top_n+1]\n",
    "    recommended_indices = [i[0] for i in sim_scores]\n",
    "    return books['title'].iloc[recommended_indices]\n"
   ]
  },
  {
   "cell_type": "code",
   "execution_count": 8,
   "metadata": {},
   "outputs": [
    {
     "name": "stdout",
     "output_type": "stream",
     "text": [
      "Hybrid Recommendations for 'The Alchemist':\n",
      "4          The Prophet\n",
      "1         Harry Potter\n",
      "2    Lord of the Rings\n",
      "Name: title, dtype: object\n",
      "\n",
      "Hybrid Recommendations for 'Harry Potter':\n",
      "2    Lord of the Rings\n",
      "4          The Prophet\n",
      "0        The Alchemist\n",
      "Name: title, dtype: object\n"
     ]
    }
   ],
   "source": [
    "#▶️ Example Usage\n",
    "print(\"Hybrid Recommendations for 'The Alchemist':\")\n",
    "print(hybrid_recommend('The Alchemist'))\n",
    "\n",
    "print(\"\\nHybrid Recommendations for 'Harry Potter':\")\n",
    "print(hybrid_recommend('Harry Potter'))\n"
   ]
  },
  {
   "cell_type": "raw",
   "metadata": {},
   "source": [
    "#ABOVE ✅ Output Example (will vary slightly by similarity scores):"
   ]
  },
  {
   "cell_type": "code",
   "execution_count": null,
   "metadata": {},
   "outputs": [],
   "source": []
  }
 ],
 "metadata": {
  "colab": {
   "provenance": []
  },
  "kernelspec": {
   "display_name": "Python 3 (ipykernel)",
   "language": "python",
   "name": "python3"
  },
  "language_info": {
   "codemirror_mode": {
    "name": "ipython",
    "version": 3
   },
   "file_extension": ".py",
   "mimetype": "text/x-python",
   "name": "python",
   "nbconvert_exporter": "python",
   "pygments_lexer": "ipython3",
   "version": "3.13.2"
  }
 },
 "nbformat": 4,
 "nbformat_minor": 4
}
