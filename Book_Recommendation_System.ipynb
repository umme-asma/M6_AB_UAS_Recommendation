{
 "cells": [
  {
   "cell_type": "markdown",
   "metadata": {
    "colab_type": "text",
    "id": "view-in-github"
   },
   "source": [
    "<a href=\"https://colab.research.google.com/github/Asfiya-edu/Book-Recommendation-System/blob/main/Book_Recommendation_System.ipynb\" target=\"_parent\"><img src=\"https://colab.research.google.com/assets/colab-badge.svg\" alt=\"Open In Colab\"/></a>"
   ]
  },
  {
   "cell_type": "markdown",
   "metadata": {
    "id": "vncDsAP0Gaoa"
   },
   "source": [
    "# **Project Name**    -  **Book Recommendation System**\n",
    "\n"
   ]
  },
  {
   "cell_type": "markdown",
   "metadata": {
    "id": "beRrZCGUAJYm"
   },
   "source": [
    "##### **Project Type**    - Unsupervised/ Recommendation\n",
    "##### **Contribution**    - Individual\n"
   ]
  },
  {
   "cell_type": "markdown",
   "metadata": {
    "id": "FJNUwmbgGyua"
   },
   "source": [
    "# **Project Summary -**"
   ]
  },
  {
   "cell_type": "markdown",
   "metadata": {
    "id": "F6v_1wHtG2nS"
   },
   "source": [
    "The Book Recommendation System project focuses on creating an interactive and personalized experience for users in exploring a digital library. The system employs a Nearest Neighbors model, incorporating a combination of popularity metrics and average ratings to generate book recommendations. This interactive system allows users to select a book of interest, and in return, it dynamically provides suggestions based on similar user preferences.\n",
    "\n",
    "## **Implementation Overview:**\n",
    "The project begins by selecting relevant features for recommendation, specifically focusing on the number of ratings and average ratings for each book. To ensure scalability and relevance, these features are then scaled using MinMaxScaler. The Nearest Neighbors model is chosen for its simplicity and effectiveness in identifying similar items based on their feature vectors. The model is trained using the scaled features, allowing it to quickly retrieve the nearest neighbors for a given book.\n",
    "\n",
    "## **User Interaction:**\n",
    "The heart of the project lies in the interactive aspect of the recommendation system. Through the use of widgets and the `interact` function, users can select a book title from a dropdown menu, triggering the recommendation engine to provide a list of similar books. This dynamic interaction enhances user engagement and encourages exploration within the digital library.\n",
    "\n",
    "## **Conclusion:**\n",
    "The implemented book recommendation system successfully achieves its primary goal of providing personalized book suggestions. By combining popularity metrics and average ratings, the system caters to diverse user preferences, contributing to a more enriching reading experience. The interactivity ensures that recommendations align with the specific interests of each user.\n",
    "\n",
    "## **Future Steps and Business Impact:**\n",
    "The project lays the groundwork for further improvements and optimizations. Incorporating additional factors such as user demographics, reading history, or genre preferences could enhance recommendation accuracy. Continuous monitoring of system performance, coupled with user feedback, will be essential for refining algorithms and ensuring user satisfaction.\n",
    "\n",
    "From a business perspective, the recommendation system holds significant potential. As users receive personalized suggestions, their engagement with the digital library is likely to increase. This heightened engagement can translate into longer user sessions, increased book interactions, and potentially higher revenue through book purchases or subscriptions.\n",
    "\n",
    "# **Further Recommendations:**\n",
    "To propel the recommendation system to the next level, collaboration with data scientists and user experience experts is recommended. Advanced recommendation algorithms, machine learning techniques, and real-time user feedback mechanisms can be explored. This iterative approach aligns with the business objective of delivering a comprehensive and personalized user experience.\n",
    "\n",
    "In conclusion, the Book Recommendation System project represents a valuable step towards creating a more engaging and tailored user experience within the digital library. As the system evolves, incorporating advanced techniques and user-centric enhancements, it has the potential to not only meet but exceed user expectations. The continuous refinement of algorithms and features will contribute to a positive business impact, fostering sustained user engagement and satisfaction."
   ]
  },
  {
   "cell_type": "markdown",
   "metadata": {
    "id": "w6K7xa23Elo4"
   },
   "source": [
    "# **GitHub Link -**"
   ]
  },
  {
   "cell_type": "markdown",
   "metadata": {
    "id": "h1o69JH3Eqqn"
   },
   "source": [
    "https://github.com/umme-asma/M6_AB_UAS_Recommendation/"
   ]
  },
  {
   "cell_type": "markdown",
   "metadata": {
    "id": "yQaldy8SH6Dl"
   },
   "source": [
    "# **Problem Statement**\n"
   ]
  },
  {
   "cell_type": "markdown",
   "metadata": {
    "id": "DpeJGUA3kjGy"
   },
   "source": [
    "\n",
    "In the digital era, users often face the overwhelming task of navigating vast libraries to discover books aligned with their preferences. Traditional search methods may not capture the nuanced interests of individual users, leading to a less-than-optimal user experience. The absence of a robust recommendation system results in missed opportunities for prolonged user engagement and potential revenue generation for the digital library platform.\n",
    "\n",
    "**Key Challenges:**\n",
    "1. **Inefficient Discovery:** Users may struggle to efficiently discover books that match their unique preferences, leading to frustration and a potential decline in engagement.\n",
    "\n",
    "2. **Limited Personalization:** Traditional recommendation systems may lack the depth needed to provide highly personalized suggestions, hindering the creation of a tailored user experience.\n",
    "\n",
    "3. **Underutilized Library:** A vast digital library is a valuable asset, but without an effective recommendation system, many books may go unnoticed, limiting the library's full potential.\n",
    "\n",
    "**Objectives:**\n",
    "1. **Personalized Recommendations:** Develop a recommendation system that considers both popularity metrics and average ratings to generate personalized book suggestions for users.\n",
    "\n",
    "2. **User Engagement:** Enhance user engagement by providing an interactive platform where users can explore recommendations based on their book preferences.\n",
    "\n",
    "3. **Business Impact:** Implement features that contribute to positive business outcomes, such as increased user sessions, prolonged interaction with the digital library, and potential revenue growth.\n"
   ]
  },
  {
   "cell_type": "markdown",
   "metadata": {
    "id": "mDgbUHAGgjLW"
   },
   "source": [
    "# **General Guidelines** : -  "
   ]
  },
  {
   "cell_type": "markdown",
   "metadata": {
    "id": "ZrxVaUj-hHfC"
   },
   "source": [
    "1.   Well-structured, formatted, and commented code is required.\n",
    "2.   Exception Handling, Production Grade Code & Deployment Ready Code will be a plus. Those students will be awarded some additional credits.\n",
    "     \n",
    "     The additional credits will have advantages over other students during Star Student selection.\n",
    "       \n",
    "             [ Note: - Deployment Ready Code is defined as, the whole .ipynb notebook should be executable in one go\n",
    "                       without a single error logged. ]\n",
    "\n",
    "3.   Each and every logic should have proper comments.\n",
    "4. You may add as many number of charts you want. Make Sure for each and every chart the following format should be answered.\n",
    "        \n",
    "\n",
    "```\n",
    "# Chart visualization code\n",
    "```\n",
    "            \n",
    "\n",
    "*   Why did you pick the specific chart?\n",
    "*   What is/are the insight(s) found from the chart?\n",
    "* Will the gained insights help creating a positive business impact?\n",
    "Are there any insights that lead to negative growth? Justify with specific reason.\n",
    "\n",
    "5. You have to create at least 15 logical & meaningful charts having important insights.\n",
    "\n",
    "\n",
    "[ Hints : - Do the Vizualization in  a structured way while following \"UBM\" Rule.\n",
    "\n",
    "U - Univariate Analysis,\n",
    "\n",
    "B - Bivariate Analysis (Numerical - Categorical, Numerical - Numerical, Categorical - Categorical)\n",
    "\n",
    "M - Multivariate Analysis\n",
    " ]\n",
    "\n",
    "\n",
    "\n",
    "\n",
    "\n",
    "6. You may add more ml algorithms for model creation. Make sure for each and every algorithm, the following format should be answered.\n",
    "\n",
    "\n",
    "*   Explain the ML Model used and it's performance using Evaluation metric Score Chart.\n",
    "\n",
    "\n",
    "*   Cross- Validation & Hyperparameter Tuning\n",
    "\n",
    "*   Have you seen any improvement? Note down the improvement with updates Evaluation metric Score Chart.\n",
    "\n",
    "*   Explain each evaluation metric's indication towards business and the business impact pf the ML model used.\n",
    "\n",
    "\n",
    "\n",
    "\n",
    "\n",
    "\n",
    "\n",
    "\n",
    "\n",
    "\n",
    "\n",
    "\n",
    "\n",
    "\n",
    "\n",
    "\n",
    "\n",
    "\n"
   ]
  },
  {
   "cell_type": "markdown",
   "metadata": {
    "id": "O_i_v8NEhb9l"
   },
   "source": [
    "# ***Let's Begin !***"
   ]
  },
  {
   "cell_type": "markdown",
   "metadata": {
    "id": "HhfV-JJviCcP"
   },
   "source": [
    "## ***1. Know Your Data***"
   ]
  },
  {
   "cell_type": "markdown",
   "metadata": {
    "id": "Y3lxredqlCYt"
   },
   "source": [
    "### Import Libraries"
   ]
  },
  {
   "cell_type": "code",
   "execution_count": 2,
   "metadata": {
    "colab": {
     "base_uri": "https://localhost:8080/"
    },
    "id": "M8Vqi-pPk-HR",
    "outputId": "a7a1200b-f890-43f8-c637-de2de162e500"
   },
   "outputs": [],
   "source": [
    "# Import Libraries\n",
    "import numpy as np\n",
    "import pandas as pd\n",
    "import matplotlib.pyplot as plt\n",
    "%matplotlib inline\n",
    "from datetime import datetime\n",
    "import seaborn as sns\n",
    "from google.colab import drive\n",
    "drive.mount('/content/drive')\n",
    "\n",
    "from sklearn.preprocessing import StandardScaler\n",
    "from sklearn.preprocessing import LabelEncoder\n",
    "from sklearn.feature_extraction import FeatureHasher\n",
    "from sklearn.model_selection import train_test_split\n",
    "from sklearn.cluster import KMeans\n",
    "from sklearn.model_selection import GridSearchCV\n",
    "\n",
    "from sklearn.metrics import silhouette_score\n",
    "import warnings\n",
    "warnings.filterwarnings(\"ignore\", category=FutureWarning)\n",
    "\n",
    "import scipy.stats as stats"
   ]
  },
  {
   "cell_type": "markdown",
   "metadata": {
    "id": "3RnN4peoiCZX"
   },
   "source": [
    "### Dataset Loading"
   ]
  },
  {
   "cell_type": "code",
   "execution_count": null,
   "metadata": {},
   "outputs": [],
   "source": [
    "# Load Dataset\n",
    "filepath1= \"/content/drive/MyDrive/AlmaBetter_MS_DS_AI/Module6ML/M6Capstone/1.BookRecommend_KNN/Books.csv\"\n",
    "filepath2= \"/content/drive/MyDrive/AlmaBetter_MS_DS_AI/Module6ML/M6Capstone/1.BookRecommend_KNN/Ratings.csv\"\n",
    "filepath3= \"/content/drive/MyDrive/AlmaBetter_MS_DS_AI/Module6ML/M6Capstone/1.BookRecommend_KNN/Users.csv\"\n",
    "\n",
    "books = pd.read_csv(filepath1)\n",
    "ratings = pd.read_csv(filepath2)\n",
    "users = pd.read_csv(filepath3)"
   ]
  },
  {
   "cell_type": "code",
   "execution_count": 3,
   "metadata": {},
   "outputs": [
    {
     "name": "stderr",
     "output_type": "stream",
     "text": [
      "C:\\Users\\umme asma\\AppData\\Local\\Temp\\ipykernel_32716\\954140786.py:7: DtypeWarning: Columns (3) have mixed types. Specify dtype option on import or set low_memory=False.\n",
      "  books = pd.read_csv(filepath1)\n"
     ]
    }
   ],
   "source": [
    "'''\n",
    "# Load Dataset\n",
    "filepath1= \"Books.csv\"\n",
    "filepath2= \"Ratings.csv\"\n",
    "filepath3= \"Users.csv\"\n",
    "#filepath3= \"C:/Users/umme asma/Desktop/Practice/1.BookRecommend_WorkingUAS1.BookRecommend_KNN/Users.csv\"\n",
    "\n",
    "books = pd.read_csv(filepath1)\n",
    "ratings = pd.read_csv(filepath2)\n",
    "users = pd.read_csv(filepath3)\n",
    "'''"
   ]
  },
  {
   "cell_type": "markdown",
   "metadata": {
    "id": "x71ZqKXriCWQ"
   },
   "source": [
    "### Dataset First View"
   ]
  },
  {
   "cell_type": "code",
   "execution_count": 4,
   "metadata": {
    "colab": {
     "base_uri": "https://localhost:8080/",
     "height": 345
    },
    "id": "LWNFOSvLl09H",
    "outputId": "5d9650d7-9c3e-427c-8fa4-dc33fc262e7d"
   },
   "outputs": [
    {
     "data": {
      "text/html": [
       "<div>\n",
       "<style scoped>\n",
       "    .dataframe tbody tr th:only-of-type {\n",
       "        vertical-align: middle;\n",
       "    }\n",
       "\n",
       "    .dataframe tbody tr th {\n",
       "        vertical-align: top;\n",
       "    }\n",
       "\n",
       "    .dataframe thead th {\n",
       "        text-align: right;\n",
       "    }\n",
       "</style>\n",
       "<table border=\"1\" class=\"dataframe\">\n",
       "  <thead>\n",
       "    <tr style=\"text-align: right;\">\n",
       "      <th></th>\n",
       "      <th>ISBN</th>\n",
       "      <th>Book-Title</th>\n",
       "      <th>Book-Author</th>\n",
       "      <th>Year-Of-Publication</th>\n",
       "      <th>Publisher</th>\n",
       "      <th>Image-URL-S</th>\n",
       "      <th>Image-URL-M</th>\n",
       "      <th>Image-URL-L</th>\n",
       "    </tr>\n",
       "  </thead>\n",
       "  <tbody>\n",
       "    <tr>\n",
       "      <th>0</th>\n",
       "      <td>0195153448</td>\n",
       "      <td>Classical Mythology</td>\n",
       "      <td>Mark P. O. Morford</td>\n",
       "      <td>2002</td>\n",
       "      <td>Oxford University Press</td>\n",
       "      <td>http://images.amazon.com/images/P/0195153448.0...</td>\n",
       "      <td>http://images.amazon.com/images/P/0195153448.0...</td>\n",
       "      <td>http://images.amazon.com/images/P/0195153448.0...</td>\n",
       "    </tr>\n",
       "    <tr>\n",
       "      <th>1</th>\n",
       "      <td>0002005018</td>\n",
       "      <td>Clara Callan</td>\n",
       "      <td>Richard Bruce Wright</td>\n",
       "      <td>2001</td>\n",
       "      <td>HarperFlamingo Canada</td>\n",
       "      <td>http://images.amazon.com/images/P/0002005018.0...</td>\n",
       "      <td>http://images.amazon.com/images/P/0002005018.0...</td>\n",
       "      <td>http://images.amazon.com/images/P/0002005018.0...</td>\n",
       "    </tr>\n",
       "    <tr>\n",
       "      <th>2</th>\n",
       "      <td>0060973129</td>\n",
       "      <td>Decision in Normandy</td>\n",
       "      <td>Carlo D'Este</td>\n",
       "      <td>1991</td>\n",
       "      <td>HarperPerennial</td>\n",
       "      <td>http://images.amazon.com/images/P/0060973129.0...</td>\n",
       "      <td>http://images.amazon.com/images/P/0060973129.0...</td>\n",
       "      <td>http://images.amazon.com/images/P/0060973129.0...</td>\n",
       "    </tr>\n",
       "    <tr>\n",
       "      <th>3</th>\n",
       "      <td>0374157065</td>\n",
       "      <td>Flu: The Story of the Great Influenza Pandemic...</td>\n",
       "      <td>Gina Bari Kolata</td>\n",
       "      <td>1999</td>\n",
       "      <td>Farrar Straus Giroux</td>\n",
       "      <td>http://images.amazon.com/images/P/0374157065.0...</td>\n",
       "      <td>http://images.amazon.com/images/P/0374157065.0...</td>\n",
       "      <td>http://images.amazon.com/images/P/0374157065.0...</td>\n",
       "    </tr>\n",
       "    <tr>\n",
       "      <th>4</th>\n",
       "      <td>0393045218</td>\n",
       "      <td>The Mummies of Urumchi</td>\n",
       "      <td>E. J. W. Barber</td>\n",
       "      <td>1999</td>\n",
       "      <td>W. W. Norton &amp;amp; Company</td>\n",
       "      <td>http://images.amazon.com/images/P/0393045218.0...</td>\n",
       "      <td>http://images.amazon.com/images/P/0393045218.0...</td>\n",
       "      <td>http://images.amazon.com/images/P/0393045218.0...</td>\n",
       "    </tr>\n",
       "  </tbody>\n",
       "</table>\n",
       "</div>"
      ],
      "text/plain": [
       "         ISBN                                         Book-Title  \\\n",
       "0  0195153448                                Classical Mythology   \n",
       "1  0002005018                                       Clara Callan   \n",
       "2  0060973129                               Decision in Normandy   \n",
       "3  0374157065  Flu: The Story of the Great Influenza Pandemic...   \n",
       "4  0393045218                             The Mummies of Urumchi   \n",
       "\n",
       "            Book-Author Year-Of-Publication                   Publisher  \\\n",
       "0    Mark P. O. Morford                2002     Oxford University Press   \n",
       "1  Richard Bruce Wright                2001       HarperFlamingo Canada   \n",
       "2          Carlo D'Este                1991             HarperPerennial   \n",
       "3      Gina Bari Kolata                1999        Farrar Straus Giroux   \n",
       "4       E. J. W. Barber                1999  W. W. Norton &amp; Company   \n",
       "\n",
       "                                         Image-URL-S  \\\n",
       "0  http://images.amazon.com/images/P/0195153448.0...   \n",
       "1  http://images.amazon.com/images/P/0002005018.0...   \n",
       "2  http://images.amazon.com/images/P/0060973129.0...   \n",
       "3  http://images.amazon.com/images/P/0374157065.0...   \n",
       "4  http://images.amazon.com/images/P/0393045218.0...   \n",
       "\n",
       "                                         Image-URL-M  \\\n",
       "0  http://images.amazon.com/images/P/0195153448.0...   \n",
       "1  http://images.amazon.com/images/P/0002005018.0...   \n",
       "2  http://images.amazon.com/images/P/0060973129.0...   \n",
       "3  http://images.amazon.com/images/P/0374157065.0...   \n",
       "4  http://images.amazon.com/images/P/0393045218.0...   \n",
       "\n",
       "                                         Image-URL-L  \n",
       "0  http://images.amazon.com/images/P/0195153448.0...  \n",
       "1  http://images.amazon.com/images/P/0002005018.0...  \n",
       "2  http://images.amazon.com/images/P/0060973129.0...  \n",
       "3  http://images.amazon.com/images/P/0374157065.0...  \n",
       "4  http://images.amazon.com/images/P/0393045218.0...  "
      ]
     },
     "execution_count": 4,
     "metadata": {},
     "output_type": "execute_result"
    }
   ],
   "source": [
    "# Dataset First Look\n",
    "books.head()"
   ]
  },
  {
   "cell_type": "code",
   "execution_count": 5,
   "metadata": {
    "colab": {
     "base_uri": "https://localhost:8080/",
     "height": 206
    },
    "id": "Tl0Ct0IzDFj_",
    "outputId": "3f6bcb04-a219-4743-da05-24a8ce79e9a9"
   },
   "outputs": [
    {
     "data": {
      "text/html": [
       "<div>\n",
       "<style scoped>\n",
       "    .dataframe tbody tr th:only-of-type {\n",
       "        vertical-align: middle;\n",
       "    }\n",
       "\n",
       "    .dataframe tbody tr th {\n",
       "        vertical-align: top;\n",
       "    }\n",
       "\n",
       "    .dataframe thead th {\n",
       "        text-align: right;\n",
       "    }\n",
       "</style>\n",
       "<table border=\"1\" class=\"dataframe\">\n",
       "  <thead>\n",
       "    <tr style=\"text-align: right;\">\n",
       "      <th></th>\n",
       "      <th>User-ID</th>\n",
       "      <th>ISBN</th>\n",
       "      <th>Book-Rating</th>\n",
       "    </tr>\n",
       "  </thead>\n",
       "  <tbody>\n",
       "    <tr>\n",
       "      <th>0</th>\n",
       "      <td>276725</td>\n",
       "      <td>034545104X</td>\n",
       "      <td>0</td>\n",
       "    </tr>\n",
       "    <tr>\n",
       "      <th>1</th>\n",
       "      <td>276726</td>\n",
       "      <td>0155061224</td>\n",
       "      <td>5</td>\n",
       "    </tr>\n",
       "    <tr>\n",
       "      <th>2</th>\n",
       "      <td>276727</td>\n",
       "      <td>0446520802</td>\n",
       "      <td>0</td>\n",
       "    </tr>\n",
       "    <tr>\n",
       "      <th>3</th>\n",
       "      <td>276729</td>\n",
       "      <td>052165615X</td>\n",
       "      <td>3</td>\n",
       "    </tr>\n",
       "    <tr>\n",
       "      <th>4</th>\n",
       "      <td>276729</td>\n",
       "      <td>0521795028</td>\n",
       "      <td>6</td>\n",
       "    </tr>\n",
       "  </tbody>\n",
       "</table>\n",
       "</div>"
      ],
      "text/plain": [
       "   User-ID        ISBN  Book-Rating\n",
       "0   276725  034545104X            0\n",
       "1   276726  0155061224            5\n",
       "2   276727  0446520802            0\n",
       "3   276729  052165615X            3\n",
       "4   276729  0521795028            6"
      ]
     },
     "execution_count": 5,
     "metadata": {},
     "output_type": "execute_result"
    }
   ],
   "source": [
    "ratings.head()"
   ]
  },
  {
   "cell_type": "code",
   "execution_count": 6,
   "metadata": {
    "colab": {
     "base_uri": "https://localhost:8080/",
     "height": 206
    },
    "id": "R1Enb-cbDFfu",
    "outputId": "8af73347-efd6-4019-c612-c72fe23fef19"
   },
   "outputs": [
    {
     "data": {
      "text/html": [
       "<div>\n",
       "<style scoped>\n",
       "    .dataframe tbody tr th:only-of-type {\n",
       "        vertical-align: middle;\n",
       "    }\n",
       "\n",
       "    .dataframe tbody tr th {\n",
       "        vertical-align: top;\n",
       "    }\n",
       "\n",
       "    .dataframe thead th {\n",
       "        text-align: right;\n",
       "    }\n",
       "</style>\n",
       "<table border=\"1\" class=\"dataframe\">\n",
       "  <thead>\n",
       "    <tr style=\"text-align: right;\">\n",
       "      <th></th>\n",
       "      <th>User-ID</th>\n",
       "      <th>Location</th>\n",
       "      <th>Age</th>\n",
       "    </tr>\n",
       "  </thead>\n",
       "  <tbody>\n",
       "    <tr>\n",
       "      <th>0</th>\n",
       "      <td>1</td>\n",
       "      <td>nyc, new york, usa</td>\n",
       "      <td>NaN</td>\n",
       "    </tr>\n",
       "    <tr>\n",
       "      <th>1</th>\n",
       "      <td>2</td>\n",
       "      <td>stockton, california, usa</td>\n",
       "      <td>18.0</td>\n",
       "    </tr>\n",
       "    <tr>\n",
       "      <th>2</th>\n",
       "      <td>3</td>\n",
       "      <td>moscow, yukon territory, russia</td>\n",
       "      <td>NaN</td>\n",
       "    </tr>\n",
       "    <tr>\n",
       "      <th>3</th>\n",
       "      <td>4</td>\n",
       "      <td>porto, v.n.gaia, portugal</td>\n",
       "      <td>17.0</td>\n",
       "    </tr>\n",
       "    <tr>\n",
       "      <th>4</th>\n",
       "      <td>5</td>\n",
       "      <td>farnborough, hants, united kingdom</td>\n",
       "      <td>NaN</td>\n",
       "    </tr>\n",
       "  </tbody>\n",
       "</table>\n",
       "</div>"
      ],
      "text/plain": [
       "   User-ID                            Location   Age\n",
       "0        1                  nyc, new york, usa   NaN\n",
       "1        2           stockton, california, usa  18.0\n",
       "2        3     moscow, yukon territory, russia   NaN\n",
       "3        4           porto, v.n.gaia, portugal  17.0\n",
       "4        5  farnborough, hants, united kingdom   NaN"
      ]
     },
     "execution_count": 6,
     "metadata": {},
     "output_type": "execute_result"
    }
   ],
   "source": [
    "users.head()"
   ]
  },
  {
   "cell_type": "markdown",
   "metadata": {
    "id": "7hBIi_osiCS2"
   },
   "source": [
    "### Dataset Rows & Columns count"
   ]
  },
  {
   "cell_type": "code",
   "execution_count": 7,
   "metadata": {
    "colab": {
     "base_uri": "https://localhost:8080/"
    },
    "id": "Kllu7SJgmLij",
    "outputId": "8c1f87d8-81cc-49c5-9df0-f05b30600240"
   },
   "outputs": [
    {
     "name": "stdout",
     "output_type": "stream",
     "text": [
      "Rows and columns in books dataset:  (271360, 8)\n",
      "Rows and columns in ratings dataset:  (1149780, 3)\n",
      "Rows and columns in users dataset:  (278858, 3)\n"
     ]
    }
   ],
   "source": [
    "# Dataset Rows & Columns count\n",
    "print(\"Rows and columns in books dataset: \", books.shape)\n",
    "print(\"Rows and columns in ratings dataset: \", ratings.shape)\n",
    "print(\"Rows and columns in users dataset: \", users.shape)"
   ]
  },
  {
   "cell_type": "markdown",
   "metadata": {
    "id": "JlHwYmJAmNHm"
   },
   "source": [
    "### Dataset Information"
   ]
  },
  {
   "cell_type": "code",
   "execution_count": 8,
   "metadata": {
    "colab": {
     "base_uri": "https://localhost:8080/"
    },
    "id": "e9hRXRi6meOf",
    "outputId": "a77357e5-b60c-4e4e-f95a-b16f224abf95"
   },
   "outputs": [
    {
     "name": "stdout",
     "output_type": "stream",
     "text": [
      "<class 'pandas.core.frame.DataFrame'>\n",
      "RangeIndex: 271360 entries, 0 to 271359\n",
      "Data columns (total 8 columns):\n",
      " #   Column               Non-Null Count   Dtype \n",
      "---  ------               --------------   ----- \n",
      " 0   ISBN                 271360 non-null  object\n",
      " 1   Book-Title           271360 non-null  object\n",
      " 2   Book-Author          271358 non-null  object\n",
      " 3   Year-Of-Publication  271360 non-null  object\n",
      " 4   Publisher            271358 non-null  object\n",
      " 5   Image-URL-S          271360 non-null  object\n",
      " 6   Image-URL-M          271360 non-null  object\n",
      " 7   Image-URL-L          271357 non-null  object\n",
      "dtypes: object(8)\n",
      "memory usage: 16.6+ MB\n"
     ]
    }
   ],
   "source": [
    "# Dataset Info\n",
    "books.info()"
   ]
  },
  {
   "cell_type": "code",
   "execution_count": 9,
   "metadata": {
    "colab": {
     "base_uri": "https://localhost:8080/"
    },
    "id": "ylmlHO4TEYn-",
    "outputId": "d5d5bd8f-0d09-4fba-a7a9-53c1b7dfb9ce"
   },
   "outputs": [
    {
     "name": "stdout",
     "output_type": "stream",
     "text": [
      "<class 'pandas.core.frame.DataFrame'>\n",
      "RangeIndex: 1149780 entries, 0 to 1149779\n",
      "Data columns (total 3 columns):\n",
      " #   Column       Non-Null Count    Dtype \n",
      "---  ------       --------------    ----- \n",
      " 0   User-ID      1149780 non-null  int64 \n",
      " 1   ISBN         1149780 non-null  object\n",
      " 2   Book-Rating  1149780 non-null  int64 \n",
      "dtypes: int64(2), object(1)\n",
      "memory usage: 26.3+ MB\n"
     ]
    }
   ],
   "source": [
    "ratings.info()"
   ]
  },
  {
   "cell_type": "code",
   "execution_count": 10,
   "metadata": {
    "colab": {
     "base_uri": "https://localhost:8080/"
    },
    "id": "AnaHZooMEYkd",
    "outputId": "21e2091a-ade4-4193-f656-fea889183a48"
   },
   "outputs": [
    {
     "name": "stdout",
     "output_type": "stream",
     "text": [
      "<class 'pandas.core.frame.DataFrame'>\n",
      "RangeIndex: 278858 entries, 0 to 278857\n",
      "Data columns (total 3 columns):\n",
      " #   Column    Non-Null Count   Dtype  \n",
      "---  ------    --------------   -----  \n",
      " 0   User-ID   278858 non-null  int64  \n",
      " 1   Location  278858 non-null  object \n",
      " 2   Age       168096 non-null  float64\n",
      "dtypes: float64(1), int64(1), object(1)\n",
      "memory usage: 6.4+ MB\n"
     ]
    }
   ],
   "source": [
    "users.info()"
   ]
  },
  {
   "cell_type": "markdown",
   "metadata": {
    "id": "35m5QtbWiB9F"
   },
   "source": [
    "#### Duplicate Values"
   ]
  },
  {
   "cell_type": "code",
   "execution_count": 11,
   "metadata": {
    "colab": {
     "base_uri": "https://localhost:8080/"
    },
    "id": "1sLdpKYkmox0",
    "outputId": "ddbab421-836b-4b2a-f680-15144cbc5d8f"
   },
   "outputs": [
    {
     "name": "stdout",
     "output_type": "stream",
     "text": [
      "Duplicate Books:\n",
      "0\n",
      "\n",
      "Duplicate Ratings:\n",
      "0\n",
      "\n",
      "Duplicate Users:\n",
      "0\n"
     ]
    }
   ],
   "source": [
    "# Dataset Duplicate Value Count\n",
    "# Function to find duplicates in a dataframe\n",
    "def find_duplicates(df):\n",
    "    duplicate_rows = len(df[df.duplicated()])\n",
    "    return duplicate_rows\n",
    "\n",
    "# Find duplicates in books based\n",
    "duplicate_books = find_duplicates(books)\n",
    "print(\"Duplicate Books:\")\n",
    "print(duplicate_books)\n",
    "\n",
    "# Find duplicates in ratings based\n",
    "duplicate_ratings = find_duplicates(ratings)\n",
    "print(\"\\nDuplicate Ratings:\")\n",
    "print(duplicate_ratings)\n",
    "\n",
    "# Find duplicates in users\n",
    "duplicate_users = find_duplicates(users)\n",
    "print(\"\\nDuplicate Users:\")\n",
    "print(duplicate_users)"
   ]
  },
  {
   "cell_type": "markdown",
   "metadata": {
    "id": "PoPl-ycgm1ru"
   },
   "source": [
    "#### Missing Values/Null Values"
   ]
  },
  {
   "cell_type": "code",
   "execution_count": 12,
   "metadata": {
    "colab": {
     "base_uri": "https://localhost:8080/",
     "height": 143
    },
    "id": "MQnyV6XVHhIc",
    "outputId": "74c03d4f-8b98-4058-e5a3-d8dda3dfb54e"
   },
   "outputs": [
    {
     "data": {
      "text/html": [
       "<div>\n",
       "<style scoped>\n",
       "    .dataframe tbody tr th:only-of-type {\n",
       "        vertical-align: middle;\n",
       "    }\n",
       "\n",
       "    .dataframe tbody tr th {\n",
       "        vertical-align: top;\n",
       "    }\n",
       "\n",
       "    .dataframe thead th {\n",
       "        text-align: right;\n",
       "    }\n",
       "</style>\n",
       "<table border=\"1\" class=\"dataframe\">\n",
       "  <thead>\n",
       "    <tr style=\"text-align: right;\">\n",
       "      <th></th>\n",
       "      <th>Column</th>\n",
       "      <th>Missing Values</th>\n",
       "      <th>Percentage</th>\n",
       "    </tr>\n",
       "  </thead>\n",
       "  <tbody>\n",
       "    <tr>\n",
       "      <th>Book-Author</th>\n",
       "      <td>Book-Author</td>\n",
       "      <td>2</td>\n",
       "      <td>0.000737</td>\n",
       "    </tr>\n",
       "    <tr>\n",
       "      <th>Publisher</th>\n",
       "      <td>Publisher</td>\n",
       "      <td>2</td>\n",
       "      <td>0.000737</td>\n",
       "    </tr>\n",
       "    <tr>\n",
       "      <th>Image-URL-L</th>\n",
       "      <td>Image-URL-L</td>\n",
       "      <td>3</td>\n",
       "      <td>0.001106</td>\n",
       "    </tr>\n",
       "  </tbody>\n",
       "</table>\n",
       "</div>"
      ],
      "text/plain": [
       "                  Column  Missing Values  Percentage\n",
       "Book-Author  Book-Author               2    0.000737\n",
       "Publisher      Publisher               2    0.000737\n",
       "Image-URL-L  Image-URL-L               3    0.001106"
      ]
     },
     "execution_count": 12,
     "metadata": {},
     "output_type": "execute_result"
    }
   ],
   "source": [
    "def find_missing_values(df):\n",
    "    \"\"\"\n",
    "    Find missing values in a DataFrame and return a DataFrame showing columns with missing values\n",
    "    and the corresponding count of missing values.\n",
    "\n",
    "    Parameters:\n",
    "    - df: DataFrame\n",
    "\n",
    "    Returns:\n",
    "    - missing_values_df: DataFrame\n",
    "    \"\"\"\n",
    "    # Count the missing values for each column\n",
    "    missing_values = df.isnull().sum()\n",
    "\n",
    "    # Create a DataFrame to display missing values information\n",
    "    missing_values_df = pd.DataFrame({\n",
    "        'Column': missing_values.index,\n",
    "        'Missing Values': missing_values.values,\n",
    "        'Percentage': (missing_values / len(df)) * 100\n",
    "    })\n",
    "\n",
    "    # Filter columns with missing values\n",
    "    missing_values_df = missing_values_df[missing_values_df['Missing Values'] > 0]\n",
    "\n",
    "    return missing_values_df\n",
    "\n",
    "books_missing_values = find_missing_values(books)\n",
    "books_missing_values"
   ]
  },
  {
   "cell_type": "code",
   "execution_count": 13,
   "metadata": {
    "colab": {
     "base_uri": "https://localhost:8080/",
     "height": 89
    },
    "id": "sM50NkWJIFFD",
    "outputId": "ea0dbbb1-3085-40ac-ee6c-61cf17468b5f"
   },
   "outputs": [
    {
     "data": {
      "text/html": [
       "<div>\n",
       "<style scoped>\n",
       "    .dataframe tbody tr th:only-of-type {\n",
       "        vertical-align: middle;\n",
       "    }\n",
       "\n",
       "    .dataframe tbody tr th {\n",
       "        vertical-align: top;\n",
       "    }\n",
       "\n",
       "    .dataframe thead th {\n",
       "        text-align: right;\n",
       "    }\n",
       "</style>\n",
       "<table border=\"1\" class=\"dataframe\">\n",
       "  <thead>\n",
       "    <tr style=\"text-align: right;\">\n",
       "      <th></th>\n",
       "      <th>Column</th>\n",
       "      <th>Missing Values</th>\n",
       "      <th>Percentage</th>\n",
       "    </tr>\n",
       "  </thead>\n",
       "  <tbody>\n",
       "  </tbody>\n",
       "</table>\n",
       "</div>"
      ],
      "text/plain": [
       "Empty DataFrame\n",
       "Columns: [Column, Missing Values, Percentage]\n",
       "Index: []"
      ]
     },
     "execution_count": 13,
     "metadata": {},
     "output_type": "execute_result"
    }
   ],
   "source": [
    "ratings_missing_values = find_missing_values(ratings)\n",
    "ratings_missing_values"
   ]
  },
  {
   "cell_type": "code",
   "execution_count": 14,
   "metadata": {
    "colab": {
     "base_uri": "https://localhost:8080/",
     "height": 89
    },
    "id": "F7RrtKTUIFBK",
    "outputId": "1ec4e192-959d-453b-be06-6fa38a8ece6b"
   },
   "outputs": [
    {
     "data": {
      "text/html": [
       "<div>\n",
       "<style scoped>\n",
       "    .dataframe tbody tr th:only-of-type {\n",
       "        vertical-align: middle;\n",
       "    }\n",
       "\n",
       "    .dataframe tbody tr th {\n",
       "        vertical-align: top;\n",
       "    }\n",
       "\n",
       "    .dataframe thead th {\n",
       "        text-align: right;\n",
       "    }\n",
       "</style>\n",
       "<table border=\"1\" class=\"dataframe\">\n",
       "  <thead>\n",
       "    <tr style=\"text-align: right;\">\n",
       "      <th></th>\n",
       "      <th>Column</th>\n",
       "      <th>Missing Values</th>\n",
       "      <th>Percentage</th>\n",
       "    </tr>\n",
       "  </thead>\n",
       "  <tbody>\n",
       "    <tr>\n",
       "      <th>Age</th>\n",
       "      <td>Age</td>\n",
       "      <td>110762</td>\n",
       "      <td>39.719857</td>\n",
       "    </tr>\n",
       "  </tbody>\n",
       "</table>\n",
       "</div>"
      ],
      "text/plain": [
       "    Column  Missing Values  Percentage\n",
       "Age    Age          110762   39.719857"
      ]
     },
     "execution_count": 14,
     "metadata": {},
     "output_type": "execute_result"
    }
   ],
   "source": [
    "users_missing_values = find_missing_values(users)\n",
    "users_missing_values"
   ]
  },
  {
   "cell_type": "code",
   "execution_count": 15,
   "metadata": {
    "colab": {
     "base_uri": "https://localhost:8080/"
    },
    "id": "CmXo-IcWKbEL",
    "outputId": "f62984d9-274e-468a-ced3-03cc93fc0494"
   },
   "outputs": [
    {
     "name": "stdout",
     "output_type": "stream",
     "text": [
      "books missing values:                    Column  Missing Values  Percentage\n",
      "Book-Author  Book-Author               2    0.000737\n",
      "Publisher      Publisher               2    0.000737\n",
      "Image-URL-L  Image-URL-L               3    0.001106\n",
      "ratings missing values Empty DataFrame\n",
      "Columns: [Column, Missing Values, Percentage]\n",
      "Index: []\n",
      "users missing values     Column  Missing Values  Percentage\n",
      "Age    Age          110762   39.719857\n"
     ]
    }
   ],
   "source": [
    "print(\"books missing values: \",books_missing_values)\n",
    "print(\"ratings missing values\",ratings_missing_values)\n",
    "print(\"users missing values\",users_missing_values)"
   ]
  },
  {
   "cell_type": "code",
   "execution_count": 16,
   "metadata": {
    "colab": {
     "base_uri": "https://localhost:8080/",
     "height": 455
    },
    "id": "3q5wnI3om9sJ",
    "outputId": "04762cd5-062e-479d-9c8a-d7489fe1280b"
   },
   "outputs": [
    {
     "data": {
      "text/plain": [
       "<Axes: >"
      ]
     },
     "execution_count": 16,
     "metadata": {},
     "output_type": "execute_result"
    },
    {
     "data": {
      "image/png": "[encoded data removed]",
      "text/plain": [
       "<Figure size 640x480 with 1 Axes>"
      ]
     },
     "metadata": {},
     "output_type": "display_data"
    }
   ],
   "source": [
    "# Visualizing the missing values\n",
    "sns.heatmap(users.isnull(), cbar=False)"
   ]
  },
  {
   "cell_type": "markdown",
   "metadata": {
    "id": "H0kj-8xxnORC"
   },
   "source": [
    "### What did you know about your dataset?"
   ]
  },
  {
   "cell_type": "markdown",
   "metadata": {
    "id": "gfoNAAC-nUe_"
   },
   "source": [
    "**Dataset Overview for Books Recommendation System:**\n",
    "\n",
    "1. **Dataset Size:**\n",
    "   - Books Dataset: 271,360 rows, 8 columns\n",
    "   - Ratings Dataset: 1,149,780 rows, 3 columns\n",
    "   - Users Dataset: 278,858 rows, 3 columns\n",
    "\n",
    "2. **Duplicate Values:**\n",
    "   - Duplicate Books: 0\n",
    "   - Duplicate Ratings: 0\n",
    "   - Duplicate Users: 0\n",
    "\n",
    "3. **Missing Values:**\n",
    "   - Books Dataset:\n",
    "      - Book-Author: 1 missing value (0.0004%)\n",
    "      - Publisher: 2 missing values (0.0007%)\n",
    "      - Image-URL-L: 3 missing values (0.0011%)\n",
    "   - Users Dataset:\n",
    "      - Age: 110,762 missing values (39.72%)\n",
    "\n",
    "**Conclusion:**\n",
    "   The dataset for the Books Recommendation System appears to be substantial, with a considerable number of users. There are minimal missing values in the books dataset, primarily in non-critical columns like Book-Author, Publisher, and Image-URL-L. However, the users dataset has a significant percentage of missing values in the Age column (39.72%). No duplicate values were found, ensuring data integrity. Further exploration and preprocessing will be essential, especially addressing missing age values in the users dataset for a more robust recommendation system."
   ]
  },
  {
   "cell_type": "markdown",
   "metadata": {
    "id": "nA9Y7ga8ng1Z"
   },
   "source": [
    "## ***2. Understanding Your Variables***"
   ]
  },
  {
   "cell_type": "code",
   "execution_count": 17,
   "metadata": {
    "colab": {
     "base_uri": "https://localhost:8080/"
    },
    "id": "j7xfkqrt5Ag5",
    "outputId": "bd5a5a2c-1902-495a-e7c5-3619a7b4802a"
   },
   "outputs": [
    {
     "name": "stdout",
     "output_type": "stream",
     "text": [
      "Index(['ISBN', 'Book-Title', 'Book-Author', 'Year-Of-Publication', 'Publisher',\n",
      "       'Image-URL-S', 'Image-URL-M', 'Image-URL-L'],\n",
      "      dtype='object')\n",
      "Index(['User-ID', 'ISBN', 'Book-Rating'], dtype='object')\n",
      "Index(['User-ID', 'Location', 'Age'], dtype='object')\n"
     ]
    }
   ],
   "source": [
    "# Dataset Columns\n",
    "def label_columns(df):\n",
    "  print(df.columns)\n",
    "\n",
    "label_columns(books)\n",
    "label_columns(ratings)\n",
    "label_columns(users)"
   ]
  },
  {
   "cell_type": "code",
   "execution_count": 18,
   "metadata": {
    "colab": {
     "base_uri": "https://localhost:8080/",
     "height": 175
    },
    "id": "DnOaZdaE5Q5t",
    "outputId": "7b419d02-dd3d-4baa-dab9-00a033f8318d"
   },
   "outputs": [
    {
     "data": {
      "text/html": [
       "<div>\n",
       "<style scoped>\n",
       "    .dataframe tbody tr th:only-of-type {\n",
       "        vertical-align: middle;\n",
       "    }\n",
       "\n",
       "    .dataframe tbody tr th {\n",
       "        vertical-align: top;\n",
       "    }\n",
       "\n",
       "    .dataframe thead th {\n",
       "        text-align: right;\n",
       "    }\n",
       "</style>\n",
       "<table border=\"1\" class=\"dataframe\">\n",
       "  <thead>\n",
       "    <tr style=\"text-align: right;\">\n",
       "      <th></th>\n",
       "      <th>ISBN</th>\n",
       "      <th>Book-Title</th>\n",
       "      <th>Book-Author</th>\n",
       "      <th>Year-Of-Publication</th>\n",
       "      <th>Publisher</th>\n",
       "      <th>Image-URL-S</th>\n",
       "      <th>Image-URL-M</th>\n",
       "      <th>Image-URL-L</th>\n",
       "    </tr>\n",
       "  </thead>\n",
       "  <tbody>\n",
       "    <tr>\n",
       "      <th>count</th>\n",
       "      <td>271360</td>\n",
       "      <td>271360</td>\n",
       "      <td>271358</td>\n",
       "      <td>271360</td>\n",
       "      <td>271358</td>\n",
       "      <td>271360</td>\n",
       "      <td>271360</td>\n",
       "      <td>271357</td>\n",
       "    </tr>\n",
       "    <tr>\n",
       "      <th>unique</th>\n",
       "      <td>271360</td>\n",
       "      <td>242135</td>\n",
       "      <td>102022</td>\n",
       "      <td>202</td>\n",
       "      <td>16807</td>\n",
       "      <td>271044</td>\n",
       "      <td>271044</td>\n",
       "      <td>271041</td>\n",
       "    </tr>\n",
       "    <tr>\n",
       "      <th>top</th>\n",
       "      <td>020130998X</td>\n",
       "      <td>Selected Poems</td>\n",
       "      <td>Agatha Christie</td>\n",
       "      <td>2002</td>\n",
       "      <td>Harlequin</td>\n",
       "      <td>http://images.amazon.com/images/P/155936078X.0...</td>\n",
       "      <td>http://images.amazon.com/images/P/155936078X.0...</td>\n",
       "      <td>http://images.amazon.com/images/P/155936078X.0...</td>\n",
       "    </tr>\n",
       "    <tr>\n",
       "      <th>freq</th>\n",
       "      <td>1</td>\n",
       "      <td>27</td>\n",
       "      <td>632</td>\n",
       "      <td>13903</td>\n",
       "      <td>7535</td>\n",
       "      <td>2</td>\n",
       "      <td>2</td>\n",
       "      <td>2</td>\n",
       "    </tr>\n",
       "  </tbody>\n",
       "</table>\n",
       "</div>"
      ],
      "text/plain": [
       "              ISBN      Book-Title      Book-Author  Year-Of-Publication  \\\n",
       "count       271360          271360           271358               271360   \n",
       "unique      271360          242135           102022                  202   \n",
       "top     020130998X  Selected Poems  Agatha Christie                 2002   \n",
       "freq             1              27              632                13903   \n",
       "\n",
       "        Publisher                                        Image-URL-S  \\\n",
       "count      271358                                             271360   \n",
       "unique      16807                                             271044   \n",
       "top     Harlequin  http://images.amazon.com/images/P/155936078X.0...   \n",
       "freq         7535                                                  2   \n",
       "\n",
       "                                              Image-URL-M  \\\n",
       "count                                              271360   \n",
       "unique                                             271044   \n",
       "top     http://images.amazon.com/images/P/155936078X.0...   \n",
       "freq                                                    2   \n",
       "\n",
       "                                              Image-URL-L  \n",
       "count                                              271357  \n",
       "unique                                             271041  \n",
       "top     http://images.amazon.com/images/P/155936078X.0...  \n",
       "freq                                                    2  "
      ]
     },
     "execution_count": 18,
     "metadata": {},
     "output_type": "execute_result"
    }
   ],
   "source": [
    "# Dataset Describe\n",
    "books.describe()"
   ]
  },
  {
   "cell_type": "code",
   "execution_count": 19,
   "metadata": {
    "colab": {
     "base_uri": "https://localhost:8080/",
     "height": 300
    },
    "id": "dLEKIe6INvUV",
    "outputId": "998206ed-2e4e-4fb5-e5a4-b0d414b05e0d"
   },
   "outputs": [
    {
     "data": {
      "text/html": [
       "<div>\n",
       "<style scoped>\n",
       "    .dataframe tbody tr th:only-of-type {\n",
       "        vertical-align: middle;\n",
       "    }\n",
       "\n",
       "    .dataframe tbody tr th {\n",
       "        vertical-align: top;\n",
       "    }\n",
       "\n",
       "    .dataframe thead th {\n",
       "        text-align: right;\n",
       "    }\n",
       "</style>\n",
       "<table border=\"1\" class=\"dataframe\">\n",
       "  <thead>\n",
       "    <tr style=\"text-align: right;\">\n",
       "      <th></th>\n",
       "      <th>User-ID</th>\n",
       "      <th>Book-Rating</th>\n",
       "    </tr>\n",
       "  </thead>\n",
       "  <tbody>\n",
       "    <tr>\n",
       "      <th>count</th>\n",
       "      <td>1.149780e+06</td>\n",
       "      <td>1.149780e+06</td>\n",
       "    </tr>\n",
       "    <tr>\n",
       "      <th>mean</th>\n",
       "      <td>1.403864e+05</td>\n",
       "      <td>2.866950e+00</td>\n",
       "    </tr>\n",
       "    <tr>\n",
       "      <th>std</th>\n",
       "      <td>8.056228e+04</td>\n",
       "      <td>3.854184e+00</td>\n",
       "    </tr>\n",
       "    <tr>\n",
       "      <th>min</th>\n",
       "      <td>2.000000e+00</td>\n",
       "      <td>0.000000e+00</td>\n",
       "    </tr>\n",
       "    <tr>\n",
       "      <th>25%</th>\n",
       "      <td>7.034500e+04</td>\n",
       "      <td>0.000000e+00</td>\n",
       "    </tr>\n",
       "    <tr>\n",
       "      <th>50%</th>\n",
       "      <td>1.410100e+05</td>\n",
       "      <td>0.000000e+00</td>\n",
       "    </tr>\n",
       "    <tr>\n",
       "      <th>75%</th>\n",
       "      <td>2.110280e+05</td>\n",
       "      <td>7.000000e+00</td>\n",
       "    </tr>\n",
       "    <tr>\n",
       "      <th>max</th>\n",
       "      <td>2.788540e+05</td>\n",
       "      <td>1.000000e+01</td>\n",
       "    </tr>\n",
       "  </tbody>\n",
       "</table>\n",
       "</div>"
      ],
      "text/plain": [
       "            User-ID   Book-Rating\n",
       "count  1.149780e+06  1.149780e+06\n",
       "mean   1.403864e+05  2.866950e+00\n",
       "std    8.056228e+04  3.854184e+00\n",
       "min    2.000000e+00  0.000000e+00\n",
       "25%    7.034500e+04  0.000000e+00\n",
       "50%    1.410100e+05  0.000000e+00\n",
       "75%    2.110280e+05  7.000000e+00\n",
       "max    2.788540e+05  1.000000e+01"
      ]
     },
     "execution_count": 19,
     "metadata": {},
     "output_type": "execute_result"
    }
   ],
   "source": [
    "ratings.describe()"
   ]
  },
  {
   "cell_type": "code",
   "execution_count": 20,
   "metadata": {
    "colab": {
     "base_uri": "https://localhost:8080/",
     "height": 300
    },
    "id": "ztClURf6NvOy",
    "outputId": "0ace9c61-a183-47a2-ad3f-2d0f0fc83040"
   },
   "outputs": [
    {
     "data": {
      "text/html": [
       "<div>\n",
       "<style scoped>\n",
       "    .dataframe tbody tr th:only-of-type {\n",
       "        vertical-align: middle;\n",
       "    }\n",
       "\n",
       "    .dataframe tbody tr th {\n",
       "        vertical-align: top;\n",
       "    }\n",
       "\n",
       "    .dataframe thead th {\n",
       "        text-align: right;\n",
       "    }\n",
       "</style>\n",
       "<table border=\"1\" class=\"dataframe\">\n",
       "  <thead>\n",
       "    <tr style=\"text-align: right;\">\n",
       "      <th></th>\n",
       "      <th>User-ID</th>\n",
       "      <th>Age</th>\n",
       "    </tr>\n",
       "  </thead>\n",
       "  <tbody>\n",
       "    <tr>\n",
       "      <th>count</th>\n",
       "      <td>278858.00000</td>\n",
       "      <td>168096.000000</td>\n",
       "    </tr>\n",
       "    <tr>\n",
       "      <th>mean</th>\n",
       "      <td>139429.50000</td>\n",
       "      <td>34.751434</td>\n",
       "    </tr>\n",
       "    <tr>\n",
       "      <th>std</th>\n",
       "      <td>80499.51502</td>\n",
       "      <td>14.428097</td>\n",
       "    </tr>\n",
       "    <tr>\n",
       "      <th>min</th>\n",
       "      <td>1.00000</td>\n",
       "      <td>0.000000</td>\n",
       "    </tr>\n",
       "    <tr>\n",
       "      <th>25%</th>\n",
       "      <td>69715.25000</td>\n",
       "      <td>24.000000</td>\n",
       "    </tr>\n",
       "    <tr>\n",
       "      <th>50%</th>\n",
       "      <td>139429.50000</td>\n",
       "      <td>32.000000</td>\n",
       "    </tr>\n",
       "    <tr>\n",
       "      <th>75%</th>\n",
       "      <td>209143.75000</td>\n",
       "      <td>44.000000</td>\n",
       "    </tr>\n",
       "    <tr>\n",
       "      <th>max</th>\n",
       "      <td>278858.00000</td>\n",
       "      <td>244.000000</td>\n",
       "    </tr>\n",
       "  </tbody>\n",
       "</table>\n",
       "</div>"
      ],
      "text/plain": [
       "            User-ID            Age\n",
       "count  278858.00000  168096.000000\n",
       "mean   139429.50000      34.751434\n",
       "std     80499.51502      14.428097\n",
       "min         1.00000       0.000000\n",
       "25%     69715.25000      24.000000\n",
       "50%    139429.50000      32.000000\n",
       "75%    209143.75000      44.000000\n",
       "max    278858.00000     244.000000"
      ]
     },
     "execution_count": 20,
     "metadata": {},
     "output_type": "execute_result"
    }
   ],
   "source": [
    "users.describe()"
   ]
  },
  {
   "cell_type": "markdown",
   "metadata": {
    "id": "PBTbrJXOngz2"
   },
   "source": [
    "### **Variables Description**"
   ]
  },
  {
   "cell_type": "markdown",
   "metadata": {
    "id": "aJV4KIxSnxay"
   },
   "source": [
    "### **Books Dataset Description:**\n",
    "\n",
    "1. **ISBN (International Standard Book Number):**\n",
    "   - A unique identifier for books.\n",
    "   - Facilitates the efficient organization and retrieval of books in databases.\n",
    "\n",
    "2. **Book-Title:**\n",
    "   - Represents the title or name of the book.\n",
    "   - Essential for identifying and displaying the book's name in the recommendation system.\n",
    "\n",
    "3. **Book-Author:**\n",
    "   - Specifies the author or authors of the book.\n",
    "   - Important for recognizing and categorizing books based on the author's contribution.\n",
    "\n",
    "4. **Year-Of-Publication:**\n",
    "   - Indicates the year when the book was published.\n",
    "   - Useful for chronological sorting and understanding the book's temporal context.\n",
    "\n",
    "5. **Publisher:**\n",
    "   - Specifies the entity responsible for publishing the book.\n",
    "   - Provides information about the source and production of the book.\n",
    "\n",
    "6. **Image-URL-S, Image-URL-M, Image-URL-L:**\n",
    "   - URLs providing links to images of different sizes related to the book.\n",
    "   - May include small, medium, and large-sized images for visual representation.\n",
    "\n",
    "**Note:** The Image URLs could be utilized for incorporating cover images in the recommendation system, enhancing the user's visual experience.\n",
    "\n",
    "**-------------------------------------------------------------------------------------------------------------------------------------------------------------**\n",
    "### **Ratings Dataset Description:**\n",
    "\n",
    "1. **User-ID:**\n",
    "   - A unique identifier for users in the system.\n",
    "   - Corresponds to the User-ID in the Users dataset, allowing the linkage of ratings to specific users.\n",
    "\n",
    "2. **ISBN:**\n",
    "   - Stands for International Standard Book Number, a unique identifier for books.\n",
    "   - Used to associate each rating with a specific book in the Books dataset.\n",
    "\n",
    "3. **Book-Rating:**\n",
    "   - Represents the rating given by a user to a particular book.\n",
    "   - Typically on a numerical scale, indicating the user's preference or satisfaction with the book.\n",
    "\n",
    "**-------------------------------------------------------------------------------------------------------------------------------------------------------------**   \n",
    "\n",
    "### **Users Dataset Description:**\n",
    "\n",
    "1. **User-ID:**\n",
    "   - A unique identifier for users in the system.\n",
    "   - Serves as a key field to associate user-related information with their activities, such as ratings or reviews.\n",
    "\n",
    "2. **Location:**\n",
    "   - Represents the geographical location or address of the user.\n",
    "   - Location data can provide insights into user demographics and preferences.\n",
    "\n",
    "3. **Age:**\n",
    "   - Represents the age of the user.\n",
    "   - Used to understand the age distribution of users and potentially tailor recommendations based on age groups.\n"
   ]
  },
  {
   "cell_type": "markdown",
   "metadata": {
    "id": "u3PMJOP6ngxN"
   },
   "source": [
    "### Check Unique Values for each variable."
   ]
  },
  {
   "cell_type": "code",
   "execution_count": 21,
   "metadata": {
    "colab": {
     "base_uri": "https://localhost:8080/"
    },
    "id": "zms12Yq5n-jE",
    "outputId": "92728654-0045-48f2-d52d-2de082849833"
   },
   "outputs": [
    {
     "name": "stdout",
     "output_type": "stream",
     "text": [
      "ISBN                   [0195153448, 0002005018, 0060973129, 037415706...\n",
      "Book-Title             [Classical Mythology, Clara Callan, Decision i...\n",
      "Book-Author            [Mark P. O. Morford, Richard Bruce Wright, Car...\n",
      "Year-Of-Publication    [2002, 2001, 1991, 1999, 2000, 1993, 1996, 198...\n",
      "Publisher              [Oxford University Press, HarperFlamingo Canad...\n",
      "Image-URL-S            [http://images.amazon.com/images/P/0195153448....\n",
      "Image-URL-M            [http://images.amazon.com/images/P/0195153448....\n",
      "Image-URL-L            [http://images.amazon.com/images/P/0195153448....\n",
      "dtype: object\n",
      "ISBN                   271360\n",
      "Book-Title             242135\n",
      "Book-Author            102022\n",
      "Year-Of-Publication       202\n",
      "Publisher               16807\n",
      "Image-URL-S            271044\n",
      "Image-URL-M            271044\n",
      "Image-URL-L            271041\n",
      "dtype: int64\n"
     ]
    }
   ],
   "source": [
    "# Check Unique Values for each variable.\n",
    "print(books.apply(lambda col:col.unique()))\n",
    "unique_counts = books.nunique()\n",
    "print(unique_counts)"
   ]
  },
  {
   "cell_type": "code",
   "execution_count": 22,
   "metadata": {
    "colab": {
     "base_uri": "https://localhost:8080/"
    },
    "id": "-vyiO9eub33R",
    "outputId": "1e2405e3-b633-4375-d560-e2ed98d79cd4"
   },
   "outputs": [
    {
     "name": "stdout",
     "output_type": "stream",
     "text": [
      "User-ID        [276725, 276726, 276727, 276729, 276733, 27673...\n",
      "ISBN           [034545104X, 0155061224, 0446520802, 052165615...\n",
      "Book-Rating                   [0, 5, 3, 6, 8, 7, 10, 9, 4, 1, 2]\n",
      "dtype: object\n",
      "User-ID        105283\n",
      "ISBN           340556\n",
      "Book-Rating        11\n",
      "dtype: int64\n"
     ]
    }
   ],
   "source": [
    "print(ratings.apply(lambda col:col.unique()))\n",
    "unique_counts = ratings.nunique()\n",
    "print(unique_counts)"
   ]
  },
  {
   "cell_type": "code",
   "execution_count": 23,
   "metadata": {
    "colab": {
     "base_uri": "https://localhost:8080/"
    },
    "id": "xQ1jDLkgb3zU",
    "outputId": "aaf8bdd0-f874-4096-ed29-7615519df2d7"
   },
   "outputs": [
    {
     "name": "stdout",
     "output_type": "stream",
     "text": [
      "User-ID     [1, 2, 3, 4, 5, 6, 7, 8, 9, 10, 11, 12, 13, 14...\n",
      "Location    [nyc, new york, usa, stockton, california, usa...\n",
      "Age         [nan, 18.0, 17.0, 61.0, 26.0, 14.0, 25.0, 19.0...\n",
      "dtype: object\n",
      "User-ID     278858\n",
      "Location     57339\n",
      "Age            165\n",
      "dtype: int64\n"
     ]
    }
   ],
   "source": [
    "print(users.apply(lambda col:col.unique()))\n",
    "unique_counts = users.nunique()\n",
    "print(unique_counts)"
   ]
  },
  {
   "cell_type": "markdown",
   "metadata": {
    "id": "dauF4eBmngu3"
   },
   "source": [
    "## ***3.Data Wrangling***"
   ]
  },
  {
   "cell_type": "markdown",
   "metadata": {
    "id": "bKJF3rekwFvQ"
   },
   "source": [
    "### Data Wrangling Code"
   ]
  },
  {
   "cell_type": "markdown",
   "metadata": {
    "id": "HVkGMOy-Fr25"
   },
   "source": [
    "**Converting 'Year-of-Publication' column to int type**"
   ]
  },
  {
   "cell_type": "code",
   "execution_count": 24,
   "metadata": {
    "colab": {
     "base_uri": "https://localhost:8080/"
    },
    "id": "a62Zu0pjFBhF",
    "outputId": "d7078527-9d53-4a6c-f65e-fc38e183df49"
   },
   "outputs": [
    {
     "name": "stdout",
     "output_type": "stream",
     "text": [
      "Numeric values found in the column.\n",
      "Numeric entries: 209538    2000.0\n",
      "220731    2003.0\n",
      "221678    2000.0\n",
      "Name: Book-Author, dtype: float64\n"
     ]
    }
   ],
   "source": [
    "numeric_values = pd.to_numeric(books['Book-Author'], errors='coerce')\n",
    "\n",
    "# Get the non-null entries (numeric values)\n",
    "numeric_entries = numeric_values.dropna()\n",
    "\n",
    "# Check if there are any numeric values in the column\n",
    "if not numeric_entries.empty:\n",
    "    print(\"Numeric values found in the column.\")\n",
    "    print(\"Numeric entries:\", numeric_entries)\n",
    "else:\n",
    "    print(\"No numeric values found in the column.\")"
   ]
  },
  {
   "cell_type": "code",
   "execution_count": 25,
   "metadata": {
    "colab": {
     "base_uri": "https://localhost:8080/"
    },
    "id": "-b8Od88-ERpD",
    "outputId": "5803aaed-3700-4f52-b571-3976c64c201c"
   },
   "outputs": [
    {
     "name": "stdout",
     "output_type": "stream",
     "text": [
      "Non-numeric values found in the column.\n",
      "Non-numeric entries: 209538    DK Publishing Inc\n",
      "220731            Gallimard\n",
      "221678    DK Publishing Inc\n",
      "Name: Year-Of-Publication, dtype: object\n"
     ]
    }
   ],
   "source": [
    "# Assuming 'column_name' is the column you want to check\n",
    "non_numeric_values = pd.to_numeric(books['Year-Of-Publication'], errors='coerce')\n",
    "\n",
    "# Get the non-null entries (non-numeric values)\n",
    "non_numeric_entries = books['Year-Of-Publication'][non_numeric_values.isna()]\n",
    "\n",
    "# Check if there are any non-numeric values in the column\n",
    "if not non_numeric_entries.empty:\n",
    "    print(\"Non-numeric values found in the column.\")\n",
    "    print(\"Non-numeric entries:\", non_numeric_entries)\n",
    "else:\n",
    "    print(\"No non-numeric values found in the column.\")"
   ]
  },
  {
   "cell_type": "code",
   "execution_count": 26,
   "metadata": {
    "colab": {
     "base_uri": "https://localhost:8080/"
    },
    "id": "cVuWVD1XMweU",
    "outputId": "ad3721fc-de63-4734-adc5-6a01fffb5435"
   },
   "outputs": [
    {
     "data": {
      "text/plain": [
       "(271360, 8)"
      ]
     },
     "execution_count": 26,
     "metadata": {},
     "output_type": "execute_result"
    }
   ],
   "source": [
    "books.shape"
   ]
  },
  {
   "cell_type": "code",
   "execution_count": 27,
   "metadata": {
    "colab": {
     "base_uri": "https://localhost:8080/"
    },
    "id": "DxTI45JeMUx2",
    "outputId": "7c24c9a1-0677-459a-f4cb-b23708bb56e8"
   },
   "outputs": [
    {
     "name": "stdout",
     "output_type": "stream",
     "text": [
      "<class 'pandas.core.frame.DataFrame'>\n",
      "RangeIndex: 271360 entries, 0 to 271359\n",
      "Data columns (total 8 columns):\n",
      " #   Column               Non-Null Count   Dtype \n",
      "---  ------               --------------   ----- \n",
      " 0   ISBN                 271360 non-null  object\n",
      " 1   Book-Title           271360 non-null  object\n",
      " 2   Book-Author          271358 non-null  object\n",
      " 3   Year-Of-Publication  271360 non-null  object\n",
      " 4   Publisher            271358 non-null  object\n",
      " 5   Image-URL-S          271360 non-null  object\n",
      " 6   Image-URL-M          271360 non-null  object\n",
      " 7   Image-URL-L          271357 non-null  object\n",
      "dtypes: object(8)\n",
      "memory usage: 16.6+ MB\n"
     ]
    }
   ],
   "source": [
    "books.info()"
   ]
  },
  {
   "cell_type": "code",
   "execution_count": 28,
   "metadata": {
    "colab": {
     "base_uri": "https://localhost:8080/"
    },
    "id": "BYj0s-vHMufV",
    "outputId": "40053f2a-ff15-4545-de38-782618ae5310"
   },
   "outputs": [],
   "source": [
    "# Remove rows with non-numeric values from 'Year-Of-Publication'\n",
    "books = books[~non_numeric_values.isna()]\n",
    "\n",
    "# Convert 'Year-Of-Publication' to numeric\n",
    "books['Year-Of-Publication'] = pd.to_numeric(books['Year-Of-Publication'], errors='coerce')\n"
   ]
  },
  {
   "cell_type": "code",
   "execution_count": 29,
   "metadata": {
    "colab": {
     "base_uri": "https://localhost:8080/"
    },
    "id": "LnJEqQkvM0cV",
    "outputId": "4a985fa6-1ca5-4d10-b284-e422096ac007"
   },
   "outputs": [
    {
     "data": {
      "text/plain": [
       "(271357, 8)"
      ]
     },
     "execution_count": 29,
     "metadata": {},
     "output_type": "execute_result"
    }
   ],
   "source": [
    "books.shape"
   ]
  },
  {
   "cell_type": "code",
   "execution_count": 30,
   "metadata": {
    "colab": {
     "base_uri": "https://localhost:8080/"
    },
    "id": "QzAVKTG0KZ94",
    "outputId": "3b973924-9919-4da5-a0b2-6c3c790ecfed"
   },
   "outputs": [],
   "source": [
    "books['Year-Of-Publication'] = books['Year-Of-Publication'].astype(int)"
   ]
  },
  {
   "cell_type": "markdown",
   "metadata": {
    "id": "MSa1f5Uengrz"
   },
   "source": [
    "### What all manipulations have you done and insights you found?"
   ]
  },
  {
   "cell_type": "markdown",
   "metadata": {
    "id": "LbyXE7I1olp8"
   },
   "source": [
    "* The \"Year-of-Publication\" column and \"Book-Author\" columnn had 3 misplaced rows , so I removed those 3 rows so I could convert the \"Year-of-Publication\" column to integer type for further analysis on the dataset.\n",
    "\n",
    "* After that, I merged the books dataset with ratings dataset in order to count the number of ratings per book by the users.\n",
    "\n",
    "* Then I also created a column to get the average rating of per book and then merged the count and average column to the dataset.\n",
    "\n",
    "* I created a new variable of 'popular_df' where I have only selected the books that have ratings more than and and equal to 250, this shows us the most popular books which will help in making a high quality recommendation system of only popular books, as the less popular books have less or no ratings which will reduce the quality of our recommendation system."
   ]
  },
  {
   "cell_type": "markdown",
   "metadata": {
    "id": "7vsfCltDLPYl"
   },
   "source": [
    "**Popularity based data manipulation**"
   ]
  },
  {
   "cell_type": "code",
   "execution_count": 31,
   "metadata": {
    "id": "wk-9a2fpoLcV"
   },
   "outputs": [],
   "source": [
    "# Popularity based data manipulation\n",
    "ratings_with_name = ratings.merge(books,on='ISBN')"
   ]
  },
  {
   "cell_type": "code",
   "execution_count": 32,
   "metadata": {
    "colab": {
     "base_uri": "https://localhost:8080/",
     "height": 423
    },
    "id": "pFsHyVKodxP7",
    "outputId": "e133f572-dcb8-4431-fe5e-a8153a0f00c7"
   },
   "outputs": [
    {
     "data": {
      "text/html": [
       "<div>\n",
       "<style scoped>\n",
       "    .dataframe tbody tr th:only-of-type {\n",
       "        vertical-align: middle;\n",
       "    }\n",
       "\n",
       "    .dataframe tbody tr th {\n",
       "        vertical-align: top;\n",
       "    }\n",
       "\n",
       "    .dataframe thead th {\n",
       "        text-align: right;\n",
       "    }\n",
       "</style>\n",
       "<table border=\"1\" class=\"dataframe\">\n",
       "  <thead>\n",
       "    <tr style=\"text-align: right;\">\n",
       "      <th></th>\n",
       "      <th>Book-Title</th>\n",
       "      <th>num_ratings</th>\n",
       "    </tr>\n",
       "  </thead>\n",
       "  <tbody>\n",
       "    <tr>\n",
       "      <th>0</th>\n",
       "      <td>A Light in the Storm: The Civil War Diary of ...</td>\n",
       "      <td>4</td>\n",
       "    </tr>\n",
       "    <tr>\n",
       "      <th>1</th>\n",
       "      <td>Always Have Popsicles</td>\n",
       "      <td>1</td>\n",
       "    </tr>\n",
       "    <tr>\n",
       "      <th>2</th>\n",
       "      <td>Apple Magic (The Collector's series)</td>\n",
       "      <td>1</td>\n",
       "    </tr>\n",
       "    <tr>\n",
       "      <th>3</th>\n",
       "      <td>Ask Lily (Young Women of Faith: Lily Series, ...</td>\n",
       "      <td>1</td>\n",
       "    </tr>\n",
       "    <tr>\n",
       "      <th>4</th>\n",
       "      <td>Beyond IBM: Leadership Marketing and Finance ...</td>\n",
       "      <td>1</td>\n",
       "    </tr>\n",
       "    <tr>\n",
       "      <th>...</th>\n",
       "      <td>...</td>\n",
       "      <td>...</td>\n",
       "    </tr>\n",
       "    <tr>\n",
       "      <th>241063</th>\n",
       "      <td>Ã?Â?lpiraten.</td>\n",
       "      <td>2</td>\n",
       "    </tr>\n",
       "    <tr>\n",
       "      <th>241064</th>\n",
       "      <td>Ã?Â?rger mit Produkt X. Roman.</td>\n",
       "      <td>4</td>\n",
       "    </tr>\n",
       "    <tr>\n",
       "      <th>241065</th>\n",
       "      <td>Ã?Â?sterlich leben.</td>\n",
       "      <td>1</td>\n",
       "    </tr>\n",
       "    <tr>\n",
       "      <th>241066</th>\n",
       "      <td>Ã?Â?stlich der Berge.</td>\n",
       "      <td>3</td>\n",
       "    </tr>\n",
       "    <tr>\n",
       "      <th>241067</th>\n",
       "      <td>Ã?Â?thique en toc</td>\n",
       "      <td>2</td>\n",
       "    </tr>\n",
       "  </tbody>\n",
       "</table>\n",
       "<p>241068 rows × 2 columns</p>\n",
       "</div>"
      ],
      "text/plain": [
       "                                               Book-Title  num_ratings\n",
       "0        A Light in the Storm: The Civil War Diary of ...            4\n",
       "1                                   Always Have Popsicles            1\n",
       "2                    Apple Magic (The Collector's series)            1\n",
       "3        Ask Lily (Young Women of Faith: Lily Series, ...            1\n",
       "4        Beyond IBM: Leadership Marketing and Finance ...            1\n",
       "...                                                   ...          ...\n",
       "241063                                      Ã?Â?lpiraten.            2\n",
       "241064                     Ã?Â?rger mit Produkt X. Roman.            4\n",
       "241065                                Ã?Â?sterlich leben.            1\n",
       "241066                              Ã?Â?stlich der Berge.            3\n",
       "241067                                  Ã?Â?thique en toc            2\n",
       "\n",
       "[241068 rows x 2 columns]"
      ]
     },
     "execution_count": 32,
     "metadata": {},
     "output_type": "execute_result"
    }
   ],
   "source": [
    "# Count of ratings of each book\n",
    "num_rating_df = ratings_with_name.groupby('Book-Title').count()['Book-Rating'].reset_index()\n",
    "num_rating_df.rename(columns={'Book-Rating':'num_ratings'},inplace=True)\n",
    "num_rating_df"
   ]
  },
  {
   "cell_type": "code",
   "execution_count": 33,
   "metadata": {
    "colab": {
     "base_uri": "https://localhost:8080/",
     "height": 423
    },
    "id": "Dc77sFENeYBM",
    "outputId": "497c7549-1fb0-4fbe-e7ac-56214f7b798b"
   },
   "outputs": [
    {
     "data": {
      "text/html": [
       "<div>\n",
       "<style scoped>\n",
       "    .dataframe tbody tr th:only-of-type {\n",
       "        vertical-align: middle;\n",
       "    }\n",
       "\n",
       "    .dataframe tbody tr th {\n",
       "        vertical-align: top;\n",
       "    }\n",
       "\n",
       "    .dataframe thead th {\n",
       "        text-align: right;\n",
       "    }\n",
       "</style>\n",
       "<table border=\"1\" class=\"dataframe\">\n",
       "  <thead>\n",
       "    <tr style=\"text-align: right;\">\n",
       "      <th></th>\n",
       "      <th>Book-Title</th>\n",
       "      <th>avg_rating</th>\n",
       "    </tr>\n",
       "  </thead>\n",
       "  <tbody>\n",
       "    <tr>\n",
       "      <th>0</th>\n",
       "      <td>A Light in the Storm: The Civil War Diary of ...</td>\n",
       "      <td>2.250000</td>\n",
       "    </tr>\n",
       "    <tr>\n",
       "      <th>1</th>\n",
       "      <td>Always Have Popsicles</td>\n",
       "      <td>0.000000</td>\n",
       "    </tr>\n",
       "    <tr>\n",
       "      <th>2</th>\n",
       "      <td>Apple Magic (The Collector's series)</td>\n",
       "      <td>0.000000</td>\n",
       "    </tr>\n",
       "    <tr>\n",
       "      <th>3</th>\n",
       "      <td>Ask Lily (Young Women of Faith: Lily Series, ...</td>\n",
       "      <td>8.000000</td>\n",
       "    </tr>\n",
       "    <tr>\n",
       "      <th>4</th>\n",
       "      <td>Beyond IBM: Leadership Marketing and Finance ...</td>\n",
       "      <td>0.000000</td>\n",
       "    </tr>\n",
       "    <tr>\n",
       "      <th>...</th>\n",
       "      <td>...</td>\n",
       "      <td>...</td>\n",
       "    </tr>\n",
       "    <tr>\n",
       "      <th>241063</th>\n",
       "      <td>Ã?Â?lpiraten.</td>\n",
       "      <td>0.000000</td>\n",
       "    </tr>\n",
       "    <tr>\n",
       "      <th>241064</th>\n",
       "      <td>Ã?Â?rger mit Produkt X. Roman.</td>\n",
       "      <td>5.250000</td>\n",
       "    </tr>\n",
       "    <tr>\n",
       "      <th>241065</th>\n",
       "      <td>Ã?Â?sterlich leben.</td>\n",
       "      <td>7.000000</td>\n",
       "    </tr>\n",
       "    <tr>\n",
       "      <th>241066</th>\n",
       "      <td>Ã?Â?stlich der Berge.</td>\n",
       "      <td>2.666667</td>\n",
       "    </tr>\n",
       "    <tr>\n",
       "      <th>241067</th>\n",
       "      <td>Ã?Â?thique en toc</td>\n",
       "      <td>4.000000</td>\n",
       "    </tr>\n",
       "  </tbody>\n",
       "</table>\n",
       "<p>241068 rows × 2 columns</p>\n",
       "</div>"
      ],
      "text/plain": [
       "                                               Book-Title  avg_rating\n",
       "0        A Light in the Storm: The Civil War Diary of ...    2.250000\n",
       "1                                   Always Have Popsicles    0.000000\n",
       "2                    Apple Magic (The Collector's series)    0.000000\n",
       "3        Ask Lily (Young Women of Faith: Lily Series, ...    8.000000\n",
       "4        Beyond IBM: Leadership Marketing and Finance ...    0.000000\n",
       "...                                                   ...         ...\n",
       "241063                                      Ã?Â?lpiraten.    0.000000\n",
       "241064                     Ã?Â?rger mit Produkt X. Roman.    5.250000\n",
       "241065                                Ã?Â?sterlich leben.    7.000000\n",
       "241066                              Ã?Â?stlich der Berge.    2.666667\n",
       "241067                                  Ã?Â?thique en toc    4.000000\n",
       "\n",
       "[241068 rows x 2 columns]"
      ]
     },
     "execution_count": 33,
     "metadata": {},
     "output_type": "execute_result"
    }
   ],
   "source": [
    "avg_rating_df = ratings_with_name.groupby('Book-Title')['Book-Rating'].mean().reset_index()\n",
    "avg_rating_df.rename(columns={'Book-Rating':'avg_rating'}, inplace=True)\n",
    "avg_rating_df"
   ]
  },
  {
   "cell_type": "code",
   "execution_count": 34,
   "metadata": {
    "colab": {
     "base_uri": "https://localhost:8080/",
     "height": 423
    },
    "id": "pb0Tu6P9BWnf",
    "outputId": "31bd5969-1820-4835-90da-6b94d4500aed"
   },
   "outputs": [
    {
     "data": {
      "text/html": [
       "<div>\n",
       "<style scoped>\n",
       "    .dataframe tbody tr th:only-of-type {\n",
       "        vertical-align: middle;\n",
       "    }\n",
       "\n",
       "    .dataframe tbody tr th {\n",
       "        vertical-align: top;\n",
       "    }\n",
       "\n",
       "    .dataframe thead th {\n",
       "        text-align: right;\n",
       "    }\n",
       "</style>\n",
       "<table border=\"1\" class=\"dataframe\">\n",
       "  <thead>\n",
       "    <tr style=\"text-align: right;\">\n",
       "      <th></th>\n",
       "      <th>Book-Title</th>\n",
       "      <th>num_ratings</th>\n",
       "      <th>avg_rating</th>\n",
       "    </tr>\n",
       "  </thead>\n",
       "  <tbody>\n",
       "    <tr>\n",
       "      <th>0</th>\n",
       "      <td>A Light in the Storm: The Civil War Diary of ...</td>\n",
       "      <td>4</td>\n",
       "      <td>2.250000</td>\n",
       "    </tr>\n",
       "    <tr>\n",
       "      <th>1</th>\n",
       "      <td>Always Have Popsicles</td>\n",
       "      <td>1</td>\n",
       "      <td>0.000000</td>\n",
       "    </tr>\n",
       "    <tr>\n",
       "      <th>2</th>\n",
       "      <td>Apple Magic (The Collector's series)</td>\n",
       "      <td>1</td>\n",
       "      <td>0.000000</td>\n",
       "    </tr>\n",
       "    <tr>\n",
       "      <th>3</th>\n",
       "      <td>Ask Lily (Young Women of Faith: Lily Series, ...</td>\n",
       "      <td>1</td>\n",
       "      <td>8.000000</td>\n",
       "    </tr>\n",
       "    <tr>\n",
       "      <th>4</th>\n",
       "      <td>Beyond IBM: Leadership Marketing and Finance ...</td>\n",
       "      <td>1</td>\n",
       "      <td>0.000000</td>\n",
       "    </tr>\n",
       "    <tr>\n",
       "      <th>...</th>\n",
       "      <td>...</td>\n",
       "      <td>...</td>\n",
       "      <td>...</td>\n",
       "    </tr>\n",
       "    <tr>\n",
       "      <th>241063</th>\n",
       "      <td>Ã?Â?lpiraten.</td>\n",
       "      <td>2</td>\n",
       "      <td>0.000000</td>\n",
       "    </tr>\n",
       "    <tr>\n",
       "      <th>241064</th>\n",
       "      <td>Ã?Â?rger mit Produkt X. Roman.</td>\n",
       "      <td>4</td>\n",
       "      <td>5.250000</td>\n",
       "    </tr>\n",
       "    <tr>\n",
       "      <th>241065</th>\n",
       "      <td>Ã?Â?sterlich leben.</td>\n",
       "      <td>1</td>\n",
       "      <td>7.000000</td>\n",
       "    </tr>\n",
       "    <tr>\n",
       "      <th>241066</th>\n",
       "      <td>Ã?Â?stlich der Berge.</td>\n",
       "      <td>3</td>\n",
       "      <td>2.666667</td>\n",
       "    </tr>\n",
       "    <tr>\n",
       "      <th>241067</th>\n",
       "      <td>Ã?Â?thique en toc</td>\n",
       "      <td>2</td>\n",
       "      <td>4.000000</td>\n",
       "    </tr>\n",
       "  </tbody>\n",
       "</table>\n",
       "<p>241068 rows × 3 columns</p>\n",
       "</div>"
      ],
      "text/plain": [
       "                                               Book-Title  num_ratings  \\\n",
       "0        A Light in the Storm: The Civil War Diary of ...            4   \n",
       "1                                   Always Have Popsicles            1   \n",
       "2                    Apple Magic (The Collector's series)            1   \n",
       "3        Ask Lily (Young Women of Faith: Lily Series, ...            1   \n",
       "4        Beyond IBM: Leadership Marketing and Finance ...            1   \n",
       "...                                                   ...          ...   \n",
       "241063                                      Ã?Â?lpiraten.            2   \n",
       "241064                     Ã?Â?rger mit Produkt X. Roman.            4   \n",
       "241065                                Ã?Â?sterlich leben.            1   \n",
       "241066                              Ã?Â?stlich der Berge.            3   \n",
       "241067                                  Ã?Â?thique en toc            2   \n",
       "\n",
       "        avg_rating  \n",
       "0         2.250000  \n",
       "1         0.000000  \n",
       "2         0.000000  \n",
       "3         8.000000  \n",
       "4         0.000000  \n",
       "...            ...  \n",
       "241063    0.000000  \n",
       "241064    5.250000  \n",
       "241065    7.000000  \n",
       "241066    2.666667  \n",
       "241067    4.000000  \n",
       "\n",
       "[241068 rows x 3 columns]"
      ]
     },
     "execution_count": 34,
     "metadata": {},
     "output_type": "execute_result"
    }
   ],
   "source": [
    "# # Merging count and average ratings in one dataset\n",
    "popular_df = num_rating_df.merge(avg_rating_df,on='Book-Title')\n",
    "popular_df"
   ]
  },
  {
   "cell_type": "code",
   "execution_count": 35,
   "metadata": {
    "id": "vo4Hj1wHdw64"
   },
   "outputs": [],
   "source": [
    "# Selecting rows with ratings more than 250\n",
    "popular_df = popular_df[popular_df['num_ratings']>=250].sort_values('avg_rating',ascending=False).head(50)"
   ]
  },
  {
   "cell_type": "code",
   "execution_count": 36,
   "metadata": {
    "colab": {
     "base_uri": "https://localhost:8080/",
     "height": 206
    },
    "id": "Csxf9OuRdw3D",
    "outputId": "442dddb6-c36c-4daf-b319-49edd7d91d6a"
   },
   "outputs": [
    {
     "data": {
      "text/html": [
       "<div>\n",
       "<style scoped>\n",
       "    .dataframe tbody tr th:only-of-type {\n",
       "        vertical-align: middle;\n",
       "    }\n",
       "\n",
       "    .dataframe tbody tr th {\n",
       "        vertical-align: top;\n",
       "    }\n",
       "\n",
       "    .dataframe thead th {\n",
       "        text-align: right;\n",
       "    }\n",
       "</style>\n",
       "<table border=\"1\" class=\"dataframe\">\n",
       "  <thead>\n",
       "    <tr style=\"text-align: right;\">\n",
       "      <th></th>\n",
       "      <th>Book-Title</th>\n",
       "      <th>Book-Author</th>\n",
       "      <th>Image-URL-M</th>\n",
       "      <th>num_ratings</th>\n",
       "      <th>avg_rating</th>\n",
       "    </tr>\n",
       "  </thead>\n",
       "  <tbody>\n",
       "    <tr>\n",
       "      <th>0</th>\n",
       "      <td>Harry Potter and the Prisoner of Azkaban (Book 3)</td>\n",
       "      <td>J. K. Rowling</td>\n",
       "      <td>http://images.amazon.com/images/P/0439136350.0...</td>\n",
       "      <td>428</td>\n",
       "      <td>5.852804</td>\n",
       "    </tr>\n",
       "    <tr>\n",
       "      <th>3</th>\n",
       "      <td>Harry Potter and the Goblet of Fire (Book 4)</td>\n",
       "      <td>J. K. Rowling</td>\n",
       "      <td>http://images.amazon.com/images/P/0439139597.0...</td>\n",
       "      <td>387</td>\n",
       "      <td>5.824289</td>\n",
       "    </tr>\n",
       "    <tr>\n",
       "      <th>5</th>\n",
       "      <td>Harry Potter and the Sorcerer's Stone (Book 1)</td>\n",
       "      <td>J. K. Rowling</td>\n",
       "      <td>http://images.amazon.com/images/P/0590353403.0...</td>\n",
       "      <td>278</td>\n",
       "      <td>5.737410</td>\n",
       "    </tr>\n",
       "    <tr>\n",
       "      <th>9</th>\n",
       "      <td>Harry Potter and the Order of the Phoenix (Boo...</td>\n",
       "      <td>J. K. Rowling</td>\n",
       "      <td>http://images.amazon.com/images/P/043935806X.0...</td>\n",
       "      <td>347</td>\n",
       "      <td>5.501441</td>\n",
       "    </tr>\n",
       "    <tr>\n",
       "      <th>13</th>\n",
       "      <td>Harry Potter and the Chamber of Secrets (Book 2)</td>\n",
       "      <td>J. K. Rowling</td>\n",
       "      <td>http://images.amazon.com/images/P/0439064872.0...</td>\n",
       "      <td>556</td>\n",
       "      <td>5.183453</td>\n",
       "    </tr>\n",
       "  </tbody>\n",
       "</table>\n",
       "</div>"
      ],
      "text/plain": [
       "                                           Book-Title    Book-Author  \\\n",
       "0   Harry Potter and the Prisoner of Azkaban (Book 3)  J. K. Rowling   \n",
       "3        Harry Potter and the Goblet of Fire (Book 4)  J. K. Rowling   \n",
       "5      Harry Potter and the Sorcerer's Stone (Book 1)  J. K. Rowling   \n",
       "9   Harry Potter and the Order of the Phoenix (Boo...  J. K. Rowling   \n",
       "13   Harry Potter and the Chamber of Secrets (Book 2)  J. K. Rowling   \n",
       "\n",
       "                                          Image-URL-M  num_ratings  avg_rating  \n",
       "0   http://images.amazon.com/images/P/0439136350.0...          428    5.852804  \n",
       "3   http://images.amazon.com/images/P/0439139597.0...          387    5.824289  \n",
       "5   http://images.amazon.com/images/P/0590353403.0...          278    5.737410  \n",
       "9   http://images.amazon.com/images/P/043935806X.0...          347    5.501441  \n",
       "13  http://images.amazon.com/images/P/0439064872.0...          556    5.183453  "
      ]
     },
     "execution_count": 36,
     "metadata": {},
     "output_type": "execute_result"
    }
   ],
   "source": [
    "popular_df = popular_df.merge(books,on='Book-Title').drop_duplicates('Book-Title')[['Book-Title','Book-Author','Image-URL-M','num_ratings','avg_rating']]\n",
    "popular_df.head()"
   ]
  },
  {
   "cell_type": "markdown",
   "metadata": {
    "id": "GF8Ens_Soomf"
   },
   "source": [
    "## ***4. Data Vizualization, Storytelling & Experimenting with charts : Understand the relationships between variables***"
   ]
  },
  {
   "cell_type": "markdown",
   "metadata": {
    "id": "0wOQAZs5pc--"
   },
   "source": [
    "#### Chart - 1"
   ]
  },
  {
   "cell_type": "code",
   "execution_count": 37,
   "metadata": {
    "colab": {
     "base_uri": "https://localhost:8080/",
     "height": 876
    },
    "id": "hSA3_06VXn79",
    "outputId": "4461b363-574c-4dff-b1a0-7aaab9e594e3"
   },
   "outputs": [
    {
     "data": {
      "image/png": "[encoded data removed]",
      "text/plain": [
       "<Figure size 1000x800 with 1 Axes>"
      ]
     },
     "metadata": {},
     "output_type": "display_data"
    }
   ],
   "source": [
    "# Chart - 1 visualization code\n",
    "plt.figure(figsize = (10, 8))\n",
    "sns.countplot(x = 'Book-Author', data = books,\n",
    "             order = books['Book-Author'].value_counts().iloc[:10].index)\n",
    "plt.title(\"Top 10 Authors with maximum book publish\")\n",
    "plt.xticks(rotation = 75, fontsize = 12)\n",
    "plt.show()"
   ]
  },
  {
   "cell_type": "markdown",
   "metadata": {
    "id": "K5QZ13OEpz2H"
   },
   "source": [
    "### **1. Why did you pick the specific chart?**"
   ]
  },
  {
   "cell_type": "markdown",
   "metadata": {
    "id": "XESiWehPqBRc"
   },
   "source": [
    "* **Top Authors Comparison:** The chart is designed to show a visual comparison of the number of books published by the top 10 authors.\n",
    "\n",
    "* **Readability:** The horizontal bar chart makes it easier to read and compare the number of books published by each author. The author names are displayed on the y-axis, and the length of the bars represents the count of books published.\n"
   ]
  },
  {
   "cell_type": "markdown",
   "metadata": {
    "id": "lQ7QKXXCp7Bj"
   },
   "source": [
    "### **2. What is/are the insight(s) found from the chart?**"
   ]
  },
  {
   "cell_type": "markdown",
   "metadata": {
    "id": "C_j1G7yiqdRP"
   },
   "source": [
    "* **Top 10 Focus:** The chart is focused on the top 10 authors with the maximum number of book publications. This allows for a more targeted analysis and provides insights into the most prolific authors.\n",
    "\n",
    "* **Ordering by Count:** The `order` parameter in the `countplot` is set to the order of authors based on the count of books they have published. This ensures that the authors are arranged in descending order of book counts, making it easy to identify the top authors.\n"
   ]
  },
  {
   "cell_type": "markdown",
   "metadata": {
    "id": "448CDAPjqfQr"
   },
   "source": [
    "### **3. Will the gained insights help creating a positive business impact?**\n",
    "Are there any insights that lead to negative growth? Justify with specific reason."
   ]
  },
  {
   "cell_type": "markdown",
   "metadata": {
    "id": "3cspy4FjqxJW"
   },
   "source": [
    "Identifying the top 10 authors based on book sales or other relevant metrics can potentially bring positive impacts to the business in several ways:\n",
    "\n",
    "1. **Content Curation:**\n",
    "   - Recognizing top-performing authors allows the business to curate and showcase their works prominently.\n",
    "   - This helps in creating a curated and appealing content catalog for customers.\n",
    "\n",
    "2. **Marketing Strategies:**\n",
    "   - The data on top authors can inform targeted marketing strategies.\n",
    "   - Promotions, advertisements, and campaigns can be tailored to highlight books from these popular authors, attracting a larger audience.\n",
    "\n",
    "3. **Partnerships and Collaborations:**\n",
    "   - Building partnerships or collaborations with top authors can lead to exclusive content, joint promotions, or author-related events.\n",
    "   - Such collaborations can enhance the brand image and attract a wider readership.\n",
    "\n",
    "In summary, recognizing and leveraging the influence of top authors can positively impact the business by enhancing customer engagement, driving sales, and solidifying the business's position in the market."
   ]
  },
  {
   "cell_type": "markdown",
   "metadata": {
    "id": "KSlN3yHqYklG"
   },
   "source": [
    "#### Chart - 2"
   ]
  },
  {
   "cell_type": "code",
   "execution_count": 38,
   "metadata": {
    "colab": {
     "base_uri": "https://localhost:8080/",
     "height": 828
    },
    "id": "R4YgtaqtYklH",
    "outputId": "8d16a450-6da9-495e-f551-9831ab6a7655"
   },
   "outputs": [
    {
     "data": {
      "image/png": "[encoded data removed]",
      "text/plain": [
       "<Figure size 2000x600 with 1 Axes>"
      ]
     },
     "metadata": {},
     "output_type": "display_data"
    }
   ],
   "source": [
    "# Chart - 2 visualization code\n",
    "# to find most occuring book in our data\n",
    "plt.figure(figsize = (20, 6))\n",
    "book = books['Book-Title'].value_counts()[:20]\n",
    "sns.barplot(x = book.index, y = book,\n",
    "           palette = 'winter_r')\n",
    "plt.title(\"Most occuring Books\")\n",
    "plt.xlabel(\"Number of Occurance\")\n",
    "plt.ylabel(\"Books\")\n",
    "plt.xticks(rotation = 75, fontsize = 13)\n",
    "plt.show()"
   ]
  },
  {
   "cell_type": "markdown",
   "metadata": {
    "id": "t6dVpIINYklI"
   },
   "source": [
    "### **1. Why did you pick the specific chart?**"
   ]
  },
  {
   "cell_type": "markdown",
   "metadata": {
    "id": "5aaW0BYyYklI"
   },
   "source": [
    "Choosing a bar graph chart is an effective visualization strategy to compare the top 20 most occurring books for several reasons. A bar graph provides a clear and straightforward representation of the frequency or occurrence of each book, allowing for a quick and intuitive understanding of the distribution. The length of each bar corresponds directly to the count or frequency of a specific book, enabling viewers to easily identify the most prevalent titles. Additionally, the visual hierarchy created by the bars facilitates comparisons between different books, aiding in the identification of popular and less popular choices. The simplicity of a bar graph makes it an accessible and user-friendly choice, ensuring that even those less familiar with data visualization can interpret and draw meaningful insights from the information presented."
   ]
  },
  {
   "cell_type": "markdown",
   "metadata": {
    "id": "ijmpgYnKYklI"
   },
   "source": [
    "### **2. What is/are the insight(s) found from the chart?**"
   ]
  },
  {
   "cell_type": "markdown",
   "metadata": {
    "id": "PSx9atu2YklI"
   },
   "source": [
    "Top 20 occuring books in the dataset."
   ]
  },
  {
   "cell_type": "markdown",
   "metadata": {
    "id": "-JiQyfWJYklI"
   },
   "source": [
    "### **3. Will the gained insights help creating a positive business impact?**\n",
    "Are there any insights that lead to negative growth? Justify with specific reason."
   ]
  },
  {
   "cell_type": "markdown",
   "metadata": {
    "id": "BcBbebzrYklV"
   },
   "source": [
    "The insights gained from the analysis of the book recommendation system have the potential to create a positive business impact by informing strategic decisions, improving user experience, and optimizing business processes. Positive impacts may include tailoring recommendations to user preferences, enhancing customer satisfaction, and ultimately increasing engagement and sales. However, it's essential to acknowledge that certain insights could lead to negative growth if not addressed appropriately.\n",
    "\n",
    "\n",
    "For instance, if the analysis reveals a significant decline in user engagement with certain genres or authors, it might signal a potential dissatisfaction among users or a need for diversification. Failure to address such issues could result in a negative impact on user retention, leading to reduced business growth and profitability. Similarly, identifying unpopular or poorly-rated books could guide the business toward refining its inventory or exploring opportunities for marketing and promotion.\n"
   ]
  },
  {
   "cell_type": "markdown",
   "metadata": {
    "id": "EM7whBJCYoAo"
   },
   "source": [
    "### **Chart - 3**"
   ]
  },
  {
   "cell_type": "code",
   "execution_count": 39,
   "metadata": {
    "colab": {
     "base_uri": "https://localhost:8080/",
     "height": 655
    },
    "id": "t6GMdE67YoAp",
    "outputId": "4ee00ed5-d651-4b21-cf24-24f0c3cf5d29"
   },
   "outputs": [
    {
     "name": "stderr",
     "output_type": "stream",
     "text": [
      "C:\\Users\\umme asma\\AppData\\Local\\Temp\\ipykernel_32716\\1754374535.py:3: UserWarning: \n",
      "\n",
      "`distplot` is a deprecated function and will be removed in seaborn v0.14.0.\n",
      "\n",
      "Please adapt your code to use either `displot` (a figure-level function with\n",
      "similar flexibility) or `histplot` (an axes-level function for histograms).\n",
      "\n",
      "For a guide to updating your code to use the new functions, please see\n",
      "https://gist.github.com/mwaskom/de44147ed2974457ad6372750bbe5751\n",
      "\n",
      "  sns.distplot(popular_df['avg_rating'])\n"
     ]
    },
    {
     "data": {
      "image/png": "[encoded data removed]",
      "text/plain": [
       "<Figure size 640x480 with 1 Axes>"
      ]
     },
     "metadata": {},
     "output_type": "display_data"
    }
   ],
   "source": [
    "# Chart - 3 visualization code\n",
    "# Average ratings of popular books\n",
    "sns.distplot(popular_df['avg_rating'])\n",
    "plt.show()"
   ]
  },
  {
   "cell_type": "markdown",
   "metadata": {
    "id": "fge-S5ZAYoAp"
   },
   "source": [
    "### **1. Why did you pick the specific chart?**"
   ]
  },
  {
   "cell_type": "markdown",
   "metadata": {
    "id": "5dBItgRVYoAp"
   },
   "source": [
    "This type of chart is effective for showcasing the distribution of a numerical variable, such as average ratings, and allows stakeholders to identify patterns, trends, and outliers in the dataset."
   ]
  },
  {
   "cell_type": "markdown",
   "metadata": {
    "id": "85gYPyotYoAp"
   },
   "source": [
    "### **2. What is/are the insight(s) found from the chart?**"
   ]
  },
  {
   "cell_type": "markdown",
   "metadata": {
    "id": "4jstXR6OYoAp"
   },
   "source": [
    "The insights gained from the chart on the distribution of average ratings reveal the varying degrees of reader satisfaction across different books. By examining the verticle bar graph, it becomes evident which books have received the highest and lowest average ratings."
   ]
  },
  {
   "cell_type": "markdown",
   "metadata": {
    "id": "4Of9eVA-YrdM"
   },
   "source": [
    "### **Chart - 4**"
   ]
  },
  {
   "cell_type": "code",
   "execution_count": 40,
   "metadata": {
    "colab": {
     "base_uri": "https://localhost:8080/",
     "height": 928
    },
    "id": "irlUoxc8YrdO",
    "outputId": "15152e28-391e-43dc-9ba7-fcc26e226365"
   },
   "outputs": [
    {
     "data": {
      "image/png": "[encoded data removed]",
      "text/plain": [
       "<Figure size 1000x800 with 1 Axes>"
      ]
     },
     "metadata": {},
     "output_type": "display_data"
    }
   ],
   "source": [
    "# Chart - 4 visualization code\n",
    "plt.figure(figsize = (10, 8))\n",
    "publisher = books['Publisher'].value_counts()[:20]\n",
    "sns.barplot(x = publisher.index, y = publisher, palette = 'winter_r')\n",
    "plt.title(\"Publishers\")\n",
    "plt.xlabel(\"Number of Occurance\")\n",
    "plt.ylabel(\"Publishers\")\n",
    "plt.xticks(rotation = 75, fontsize = 13)\n",
    "plt.show()"
   ]
  },
  {
   "cell_type": "markdown",
   "metadata": {
    "id": "iky9q4vBYrdO"
   },
   "source": [
    "### **1. Why did you pick the specific chart?**"
   ]
  },
  {
   "cell_type": "markdown",
   "metadata": {
    "id": "aJRCwT6DYrdO"
   },
   "source": [
    "Choosing a bar graph chart is an effective visualization method for comparing the top 20 publishers in the dataset due to its simplicity, clarity, and ability to convey relative quantities. A bar graph allows for a straightforward representation of the number of books associated with each publisher, making it easy for viewers to discern the publishers with the highest book counts."
   ]
  },
  {
   "cell_type": "markdown",
   "metadata": {
    "id": "F6T5p64dYrdO"
   },
   "source": [
    "### **2. What is/are the insight(s) found from the chart?**"
   ]
  },
  {
   "cell_type": "markdown",
   "metadata": {
    "id": "Xx8WAJvtYrdO"
   },
   "source": [
    "The chart reveals the dominance of certain publishers, with a clear distinction in the number of books published by each. Publishers occupying the top positions contribute significantly more books compared to others, indicating a concentration of literary output among a select few."
   ]
  },
  {
   "cell_type": "markdown",
   "metadata": {
    "id": "y-Ehk30pYrdP"
   },
   "source": [
    "### **3. Will the gained insights help creating a positive business impact?**\n",
    "Are there any insights that lead to negative growth? Justify with specific reason."
   ]
  },
  {
   "cell_type": "markdown",
   "metadata": {
    "id": "jLNxxz7MYrdP"
   },
   "source": [
    "* Publishers with a high book count can leverage their extensive catalog to form strategic partnerships with bookstores, online platforms, or other distribution channels. This collaboration can enhance visibility and reach a broader audience, positively impacting sales and market presence.\n",
    "\n",
    " * A concentration of books among a few dominant publishers may lead to market saturation. If these publishers saturate the market with similar content, it could limit opportunities for smaller publishers to gain visibility and negatively impact their growth."
   ]
  },
  {
   "cell_type": "markdown",
   "metadata": {
    "id": "bamQiAODYuh1"
   },
   "source": [
    "### **Chart - 5: Top 20 highest rating books (Bivariate)**"
   ]
  },
  {
   "cell_type": "code",
   "execution_count": 41,
   "metadata": {
    "colab": {
     "base_uri": "https://localhost:8080/",
     "height": 718
    },
    "id": "TIJwrbroYuh3",
    "outputId": "6fd93bbf-5b70-4f02-c818-f77c9a2a2a44"
   },
   "outputs": [
    {
     "data": {
      "image/png": "[encoded data removed]",
      "text/plain": [
       "<Figure size 1200x800 with 1 Axes>"
      ]
     },
     "metadata": {},
     "output_type": "display_data"
    }
   ],
   "source": [
    "# Chart - 5 visualization code\n",
    "top_20_ratings = popular_df.nlargest(20, 'avg_rating')\n",
    "\n",
    "plt.figure(figsize=(12, 8))\n",
    "sns.barplot(x='avg_rating', y='Book-Title', data=top_20_ratings, palette='magma')\n",
    "plt.title('Top 20 Books with Highest Ratings')\n",
    "plt.xlabel('Average Rating')\n",
    "plt.ylabel('Book Title')\n",
    "plt.show()"
   ]
  },
  {
   "cell_type": "markdown",
   "metadata": {
    "id": "QHF8YVU7Yuh3"
   },
   "source": [
    "### **1. Why did you pick the specific chart?**"
   ]
  },
  {
   "cell_type": "markdown",
   "metadata": {
    "id": "dcxuIMRPYuh3"
   },
   "source": [
    "Choosing a horizontal bar graph chart to visualize the top 20 books with the highest ratings in the dataset is a strategic decision driven by the nature of the data and the need for clear and intuitive comparisons. The horizontal orientation of the bars allows for efficient use of space, especially when dealing with a larger number of items, as in this case, the top 20 books."
   ]
  },
  {
   "cell_type": "markdown",
   "metadata": {
    "id": "GwzvFGzlYuh3"
   },
   "source": [
    "### **2. What is/are the insight(s) found from the chart?**"
   ]
  },
  {
   "cell_type": "markdown",
   "metadata": {
    "id": "uyqkiB8YYuh3"
   },
   "source": [
    "The insights derived from the horizontal bar graph chart depicting the top 20 books with the highest ratings can provide valuable information about the most well-received books in the dataset. Stakeholders can quickly identify the books that have garnered the highest ratings, potentially indicating popular and highly recommended reads. This visualization helps spotlight standout performers and showcases the level of satisfaction or acclaim readers have expressed for certain titles."
   ]
  },
  {
   "cell_type": "markdown",
   "metadata": {
    "id": "qYpmQ266Yuh3"
   },
   "source": [
    "### **3. Will the gained insights help creating a positive business impact?**\n",
    "Are there any insights that lead to negative growth? Justify with specific reason."
   ]
  },
  {
   "cell_type": "markdown",
   "metadata": {
    "id": "_WtzZ_hCYuh4"
   },
   "source": [
    "The gained insights from the analysis of the top 20 books with the highest ratings can indeed contribute to creating a positive business impact. Positive aspects include identifying best-selling and highly-rated books that can be strategically promoted to attract more readers. The information can guide marketing efforts, help in curating appealing book bundles, or influence inventory management to meet the demand for popular titles. Positive feedback on certain books can also aid in building a positive brand image."
   ]
  },
  {
   "cell_type": "markdown",
   "metadata": {
    "id": "OH-pJp9IphqM"
   },
   "source": [
    "### **Chart - 6**"
   ]
  },
  {
   "cell_type": "code",
   "execution_count": 42,
   "metadata": {
    "colab": {
     "base_uri": "https://localhost:8080/",
     "height": 675
    },
    "id": "kuRf4wtuphqN",
    "outputId": "b873e279-b8dd-4fc8-884b-07b190a2bad6"
   },
   "outputs": [
    {
     "data": {
      "image/png": "[encoded data removed]",
      "text/plain": [
       "<Figure size 800x800 with 1 Axes>"
      ]
     },
     "metadata": {},
     "output_type": "display_data"
    }
   ],
   "source": [
    "# Chart - 6 visualization code\n",
    "age_ranges = pd.cut(users['Age'], bins=[0, 18, 25, 35, 50, 100], labels=['0-18', '19-25', '26-35', '36-50', '51+'], include_lowest=True)\n",
    "\n",
    "# Count the number of users in each age range\n",
    "age_distribution = age_ranges.value_counts()\n",
    "\n",
    "# Create a pie chart\n",
    "plt.figure(figsize=(8, 8))\n",
    "plt.pie(age_distribution, labels=age_distribution.index, autopct='%1.1f%%', startangle=90, colors=sns.color_palette('pastel'))\n",
    "plt.title('Age Distribution of Users')\n",
    "plt.show()"
   ]
  },
  {
   "cell_type": "markdown",
   "metadata": {
    "id": "bbFf2-_FphqN"
   },
   "source": [
    "### **1. Why did you pick the specific chart?**"
   ]
  },
  {
   "cell_type": "markdown",
   "metadata": {
    "id": "loh7H2nzphqN"
   },
   "source": [
    "Choosing a pie chart for visualizing age distribution in the dataset is a suitable approach as it provides a clear and concise representation of the proportion of different age groups. A pie chart is effective in conveying the relative distribution of categories, making it easy for viewers to grasp the composition of the dataset at a glance."
   ]
  },
  {
   "cell_type": "markdown",
   "metadata": {
    "id": "_ouA3fa0phqN"
   },
   "source": [
    "### **2. What is/are the insight(s) found from the chart?**"
   ]
  },
  {
   "cell_type": "markdown",
   "metadata": {
    "id": "VECbqPI7phqN"
   },
   "source": [
    "The insights derived from the pie chart representing age distribution reveal the composition of different age groups within the dataset. By analyzing the chart, it becomes evident which age categories are more prevalent and the proportional distribution across the entire dataset. This visual representation allows for a quick understanding of the dataset's demographic structure."
   ]
  },
  {
   "cell_type": "markdown",
   "metadata": {
    "id": "Seke61FWphqN"
   },
   "source": [
    "### **3. Will the gained insights help creating a positive business impact?**\n",
    "Are there any insights that lead to negative growth? Justify with specific reason."
   ]
  },
  {
   "cell_type": "markdown",
   "metadata": {
    "id": "DW4_bGpfphqN"
   },
   "source": [
    "The insights gained from the age distribution chart can indeed contribute to creating a positive business impact. Understanding the age demographics of the user base is crucial for tailoring products and services to meet the preferences and needs of specific age groups. This targeted approach can enhance user experience, engagement, and satisfaction, ultimately leading to increased user retention and positive word-of-mouth."
   ]
  },
  {
   "cell_type": "markdown",
   "metadata": {
    "id": "PIIx-8_IphqN"
   },
   "source": [
    "### **Chart - 7**"
   ]
  },
  {
   "cell_type": "code",
   "execution_count": 43,
   "metadata": {
    "colab": {
     "base_uri": "https://localhost:8080/",
     "height": 564
    },
    "id": "lqAIGUfyphqO",
    "outputId": "34eb3a5c-99b9-4662-8300-f4063b25011c"
   },
   "outputs": [
    {
     "data": {
      "image/png": "[encoded data removed]",
      "text/plain": [
       "<Figure size 1200x600 with 1 Axes>"
      ]
     },
     "metadata": {},
     "output_type": "display_data"
    }
   ],
   "source": [
    "# Chart - 7 visualization code\n",
    "location_distribution = users['Location'].value_counts().head(20)\n",
    "\n",
    "# Create a bar chart\n",
    "plt.figure(figsize=(12, 6))\n",
    "sns.barplot(x=location_distribution.values, y=location_distribution.index, palette='viridis')\n",
    "plt.title('Top 20 User Locations')\n",
    "plt.xlabel('Number of Users')\n",
    "plt.ylabel('Location')\n",
    "plt.show()"
   ]
  },
  {
   "cell_type": "markdown",
   "metadata": {
    "id": "t27r6nlMphqO"
   },
   "source": [
    "### **1. Why did you pick the specific chart?**"
   ]
  },
  {
   "cell_type": "markdown",
   "metadata": {
    "id": "iv6ro40sphqO"
   },
   "source": [
    "write me a paragraph explaining why choosing horizontal bar graph chart is a good visualization to compare the top 20 books with highest ratings in the dataset"
   ]
  },
  {
   "cell_type": "markdown",
   "metadata": {
    "id": "r2jJGEOYphqO"
   },
   "source": [
    "### **2. What is/are the insight(s) found from the chart?**"
   ]
  },
  {
   "cell_type": "markdown",
   "metadata": {
    "id": "Po6ZPi4hphqO"
   },
   "source": [
    "The horizontal bar graph chart representing the top 20 user locations offers insights into the distribution of users across different geographical areas. By examining the lengths of the bars, we can observe the varying levels of user concentration in each location. This visualization allows us to identify the most popular user locations and the relative sizes of their user bases."
   ]
  },
  {
   "cell_type": "markdown",
   "metadata": {
    "id": "b0JNsNcRphqO"
   },
   "source": [
    "### **3. Will the gained insights help creating a positive business impact?**\n",
    "Are there any insights that lead to negative growth? Justify with specific reason."
   ]
  },
  {
   "cell_type": "markdown",
   "metadata": {
    "id": "xvSq8iUTphqO"
   },
   "source": [
    "The insights gained from the horizontal bar graph chart on the top 20 user locations can indeed help create a positive business impact. Identifying the regions with the highest user concentration allows businesses to tailor their marketing strategies, promotional activities, and service offerings to better cater to the preferences and needs of users in those areas. This targeted approach can lead to increased user engagement, customer satisfaction, and potentially higher revenue."
   ]
  },
  {
   "cell_type": "markdown",
   "metadata": {
    "id": "g-ATYxFrGrvw"
   },
   "source": [
    "## ***5. Hypothesis Testing***"
   ]
  },
  {
   "cell_type": "markdown",
   "metadata": {
    "id": "Yfr_Vlr8HBkt"
   },
   "source": [
    "### Based on your chart experiments, define three hypothetical statements from the dataset. In the next three questions, perform hypothesis testing to obtain final conclusion about the statements through your code and statistical testing."
   ]
  },
  {
   "cell_type": "markdown",
   "metadata": {
    "id": "-7MS06SUHkB-"
   },
   "source": [
    "**Hypothesis 1:** There is a significant difference in average ratings given by users from different age groups.\n",
    "\n",
    "**Hypothesis 2:** The number of books published by different publishers is significantly different.\n",
    "\n",
    "**Hypothesis 3:** There is a significant correlation between the age of users and the average ratings they give."
   ]
  },
  {
   "cell_type": "markdown",
   "metadata": {
    "id": "8yEUt7NnHlrM"
   },
   "source": [
    "### **Hypothetical Statement - 1**"
   ]
  },
  {
   "cell_type": "markdown",
   "metadata": {
    "id": "tEA2Xm5dHt1r"
   },
   "source": [
    "#### 1. State Your research hypothesis as a null hypothesis and alternate hypothesis."
   ]
  },
  {
   "cell_type": "markdown",
   "metadata": {
    "id": "HI9ZP0laH0D-"
   },
   "source": [
    "**Hypothesis 1:** There is a significant difference in average ratings given by users from different age groups.\n",
    "\n",
    "Null Hypothesis (H0): There is no significant difference in average ratings among users of different age groups.\n",
    "\n",
    "Alternative Hypothesis (H1): There is a significant difference in average ratings among users of different age groups."
   ]
  },
  {
   "cell_type": "markdown",
   "metadata": {
    "id": "I79__PHVH19G"
   },
   "source": [
    "#### 2. Perform an appropriate statistical test."
   ]
  },
  {
   "cell_type": "code",
   "execution_count": 44,
   "metadata": {
    "colab": {
     "base_uri": "https://localhost:8080/"
    },
    "id": "oZrfquKtyian",
    "outputId": "33736aff-1def-4698-f7e7-6f8b30923a5e"
   },
   "outputs": [
    {
     "name": "stdout",
     "output_type": "stream",
     "text": [
      "Hypothesis 1 - ANOVA Test: p-value = 2.13741564094438e-33\n",
      "Reject the null hypothesis. There is a significant difference in average ratings among age groups.\n"
     ]
    }
   ],
   "source": [
    "# Perform Statistical Test to obtain P-Value\n",
    "\n",
    "# Assume age groups: 'Young', 'Middle-aged', 'Senior'\n",
    "young_age_group = users[(users['Age'] >= 18) & (users['Age'] < 35)]['User-ID']\n",
    "middle_age_group = users[(users['Age'] >= 35) & (users['Age'] < 50)]['User-ID']\n",
    "senior_age_group = users[users['Age'] >= 50]['User-ID']\n",
    "\n",
    "young_ratings = ratings[ratings['User-ID'].isin(young_age_group)]['Book-Rating']\n",
    "middle_ratings = ratings[ratings['User-ID'].isin(middle_age_group)]['Book-Rating']\n",
    "senior_ratings = ratings[ratings['User-ID'].isin(senior_age_group)]['Book-Rating']\n",
    "\n",
    "# Perform ANOVA test\n",
    "f_statistic, p_value = stats.f_oneway(young_ratings, middle_ratings, senior_ratings)\n",
    "print(f'Hypothesis 1 - ANOVA Test: p-value = {p_value}')\n",
    "if p_value < 0.05:\n",
    "    print('Reject the null hypothesis. There is a significant difference in average ratings among age groups.')\n",
    "else:\n",
    "    print('Fail to reject the null hypothesis.')"
   ]
  },
  {
   "cell_type": "markdown",
   "metadata": {
    "id": "Ou-I18pAyIpj"
   },
   "source": [
    "##### **Which statistical test have you done to obtain P-Value?**"
   ]
  },
  {
   "cell_type": "markdown",
   "metadata": {
    "id": "s2U0kk00ygSB"
   },
   "source": [
    "For the first hypothesis testing related to age groups and average ratings, I have used a one-way analysis of variance (ANOVA) test. ANOVA helps determine whether there are any statistically significant differences between the means of three or more independent (unrelated) groups.\n",
    "\n",
    "The steps involved in conducting ANOVA include:\n",
    "\n",
    "1. Formulating hypotheses (as mentioned earlier).\n",
    "2. Checking assumptions (normality, homogeneity of variances).\n",
    "3. Performing the ANOVA test.\n",
    "4. Analyzing the results, including obtaining p-values.\n",
    "\n",
    "The p-value obtained from the ANOVA test will help us determine whether we reject the null hypothesis or fail to reject it. If the p-value is below a chosen significance level (commonly 0.05), we reject the null hypothesis."
   ]
  },
  {
   "cell_type": "markdown",
   "metadata": {
    "id": "fF3858GYyt-u"
   },
   "source": [
    "##### **Why did you choose the specific statistical test?**"
   ]
  },
  {
   "cell_type": "markdown",
   "metadata": {
    "id": "HO4K0gP5y3B4"
   },
   "source": [
    "The choice of a specific statistical test, in this case, the one-way analysis of variance (ANOVA), is determined by the nature of the hypotheses being tested and the characteristics of the data.\n",
    "\n",
    "In the context of the first hypothesis testing regarding age groups and average ratings, ANOVA is appropriate for the following reasons:\n",
    "\n",
    "1. **Multiple Groups:** We are comparing the means of three or more groups (age groups), making ANOVA suitable for assessing differences across multiple groups simultaneously.\n",
    "\n",
    "2. **Independent Groups:** ANOVA is designed for comparing means of independent groups, and in this case, different age groups are likely independent of each other.\n",
    "\n",
    "3. **Continuous Outcome Variable:** The average ratings are assumed to be continuous, and ANOVA is appropriate for comparing means of continuous variables.\n",
    "\n",
    "4. **Homogeneity of Variances:** ANOVA assumes homogeneity of variances across groups, so it's essential to check this assumption before applying the test.\n",
    "\n",
    "5. **Normality:** While ANOVA is considered robust to violations of normality, it's still beneficial to have approximately normal distributions within each group.\n",
    "\n",
    "In summary, ANOVA is chosen based on its suitability for comparing means across multiple independent groups, making it a relevant choice for analyzing the differences in average ratings across different age groups."
   ]
  },
  {
   "cell_type": "markdown",
   "metadata": {
    "id": "4_0_7-oCpUZd"
   },
   "source": [
    "### **Hypothetical Statement - 2**"
   ]
  },
  {
   "cell_type": "markdown",
   "metadata": {
    "id": "hwyV_J3ipUZe"
   },
   "source": [
    "#### 1. State Your research hypothesis as a null hypothesis and alternate hypothesis."
   ]
  },
  {
   "cell_type": "markdown",
   "metadata": {
    "id": "FnpLGJ-4pUZe"
   },
   "source": [
    "**Hypothesis 2:** The number of books published by different publishers is significantly different.\n",
    "\n",
    "**Null Hypothesis (H0):** There is no significant difference in the number of books published by Publisher1 and Publisher2.\n",
    "\n",
    "**Alternative Hypothesis (H1):** There is a significant difference in the number of books published by Publisher1 and Publisher2."
   ]
  },
  {
   "cell_type": "markdown",
   "metadata": {
    "id": "3yB-zSqbpUZe"
   },
   "source": [
    "#### 2. Perform an appropriate statistical test."
   ]
  },
  {
   "cell_type": "code",
   "execution_count": 45,
   "metadata": {
    "id": "LPn9wv1sOOPD"
   },
   "outputs": [],
   "source": [
    "books['ISBN'] = pd.to_numeric(books['ISBN'], errors='coerce', downcast='integer')\n"
   ]
  },
  {
   "cell_type": "code",
   "execution_count": 46,
   "metadata": {
    "colab": {
     "base_uri": "https://localhost:8080/"
    },
    "id": "sWxdNTXNpUZe",
    "outputId": "134ddee9-0ad5-4b20-aa76-baa6234d8f5c"
   },
   "outputs": [
    {
     "name": "stdout",
     "output_type": "stream",
     "text": [
      "Hypothesis 2 - Two-sample t-test: p-value = nan\n",
      "Fail to reject the null hypothesis.\n"
     ]
    }
   ],
   "source": [
    "# Perform Statistical Test to obtain P-Value\n",
    "# Hypothesis 2: Difference in the number of books published by different publishers\n",
    "# Choose two publishers for comparison\n",
    "publisher1_books = books[books['Publisher'] == 'Harlequin']['ISBN']\n",
    "publisher2_books = books[books['Publisher'] == 'Silhouette']['ISBN']\n",
    "\n",
    "# Perform Two-sample t-test\n",
    "t_statistic, p_value = stats.ttest_ind(publisher1_books, publisher2_books, equal_var=False)\n",
    "print(f'Hypothesis 2 - Two-sample t-test: p-value = {p_value}')\n",
    "if p_value < 0.05:\n",
    "    print('Reject the null hypothesis. There is a significant difference in the number of books published by different publishers.')\n",
    "else:\n",
    "    print('Fail to reject the null hypothesis.')"
   ]
  },
  {
   "cell_type": "markdown",
   "metadata": {
    "id": "dEUvejAfpUZe"
   },
   "source": [
    "##### **Which statistical test have you done to obtain P-Value?**"
   ]
  },
  {
   "cell_type": "markdown",
   "metadata": {
    "id": "oLDrPz7HpUZf"
   },
   "source": [
    "The statistical test used for Hypothesis 2 is the two-sample t-test."
   ]
  },
  {
   "cell_type": "markdown",
   "metadata": {
    "id": "Fd15vwWVpUZf"
   },
   "source": [
    "##### **Why did you choose the specific statistical test?**"
   ]
  },
  {
   "cell_type": "markdown",
   "metadata": {
    "id": "4xOGYyiBpUZf"
   },
   "source": [
    "The two-sample t-test was chosen for Hypothesis 2 because it is appropriate for comparing the means of two independent groups. In this case, the hypothesis is focused on the difference in the number of books published by different publishers. The two-sample t-test assesses whether the means of two groups are significantly different from each other, making it suitable for examining whether there is a significant difference in the number of books published by different publishers."
   ]
  },
  {
   "cell_type": "markdown",
   "metadata": {
    "id": "bn_IUdTipZyH"
   },
   "source": [
    "### **Hypothetical Statement - 3**"
   ]
  },
  {
   "cell_type": "markdown",
   "metadata": {
    "id": "49K5P_iCpZyH"
   },
   "source": [
    "#### 1. State Your research hypothesis as a null hypothesis and alternate hypothesis."
   ]
  },
  {
   "cell_type": "markdown",
   "metadata": {
    "id": "7gWI5rT9pZyH"
   },
   "source": [
    "**Hypothesis 3:** There is a significant correlation between the age of users and the average ratings they give.\n",
    "\n",
    "**Null Hypothesis (H0):** There is no significant correlation between the age of users and the average ratings they give.\n",
    "\n",
    "**Alternative Hypothesis (H1):** There is a significant correlation between the age of users and the average ratings they give."
   ]
  },
  {
   "cell_type": "markdown",
   "metadata": {
    "id": "Nff-vKELpZyI"
   },
   "source": [
    "#### 2. Perform an appropriate statistical test."
   ]
  },
  {
   "cell_type": "code",
   "execution_count": 47,
   "metadata": {
    "colab": {
     "base_uri": "https://localhost:8080/"
    },
    "id": "Q6ADg2tLRBbE",
    "outputId": "c6bffdc4-9eea-4008-d4ce-44722b951389"
   },
   "outputs": [
    {
     "name": "stdout",
     "output_type": "stream",
     "text": [
      "Correlation Coefficient: -0.02823834760548155\n",
      "P-Value: 8.534968776103248e-148\n",
      "Reject the null hypothesis: There is a significant correlation.\n"
     ]
    }
   ],
   "source": [
    "# Perform Statistical Test to obtain P-Value\n",
    "# Hypothesis 3: Correlation between the age of users and average ratings\n",
    "merged_data = pd.merge(ratings, users, on='User-ID')\n",
    "\n",
    "# Drop rows with missing values in 'Age' and 'Book-Rating'\n",
    "merged_data = merged_data.dropna(subset=['Age', 'Book-Rating'])\n",
    "\n",
    "# Calculate correlation coefficient and p-value\n",
    "correlation_coefficient, p_value = stats.pearsonr(merged_data['Age'], merged_data['Book-Rating'])\n",
    "\n",
    "# Print the results\n",
    "print(\"Correlation Coefficient:\", correlation_coefficient)\n",
    "print(\"P-Value:\", p_value)\n",
    "\n",
    "# Perform hypothesis testing\n",
    "alpha = 0.05\n",
    "if p_value < alpha:\n",
    "    print(\"Reject the null hypothesis: There is a significant correlation.\")\n",
    "else:\n",
    "    print(\"Fail to reject the null hypothesis: There is no significant correlation.\")"
   ]
  },
  {
   "cell_type": "markdown",
   "metadata": {
    "id": "kLW572S8pZyI"
   },
   "source": [
    "##### **Which statistical test have you done to obtain P-Value?**"
   ]
  },
  {
   "cell_type": "markdown",
   "metadata": {
    "id": "ytWJ8v15pZyI"
   },
   "source": [
    "The statistical test used in the code provided is the Pearson correlation coefficient and its associated p-value. The stats.pearsonr function from the SciPy library is employed to calculate the correlation coefficient and its corresponding p-value. The Pearson correlation coefficient assesses the linear relationship between two continuous variables, in this case, 'Age' and 'Book-Rating'. The p-value helps determine whether the observed correlation is statistically significant."
   ]
  },
  {
   "cell_type": "markdown",
   "metadata": {
    "id": "dWbDXHzopZyI"
   },
   "source": [
    "##### **Why did you choose the specific statistical test?**"
   ]
  },
  {
   "cell_type": "markdown",
   "metadata": {
    "id": "M99G98V6pZyI"
   },
   "source": [
    "The Pearson correlation coefficient is chosen as the specific statistical test for the given hypothesis because it measures the strength and direction of a linear relationship between two continuous variables. In this case, we are interested in understanding if there is a linear correlation between the age of users and their book ratings.\n",
    "\n",
    "The Pearson correlation coefficient ranges from -1 to 1, where:\n",
    "- 1 indicates a perfect positive linear correlation,\n",
    "- -1 indicates a perfect negative linear correlation,\n",
    "- 0 indicates no linear correlation.\n",
    "\n",
    "The associated p-value helps determine the statistical significance of the observed correlation. A low p-value (typically below a chosen significance level, such as 0.05) suggests that the observed correlation is unlikely to have occurred by chance, allowing us to reject the null hypothesis of no correlation."
   ]
  },
  {
   "cell_type": "markdown",
   "metadata": {
    "id": "yLjJCtPM0KBk"
   },
   "source": [
    "## ***6. Feature Engineering & Data Pre-processing***"
   ]
  },
  {
   "cell_type": "markdown",
   "metadata": {
    "id": "xiyOF9F70UgQ"
   },
   "source": [
    "### 1. Handling Missing Values"
   ]
  },
  {
   "cell_type": "code",
   "execution_count": 48,
   "metadata": {
    "colab": {
     "base_uri": "https://localhost:8080/",
     "height": 143
    },
    "id": "iRsAHk1K0fpS",
    "outputId": "fe5372cb-e891-4875-c28e-4a30ca2e637c"
   },
   "outputs": [
    {
     "data": {
      "text/html": [
       "<div>\n",
       "<style scoped>\n",
       "    .dataframe tbody tr th:only-of-type {\n",
       "        vertical-align: middle;\n",
       "    }\n",
       "\n",
       "    .dataframe tbody tr th {\n",
       "        vertical-align: top;\n",
       "    }\n",
       "\n",
       "    .dataframe thead th {\n",
       "        text-align: right;\n",
       "    }\n",
       "</style>\n",
       "<table border=\"1\" class=\"dataframe\">\n",
       "  <thead>\n",
       "    <tr style=\"text-align: right;\">\n",
       "      <th></th>\n",
       "      <th>Column</th>\n",
       "      <th>Missing Values</th>\n",
       "      <th>Percentage</th>\n",
       "    </tr>\n",
       "  </thead>\n",
       "  <tbody>\n",
       "    <tr>\n",
       "      <th>Book-Author</th>\n",
       "      <td>Book-Author</td>\n",
       "      <td>2</td>\n",
       "      <td>0.000737</td>\n",
       "    </tr>\n",
       "    <tr>\n",
       "      <th>Publisher</th>\n",
       "      <td>Publisher</td>\n",
       "      <td>2</td>\n",
       "      <td>0.000737</td>\n",
       "    </tr>\n",
       "    <tr>\n",
       "      <th>Image-URL-L</th>\n",
       "      <td>Image-URL-L</td>\n",
       "      <td>3</td>\n",
       "      <td>0.001106</td>\n",
       "    </tr>\n",
       "  </tbody>\n",
       "</table>\n",
       "</div>"
      ],
      "text/plain": [
       "                  Column  Missing Values  Percentage\n",
       "Book-Author  Book-Author               2    0.000737\n",
       "Publisher      Publisher               2    0.000737\n",
       "Image-URL-L  Image-URL-L               3    0.001106"
      ]
     },
     "execution_count": 48,
     "metadata": {},
     "output_type": "execute_result"
    }
   ],
   "source": [
    "# Handling Missing Values & Missing Value Imputation\n",
    "books_missing_values"
   ]
  },
  {
   "cell_type": "code",
   "execution_count": 49,
   "metadata": {
    "colab": {
     "base_uri": "https://localhost:8080/",
     "height": 89
    },
    "id": "-LkGrTAsn44T",
    "outputId": "b0e6b276-4046-4b6a-ba83-795854367d21"
   },
   "outputs": [
    {
     "data": {
      "text/html": [
       "<div>\n",
       "<style scoped>\n",
       "    .dataframe tbody tr th:only-of-type {\n",
       "        vertical-align: middle;\n",
       "    }\n",
       "\n",
       "    .dataframe tbody tr th {\n",
       "        vertical-align: top;\n",
       "    }\n",
       "\n",
       "    .dataframe thead th {\n",
       "        text-align: right;\n",
       "    }\n",
       "</style>\n",
       "<table border=\"1\" class=\"dataframe\">\n",
       "  <thead>\n",
       "    <tr style=\"text-align: right;\">\n",
       "      <th></th>\n",
       "      <th>Column</th>\n",
       "      <th>Missing Values</th>\n",
       "      <th>Percentage</th>\n",
       "    </tr>\n",
       "  </thead>\n",
       "  <tbody>\n",
       "    <tr>\n",
       "      <th>Age</th>\n",
       "      <td>Age</td>\n",
       "      <td>110762</td>\n",
       "      <td>39.719857</td>\n",
       "    </tr>\n",
       "  </tbody>\n",
       "</table>\n",
       "</div>"
      ],
      "text/plain": [
       "    Column  Missing Values  Percentage\n",
       "Age    Age          110762   39.719857"
      ]
     },
     "execution_count": 49,
     "metadata": {},
     "output_type": "execute_result"
    }
   ],
   "source": [
    "users_missing_values"
   ]
  },
  {
   "cell_type": "code",
   "execution_count": 50,
   "metadata": {
    "id": "4Bnv09LfvF97"
   },
   "outputs": [],
   "source": [
    "books = books.dropna()\n",
    "users = users.drop('Age', axis=1)"
   ]
  },
  {
   "cell_type": "code",
   "execution_count": 51,
   "metadata": {
    "colab": {
     "base_uri": "https://localhost:8080/",
     "height": 206
    },
    "id": "jPKmJ6tz_8Ul",
    "outputId": "fb454c83-d014-4902-e814-fa996e3a19aa"
   },
   "outputs": [
    {
     "data": {
      "text/html": [
       "<div>\n",
       "<style scoped>\n",
       "    .dataframe tbody tr th:only-of-type {\n",
       "        vertical-align: middle;\n",
       "    }\n",
       "\n",
       "    .dataframe tbody tr th {\n",
       "        vertical-align: top;\n",
       "    }\n",
       "\n",
       "    .dataframe thead th {\n",
       "        text-align: right;\n",
       "    }\n",
       "</style>\n",
       "<table border=\"1\" class=\"dataframe\">\n",
       "  <thead>\n",
       "    <tr style=\"text-align: right;\">\n",
       "      <th></th>\n",
       "      <th>User-ID</th>\n",
       "      <th>Location</th>\n",
       "    </tr>\n",
       "  </thead>\n",
       "  <tbody>\n",
       "    <tr>\n",
       "      <th>0</th>\n",
       "      <td>1</td>\n",
       "      <td>nyc, new york, usa</td>\n",
       "    </tr>\n",
       "    <tr>\n",
       "      <th>1</th>\n",
       "      <td>2</td>\n",
       "      <td>stockton, california, usa</td>\n",
       "    </tr>\n",
       "    <tr>\n",
       "      <th>2</th>\n",
       "      <td>3</td>\n",
       "      <td>moscow, yukon territory, russia</td>\n",
       "    </tr>\n",
       "    <tr>\n",
       "      <th>3</th>\n",
       "      <td>4</td>\n",
       "      <td>porto, v.n.gaia, portugal</td>\n",
       "    </tr>\n",
       "    <tr>\n",
       "      <th>4</th>\n",
       "      <td>5</td>\n",
       "      <td>farnborough, hants, united kingdom</td>\n",
       "    </tr>\n",
       "  </tbody>\n",
       "</table>\n",
       "</div>"
      ],
      "text/plain": [
       "   User-ID                            Location\n",
       "0        1                  nyc, new york, usa\n",
       "1        2           stockton, california, usa\n",
       "2        3     moscow, yukon territory, russia\n",
       "3        4           porto, v.n.gaia, portugal\n",
       "4        5  farnborough, hants, united kingdom"
      ]
     },
     "execution_count": 51,
     "metadata": {},
     "output_type": "execute_result"
    }
   ],
   "source": [
    "users.head()"
   ]
  },
  {
   "cell_type": "markdown",
   "metadata": {
    "id": "7wuGOrhz0itI"
   },
   "source": [
    "#### What all missing value imputation techniques have you used and why did you use those techniques?"
   ]
  },
  {
   "cell_type": "markdown",
   "metadata": {
    "id": "1ixusLtI0pqI"
   },
   "source": [
    "There are very few missing values in books dataset , so i dropped the rows.\n",
    "The users dataset had 40% missing values in Age column, hence i dropped it.\n"
   ]
  },
  {
   "cell_type": "markdown",
   "metadata": {
    "id": "id1riN9m0vUs"
   },
   "source": [
    "### 2. Handling Outliers"
   ]
  },
  {
   "cell_type": "markdown",
   "metadata": {
    "id": "578E2V7j08f6"
   },
   "source": [
    "##### What all outlier treatment techniques have you used and why did you use those techniques?"
   ]
  },
  {
   "cell_type": "markdown",
   "metadata": {
    "id": "uGZz5OrT1HH-"
   },
   "source": [
    "The three datasets for the book recommendation system consist of 'books', 'users', and 'ratings'. In these datasets, there are no explicitly defined numeric columns that would typically exhibit outliers. Outliers are values that deviate significantly from the majority of the data and can distort statistical analyses or machine learning models. In the context of the book recommendation system datasets, the columns primarily contain categorical information such as book titles, authors, user IDs, ratings, and textual data. These types of data do not inherently exhibit outliers in the same way numeric variables might. Therefore, handling outliers is not a relevant task for these datasets. Instead, the focus can be on tasks such as data cleaning, and handling missing values, which are more pertinent to the nature of the information contained in the datasets."
   ]
  },
  {
   "cell_type": "markdown",
   "metadata": {
    "id": "-oLEiFgy-5Pf"
   },
   "source": [
    "### 4. Feature Manipulation & Selection"
   ]
  },
  {
   "cell_type": "markdown",
   "metadata": {
    "id": "C74aWNz2AliB"
   },
   "source": [
    "#### 1. Feature Manipulation"
   ]
  },
  {
   "cell_type": "code",
   "execution_count": 52,
   "metadata": {
    "colab": {
     "base_uri": "https://localhost:8080/",
     "height": 110
    },
    "id": "3383iYTkHXkQ",
    "outputId": "1e84d884-b9cd-4ed3-a31c-1e5801f82b33"
   },
   "outputs": [
    {
     "data": {
      "text/plain": [
       "\"\\n# Popularity based data manipulation\\nratings_with_name = ratings.merge(books,on='ISBN')\\n\\n# Count of ratings of each book\\nnum_rating_df = ratings_with_name.groupby('Book-Title').count()['Book-Rating'].reset_index()\\nnum_rating_df.rename(columns={'Book-Rating':'num_ratings'},inplace=True)\\n\\n# # Average rating of each book\\navg_rating_df = ratings_with_name.groupby('Book-Title')['Book-Rating'].mean().reset_index()\\navg_rating_df.rename(columns={'Book-Rating':'avg_rating'},inplace=True)\\n\\n# # Merging count and average ratings in one dataset\\npopular_df = num_rating_df.merge(avg_rating_df,on='Book-Title')\\n\\n# Selecting rows with ratings more than 250\\npopular_df = popular_df[popular_df['num_ratings']>=250].sort_values('avg_rating',ascending=False).head(50)\\n\\npopular_df = popular_df.merge(books,on='Book-Title').drop_duplicates('Book-Title')[['Book-Title','Book-Author','Image-URL-M','num_ratings','avg_rating']]\\npopular_df.head()\\n\\n\""
      ]
     },
     "execution_count": 52,
     "metadata": {},
     "output_type": "execute_result"
    }
   ],
   "source": [
    "# Feature Manipulaton done from data wrangling\n",
    "\n",
    "'''\n",
    "# Popularity based data manipulation\n",
    "ratings_with_name = ratings.merge(books,on='ISBN')\n",
    "\n",
    "# Count of ratings of each book\n",
    "num_rating_df = ratings_with_name.groupby('Book-Title').count()['Book-Rating'].reset_index()\n",
    "num_rating_df.rename(columns={'Book-Rating':'num_ratings'},inplace=True)\n",
    "\n",
    "# # Average rating of each book\n",
    "avg_rating_df = ratings_with_name.groupby('Book-Title')['Book-Rating'].mean().reset_index()\n",
    "avg_rating_df.rename(columns={'Book-Rating':'avg_rating'},inplace=True)\n",
    "\n",
    "# # Merging count and average ratings in one dataset\n",
    "popular_df = num_rating_df.merge(avg_rating_df,on='Book-Title')\n",
    "\n",
    "# Selecting rows with ratings more than 250\n",
    "popular_df = popular_df[popular_df['num_ratings']>=250].sort_values('avg_rating',ascending=False).head(50)\n",
    "\n",
    "popular_df = popular_df.merge(books,on='Book-Title').drop_duplicates('Book-Title')[['Book-Title','Book-Author','Image-URL-M','num_ratings','avg_rating']]\n",
    "popular_df.head()\n",
    "\n",
    "'''"
   ]
  },
  {
   "cell_type": "markdown",
   "metadata": {
    "id": "2DejudWSA-a0"
   },
   "source": [
    "#### 2. Feature Selection"
   ]
  },
  {
   "cell_type": "code",
   "execution_count": 53,
   "metadata": {
    "colab": {
     "base_uri": "https://localhost:8080/",
     "height": 206
    },
    "id": "YLhe8UmaBCEE",
    "outputId": "6a5b7039-d7d8-46f5-dc4e-ce670ab36da1"
   },
   "outputs": [
    {
     "data": {
      "text/html": [
       "<div>\n",
       "<style scoped>\n",
       "    .dataframe tbody tr th:only-of-type {\n",
       "        vertical-align: middle;\n",
       "    }\n",
       "\n",
       "    .dataframe tbody tr th {\n",
       "        vertical-align: top;\n",
       "    }\n",
       "\n",
       "    .dataframe thead th {\n",
       "        text-align: right;\n",
       "    }\n",
       "</style>\n",
       "<table border=\"1\" class=\"dataframe\">\n",
       "  <thead>\n",
       "    <tr style=\"text-align: right;\">\n",
       "      <th></th>\n",
       "      <th>Book-Title</th>\n",
       "      <th>Book-Author</th>\n",
       "      <th>Image-URL-M</th>\n",
       "      <th>num_ratings</th>\n",
       "      <th>avg_rating</th>\n",
       "    </tr>\n",
       "  </thead>\n",
       "  <tbody>\n",
       "    <tr>\n",
       "      <th>0</th>\n",
       "      <td>Harry Potter and the Prisoner of Azkaban (Book 3)</td>\n",
       "      <td>J. K. Rowling</td>\n",
       "      <td>http://images.amazon.com/images/P/0439136350.0...</td>\n",
       "      <td>428</td>\n",
       "      <td>5.852804</td>\n",
       "    </tr>\n",
       "    <tr>\n",
       "      <th>3</th>\n",
       "      <td>Harry Potter and the Goblet of Fire (Book 4)</td>\n",
       "      <td>J. K. Rowling</td>\n",
       "      <td>http://images.amazon.com/images/P/0439139597.0...</td>\n",
       "      <td>387</td>\n",
       "      <td>5.824289</td>\n",
       "    </tr>\n",
       "    <tr>\n",
       "      <th>5</th>\n",
       "      <td>Harry Potter and the Sorcerer's Stone (Book 1)</td>\n",
       "      <td>J. K. Rowling</td>\n",
       "      <td>http://images.amazon.com/images/P/0590353403.0...</td>\n",
       "      <td>278</td>\n",
       "      <td>5.737410</td>\n",
       "    </tr>\n",
       "    <tr>\n",
       "      <th>9</th>\n",
       "      <td>Harry Potter and the Order of the Phoenix (Boo...</td>\n",
       "      <td>J. K. Rowling</td>\n",
       "      <td>http://images.amazon.com/images/P/043935806X.0...</td>\n",
       "      <td>347</td>\n",
       "      <td>5.501441</td>\n",
       "    </tr>\n",
       "    <tr>\n",
       "      <th>13</th>\n",
       "      <td>Harry Potter and the Chamber of Secrets (Book 2)</td>\n",
       "      <td>J. K. Rowling</td>\n",
       "      <td>http://images.amazon.com/images/P/0439064872.0...</td>\n",
       "      <td>556</td>\n",
       "      <td>5.183453</td>\n",
       "    </tr>\n",
       "  </tbody>\n",
       "</table>\n",
       "</div>"
      ],
      "text/plain": [
       "                                           Book-Title    Book-Author  \\\n",
       "0   Harry Potter and the Prisoner of Azkaban (Book 3)  J. K. Rowling   \n",
       "3        Harry Potter and the Goblet of Fire (Book 4)  J. K. Rowling   \n",
       "5      Harry Potter and the Sorcerer's Stone (Book 1)  J. K. Rowling   \n",
       "9   Harry Potter and the Order of the Phoenix (Boo...  J. K. Rowling   \n",
       "13   Harry Potter and the Chamber of Secrets (Book 2)  J. K. Rowling   \n",
       "\n",
       "                                          Image-URL-M  num_ratings  avg_rating  \n",
       "0   http://images.amazon.com/images/P/0439136350.0...          428    5.852804  \n",
       "3   http://images.amazon.com/images/P/0439139597.0...          387    5.824289  \n",
       "5   http://images.amazon.com/images/P/0590353403.0...          278    5.737410  \n",
       "9   http://images.amazon.com/images/P/043935806X.0...          347    5.501441  \n",
       "13  http://images.amazon.com/images/P/0439064872.0...          556    5.183453  "
      ]
     },
     "execution_count": 53,
     "metadata": {},
     "output_type": "execute_result"
    }
   ],
   "source": [
    "# Select your features wisely to avoid overfitting\n",
    "# popular_df = popular_df.merge(books,on='Book-Title').drop_duplicates('Book-Title')[['Book-Title','Book-Author','Image-URL-M','num_ratings','avg_rating']]\n",
    "popular_df.head()"
   ]
  },
  {
   "cell_type": "markdown",
   "metadata": {
    "id": "pEMng2IbBLp7"
   },
   "source": [
    "##### What all feature selection methods have you used  and why?"
   ]
  },
  {
   "cell_type": "markdown",
   "metadata": {
    "id": "rb2Lh6Z8BgGs"
   },
   "source": [
    "The feature selection methods employed here focus on popularity indicators such as the count and average rating of books. Filtering by a minimum number of ratings ensures that the selected books have a significant user base, making the recommendations more reliable and reflective of general reader preferences. The sorting by average rating adds a quality measure to the popularity selection, promoting books that not only have high popularity but also high reader satisfaction."
   ]
  },
  {
   "cell_type": "markdown",
   "metadata": {
    "id": "rAdphbQ9Bhjc"
   },
   "source": [
    "##### Which all features you found important and why?"
   ]
  },
  {
   "cell_type": "markdown",
   "metadata": {
    "id": "fGgaEstsBnaf"
   },
   "source": [
    "In the context of the book recommendation system, the key features considered important are the count of ratings (`num_ratings`) and the average rating (`avg_rating`) for each book. These features serve as crucial indicators of a book's popularity and user satisfaction. The count of ratings provides insight into the book's overall popularity by considering the number of readers who have rated it. This ensures that the recommendations are based on books with a substantial user base, enhancing the reliability of the system. On the other hand, the average rating offers a measure of the book's quality, representing the collective sentiment of readers. By filtering out books with fewer than 250 ratings, the system focuses on those that have garnered a significant level of attention. The sorting based on average rating further refines the selection, prioritizing books that not only attract a large audience but also maintain high reader satisfaction. In summary, the chosen features emphasize a balance between popularity and quality, contributing to a more effective and user-centric book recommendation system."
   ]
  },
  {
   "cell_type": "markdown",
   "metadata": {
    "id": "TNVZ9zx19K6k"
   },
   "source": [
    "### 5. Data Transformation"
   ]
  },
  {
   "cell_type": "markdown",
   "metadata": {
    "id": "nqoHp30x9hH9"
   },
   "source": [
    "#### Do you think that your data needs to be transformed? If yes, which transformation have you used. Explain Why?"
   ]
  },
  {
   "cell_type": "code",
   "execution_count": 54,
   "metadata": {
    "id": "I6quWQ1T9rtH"
   },
   "outputs": [],
   "source": [
    "# Transform Your data\n",
    "x = ratings_with_name.groupby('User-ID').count()['Book-Rating'] > 200\n",
    "high_value_users = x[x].index"
   ]
  },
  {
   "cell_type": "code",
   "execution_count": 55,
   "metadata": {
    "id": "R5arOwiwMP37"
   },
   "outputs": [],
   "source": [
    "filtered_rating = ratings_with_name[ratings_with_name['User-ID'].isin(high_value_users)]"
   ]
  },
  {
   "cell_type": "code",
   "execution_count": 56,
   "metadata": {
    "id": "efk3UHHpMPpq"
   },
   "outputs": [],
   "source": [
    "y = filtered_rating.groupby('Book-Title').count()['Book-Rating']>=50\n",
    "famous_books = y[y].index"
   ]
  },
  {
   "cell_type": "code",
   "execution_count": 57,
   "metadata": {
    "id": "_Xw0irNXMPXA"
   },
   "outputs": [],
   "source": [
    "final_ratings = filtered_rating[filtered_rating['Book-Title'].isin(famous_books)]"
   ]
  },
  {
   "cell_type": "code",
   "execution_count": 58,
   "metadata": {
    "id": "Y_Xdx-GLMPTW"
   },
   "outputs": [],
   "source": [
    "pt = final_ratings.pivot_table(index='Book-Title',columns='User-ID',values='Book-Rating')"
   ]
  },
  {
   "cell_type": "code",
   "execution_count": 59,
   "metadata": {
    "id": "AAoCavyXMPPt"
   },
   "outputs": [],
   "source": [
    "pt.fillna(0,inplace=True)"
   ]
  },
  {
   "cell_type": "code",
   "execution_count": 60,
   "metadata": {
    "colab": {
     "base_uri": "https://localhost:8080/",
     "height": 455
    },
    "id": "V5xyeGkNNPMN",
    "outputId": "1910acbd-e535-405d-d8c0-8ac8333faee5"
   },
   "outputs": [
    {
     "data": {
      "text/html": [
       "<div>\n",
       "<style scoped>\n",
       "    .dataframe tbody tr th:only-of-type {\n",
       "        vertical-align: middle;\n",
       "    }\n",
       "\n",
       "    .dataframe tbody tr th {\n",
       "        vertical-align: top;\n",
       "    }\n",
       "\n",
       "    .dataframe thead th {\n",
       "        text-align: right;\n",
       "    }\n",
       "</style>\n",
       "<table border=\"1\" class=\"dataframe\">\n",
       "  <thead>\n",
       "    <tr style=\"text-align: right;\">\n",
       "      <th>User-ID</th>\n",
       "      <th>254</th>\n",
       "      <th>2276</th>\n",
       "      <th>2766</th>\n",
       "      <th>2977</th>\n",
       "      <th>3363</th>\n",
       "      <th>4017</th>\n",
       "      <th>4385</th>\n",
       "      <th>6251</th>\n",
       "      <th>6323</th>\n",
       "      <th>6543</th>\n",
       "      <th>...</th>\n",
       "      <th>271705</th>\n",
       "      <th>273979</th>\n",
       "      <th>274004</th>\n",
       "      <th>274061</th>\n",
       "      <th>274301</th>\n",
       "      <th>274308</th>\n",
       "      <th>275970</th>\n",
       "      <th>277427</th>\n",
       "      <th>277639</th>\n",
       "      <th>278418</th>\n",
       "    </tr>\n",
       "    <tr>\n",
       "      <th>Book-Title</th>\n",
       "      <th></th>\n",
       "      <th></th>\n",
       "      <th></th>\n",
       "      <th></th>\n",
       "      <th></th>\n",
       "      <th></th>\n",
       "      <th></th>\n",
       "      <th></th>\n",
       "      <th></th>\n",
       "      <th></th>\n",
       "      <th></th>\n",
       "      <th></th>\n",
       "      <th></th>\n",
       "      <th></th>\n",
       "      <th></th>\n",
       "      <th></th>\n",
       "      <th></th>\n",
       "      <th></th>\n",
       "      <th></th>\n",
       "      <th></th>\n",
       "      <th></th>\n",
       "    </tr>\n",
       "  </thead>\n",
       "  <tbody>\n",
       "    <tr>\n",
       "      <th>1984</th>\n",
       "      <td>9.0</td>\n",
       "      <td>0.0</td>\n",
       "      <td>0.0</td>\n",
       "      <td>0.0</td>\n",
       "      <td>0.0</td>\n",
       "      <td>0.0</td>\n",
       "      <td>0.0</td>\n",
       "      <td>0.0</td>\n",
       "      <td>0.0</td>\n",
       "      <td>0.0</td>\n",
       "      <td>...</td>\n",
       "      <td>10.0</td>\n",
       "      <td>0.0</td>\n",
       "      <td>0.0</td>\n",
       "      <td>0.0</td>\n",
       "      <td>0.0</td>\n",
       "      <td>0.0</td>\n",
       "      <td>0.0</td>\n",
       "      <td>0.0</td>\n",
       "      <td>0.0</td>\n",
       "      <td>0.0</td>\n",
       "    </tr>\n",
       "    <tr>\n",
       "      <th>1st to Die: A Novel</th>\n",
       "      <td>0.0</td>\n",
       "      <td>0.0</td>\n",
       "      <td>0.0</td>\n",
       "      <td>0.0</td>\n",
       "      <td>0.0</td>\n",
       "      <td>0.0</td>\n",
       "      <td>0.0</td>\n",
       "      <td>0.0</td>\n",
       "      <td>0.0</td>\n",
       "      <td>9.0</td>\n",
       "      <td>...</td>\n",
       "      <td>0.0</td>\n",
       "      <td>0.0</td>\n",
       "      <td>0.0</td>\n",
       "      <td>0.0</td>\n",
       "      <td>0.0</td>\n",
       "      <td>0.0</td>\n",
       "      <td>0.0</td>\n",
       "      <td>0.0</td>\n",
       "      <td>0.0</td>\n",
       "      <td>0.0</td>\n",
       "    </tr>\n",
       "    <tr>\n",
       "      <th>2nd Chance</th>\n",
       "      <td>0.0</td>\n",
       "      <td>10.0</td>\n",
       "      <td>0.0</td>\n",
       "      <td>0.0</td>\n",
       "      <td>0.0</td>\n",
       "      <td>0.0</td>\n",
       "      <td>0.0</td>\n",
       "      <td>0.0</td>\n",
       "      <td>0.0</td>\n",
       "      <td>0.0</td>\n",
       "      <td>...</td>\n",
       "      <td>0.0</td>\n",
       "      <td>0.0</td>\n",
       "      <td>0.0</td>\n",
       "      <td>0.0</td>\n",
       "      <td>0.0</td>\n",
       "      <td>0.0</td>\n",
       "      <td>0.0</td>\n",
       "      <td>0.0</td>\n",
       "      <td>0.0</td>\n",
       "      <td>0.0</td>\n",
       "    </tr>\n",
       "    <tr>\n",
       "      <th>4 Blondes</th>\n",
       "      <td>0.0</td>\n",
       "      <td>0.0</td>\n",
       "      <td>0.0</td>\n",
       "      <td>0.0</td>\n",
       "      <td>0.0</td>\n",
       "      <td>0.0</td>\n",
       "      <td>0.0</td>\n",
       "      <td>0.0</td>\n",
       "      <td>0.0</td>\n",
       "      <td>0.0</td>\n",
       "      <td>...</td>\n",
       "      <td>0.0</td>\n",
       "      <td>0.0</td>\n",
       "      <td>0.0</td>\n",
       "      <td>0.0</td>\n",
       "      <td>0.0</td>\n",
       "      <td>0.0</td>\n",
       "      <td>0.0</td>\n",
       "      <td>0.0</td>\n",
       "      <td>0.0</td>\n",
       "      <td>0.0</td>\n",
       "    </tr>\n",
       "    <tr>\n",
       "      <th>A Bend in the Road</th>\n",
       "      <td>0.0</td>\n",
       "      <td>0.0</td>\n",
       "      <td>7.0</td>\n",
       "      <td>0.0</td>\n",
       "      <td>0.0</td>\n",
       "      <td>0.0</td>\n",
       "      <td>0.0</td>\n",
       "      <td>0.0</td>\n",
       "      <td>0.0</td>\n",
       "      <td>0.0</td>\n",
       "      <td>...</td>\n",
       "      <td>0.0</td>\n",
       "      <td>0.0</td>\n",
       "      <td>0.0</td>\n",
       "      <td>0.0</td>\n",
       "      <td>0.0</td>\n",
       "      <td>0.0</td>\n",
       "      <td>0.0</td>\n",
       "      <td>0.0</td>\n",
       "      <td>0.0</td>\n",
       "      <td>0.0</td>\n",
       "    </tr>\n",
       "    <tr>\n",
       "      <th>...</th>\n",
       "      <td>...</td>\n",
       "      <td>...</td>\n",
       "      <td>...</td>\n",
       "      <td>...</td>\n",
       "      <td>...</td>\n",
       "      <td>...</td>\n",
       "      <td>...</td>\n",
       "      <td>...</td>\n",
       "      <td>...</td>\n",
       "      <td>...</td>\n",
       "      <td>...</td>\n",
       "      <td>...</td>\n",
       "      <td>...</td>\n",
       "      <td>...</td>\n",
       "      <td>...</td>\n",
       "      <td>...</td>\n",
       "      <td>...</td>\n",
       "      <td>...</td>\n",
       "      <td>...</td>\n",
       "      <td>...</td>\n",
       "      <td>...</td>\n",
       "    </tr>\n",
       "    <tr>\n",
       "      <th>Year of Wonders</th>\n",
       "      <td>0.0</td>\n",
       "      <td>0.0</td>\n",
       "      <td>0.0</td>\n",
       "      <td>7.0</td>\n",
       "      <td>0.0</td>\n",
       "      <td>0.0</td>\n",
       "      <td>0.0</td>\n",
       "      <td>0.0</td>\n",
       "      <td>0.0</td>\n",
       "      <td>0.0</td>\n",
       "      <td>...</td>\n",
       "      <td>0.0</td>\n",
       "      <td>9.0</td>\n",
       "      <td>0.0</td>\n",
       "      <td>0.0</td>\n",
       "      <td>0.0</td>\n",
       "      <td>0.0</td>\n",
       "      <td>0.0</td>\n",
       "      <td>0.0</td>\n",
       "      <td>0.0</td>\n",
       "      <td>0.0</td>\n",
       "    </tr>\n",
       "    <tr>\n",
       "      <th>You Belong To Me</th>\n",
       "      <td>0.0</td>\n",
       "      <td>0.0</td>\n",
       "      <td>0.0</td>\n",
       "      <td>0.0</td>\n",
       "      <td>0.0</td>\n",
       "      <td>0.0</td>\n",
       "      <td>0.0</td>\n",
       "      <td>0.0</td>\n",
       "      <td>0.0</td>\n",
       "      <td>0.0</td>\n",
       "      <td>...</td>\n",
       "      <td>0.0</td>\n",
       "      <td>0.0</td>\n",
       "      <td>0.0</td>\n",
       "      <td>0.0</td>\n",
       "      <td>0.0</td>\n",
       "      <td>0.0</td>\n",
       "      <td>0.0</td>\n",
       "      <td>0.0</td>\n",
       "      <td>0.0</td>\n",
       "      <td>0.0</td>\n",
       "    </tr>\n",
       "    <tr>\n",
       "      <th>Zen and the Art of Motorcycle Maintenance: An Inquiry into Values</th>\n",
       "      <td>0.0</td>\n",
       "      <td>0.0</td>\n",
       "      <td>0.0</td>\n",
       "      <td>0.0</td>\n",
       "      <td>0.0</td>\n",
       "      <td>0.0</td>\n",
       "      <td>0.0</td>\n",
       "      <td>0.0</td>\n",
       "      <td>0.0</td>\n",
       "      <td>0.0</td>\n",
       "      <td>...</td>\n",
       "      <td>0.0</td>\n",
       "      <td>0.0</td>\n",
       "      <td>0.0</td>\n",
       "      <td>0.0</td>\n",
       "      <td>0.0</td>\n",
       "      <td>0.0</td>\n",
       "      <td>0.0</td>\n",
       "      <td>0.0</td>\n",
       "      <td>0.0</td>\n",
       "      <td>0.0</td>\n",
       "    </tr>\n",
       "    <tr>\n",
       "      <th>Zoya</th>\n",
       "      <td>0.0</td>\n",
       "      <td>0.0</td>\n",
       "      <td>0.0</td>\n",
       "      <td>0.0</td>\n",
       "      <td>0.0</td>\n",
       "      <td>0.0</td>\n",
       "      <td>0.0</td>\n",
       "      <td>0.0</td>\n",
       "      <td>0.0</td>\n",
       "      <td>0.0</td>\n",
       "      <td>...</td>\n",
       "      <td>0.0</td>\n",
       "      <td>0.0</td>\n",
       "      <td>0.0</td>\n",
       "      <td>0.0</td>\n",
       "      <td>0.0</td>\n",
       "      <td>0.0</td>\n",
       "      <td>0.0</td>\n",
       "      <td>0.0</td>\n",
       "      <td>0.0</td>\n",
       "      <td>0.0</td>\n",
       "    </tr>\n",
       "    <tr>\n",
       "      <th>\\O\\\" Is for Outlaw\"</th>\n",
       "      <td>0.0</td>\n",
       "      <td>0.0</td>\n",
       "      <td>0.0</td>\n",
       "      <td>0.0</td>\n",
       "      <td>0.0</td>\n",
       "      <td>0.0</td>\n",
       "      <td>0.0</td>\n",
       "      <td>0.0</td>\n",
       "      <td>0.0</td>\n",
       "      <td>0.0</td>\n",
       "      <td>...</td>\n",
       "      <td>0.0</td>\n",
       "      <td>0.0</td>\n",
       "      <td>0.0</td>\n",
       "      <td>0.0</td>\n",
       "      <td>8.0</td>\n",
       "      <td>0.0</td>\n",
       "      <td>0.0</td>\n",
       "      <td>0.0</td>\n",
       "      <td>0.0</td>\n",
       "      <td>0.0</td>\n",
       "    </tr>\n",
       "  </tbody>\n",
       "</table>\n",
       "<p>706 rows × 810 columns</p>\n",
       "</div>"
      ],
      "text/plain": [
       "User-ID                                             254     2276    2766    \\\n",
       "Book-Title                                                                   \n",
       "1984                                                   9.0     0.0     0.0   \n",
       "1st to Die: A Novel                                    0.0     0.0     0.0   \n",
       "2nd Chance                                             0.0    10.0     0.0   \n",
       "4 Blondes                                              0.0     0.0     0.0   \n",
       "A Bend in the Road                                     0.0     0.0     7.0   \n",
       "...                                                    ...     ...     ...   \n",
       "Year of Wonders                                        0.0     0.0     0.0   \n",
       "You Belong To Me                                       0.0     0.0     0.0   \n",
       "Zen and the Art of Motorcycle Maintenance: An I...     0.0     0.0     0.0   \n",
       "Zoya                                                   0.0     0.0     0.0   \n",
       "\\O\\\" Is for Outlaw\"                                    0.0     0.0     0.0   \n",
       "\n",
       "User-ID                                             2977    3363    4017    \\\n",
       "Book-Title                                                                   \n",
       "1984                                                   0.0     0.0     0.0   \n",
       "1st to Die: A Novel                                    0.0     0.0     0.0   \n",
       "2nd Chance                                             0.0     0.0     0.0   \n",
       "4 Blondes                                              0.0     0.0     0.0   \n",
       "A Bend in the Road                                     0.0     0.0     0.0   \n",
       "...                                                    ...     ...     ...   \n",
       "Year of Wonders                                        7.0     0.0     0.0   \n",
       "You Belong To Me                                       0.0     0.0     0.0   \n",
       "Zen and the Art of Motorcycle Maintenance: An I...     0.0     0.0     0.0   \n",
       "Zoya                                                   0.0     0.0     0.0   \n",
       "\\O\\\" Is for Outlaw\"                                    0.0     0.0     0.0   \n",
       "\n",
       "User-ID                                             4385    6251    6323    \\\n",
       "Book-Title                                                                   \n",
       "1984                                                   0.0     0.0     0.0   \n",
       "1st to Die: A Novel                                    0.0     0.0     0.0   \n",
       "2nd Chance                                             0.0     0.0     0.0   \n",
       "4 Blondes                                              0.0     0.0     0.0   \n",
       "A Bend in the Road                                     0.0     0.0     0.0   \n",
       "...                                                    ...     ...     ...   \n",
       "Year of Wonders                                        0.0     0.0     0.0   \n",
       "You Belong To Me                                       0.0     0.0     0.0   \n",
       "Zen and the Art of Motorcycle Maintenance: An I...     0.0     0.0     0.0   \n",
       "Zoya                                                   0.0     0.0     0.0   \n",
       "\\O\\\" Is for Outlaw\"                                    0.0     0.0     0.0   \n",
       "\n",
       "User-ID                                             6543    ...  271705  \\\n",
       "Book-Title                                                  ...           \n",
       "1984                                                   0.0  ...    10.0   \n",
       "1st to Die: A Novel                                    9.0  ...     0.0   \n",
       "2nd Chance                                             0.0  ...     0.0   \n",
       "4 Blondes                                              0.0  ...     0.0   \n",
       "A Bend in the Road                                     0.0  ...     0.0   \n",
       "...                                                    ...  ...     ...   \n",
       "Year of Wonders                                        0.0  ...     0.0   \n",
       "You Belong To Me                                       0.0  ...     0.0   \n",
       "Zen and the Art of Motorcycle Maintenance: An I...     0.0  ...     0.0   \n",
       "Zoya                                                   0.0  ...     0.0   \n",
       "\\O\\\" Is for Outlaw\"                                    0.0  ...     0.0   \n",
       "\n",
       "User-ID                                             273979  274004  274061  \\\n",
       "Book-Title                                                                   \n",
       "1984                                                   0.0     0.0     0.0   \n",
       "1st to Die: A Novel                                    0.0     0.0     0.0   \n",
       "2nd Chance                                             0.0     0.0     0.0   \n",
       "4 Blondes                                              0.0     0.0     0.0   \n",
       "A Bend in the Road                                     0.0     0.0     0.0   \n",
       "...                                                    ...     ...     ...   \n",
       "Year of Wonders                                        9.0     0.0     0.0   \n",
       "You Belong To Me                                       0.0     0.0     0.0   \n",
       "Zen and the Art of Motorcycle Maintenance: An I...     0.0     0.0     0.0   \n",
       "Zoya                                                   0.0     0.0     0.0   \n",
       "\\O\\\" Is for Outlaw\"                                    0.0     0.0     0.0   \n",
       "\n",
       "User-ID                                             274301  274308  275970  \\\n",
       "Book-Title                                                                   \n",
       "1984                                                   0.0     0.0     0.0   \n",
       "1st to Die: A Novel                                    0.0     0.0     0.0   \n",
       "2nd Chance                                             0.0     0.0     0.0   \n",
       "4 Blondes                                              0.0     0.0     0.0   \n",
       "A Bend in the Road                                     0.0     0.0     0.0   \n",
       "...                                                    ...     ...     ...   \n",
       "Year of Wonders                                        0.0     0.0     0.0   \n",
       "You Belong To Me                                       0.0     0.0     0.0   \n",
       "Zen and the Art of Motorcycle Maintenance: An I...     0.0     0.0     0.0   \n",
       "Zoya                                                   0.0     0.0     0.0   \n",
       "\\O\\\" Is for Outlaw\"                                    8.0     0.0     0.0   \n",
       "\n",
       "User-ID                                             277427  277639  278418  \n",
       "Book-Title                                                                  \n",
       "1984                                                   0.0     0.0     0.0  \n",
       "1st to Die: A Novel                                    0.0     0.0     0.0  \n",
       "2nd Chance                                             0.0     0.0     0.0  \n",
       "4 Blondes                                              0.0     0.0     0.0  \n",
       "A Bend in the Road                                     0.0     0.0     0.0  \n",
       "...                                                    ...     ...     ...  \n",
       "Year of Wonders                                        0.0     0.0     0.0  \n",
       "You Belong To Me                                       0.0     0.0     0.0  \n",
       "Zen and the Art of Motorcycle Maintenance: An I...     0.0     0.0     0.0  \n",
       "Zoya                                                   0.0     0.0     0.0  \n",
       "\\O\\\" Is for Outlaw\"                                    0.0     0.0     0.0  \n",
       "\n",
       "[706 rows x 810 columns]"
      ]
     },
     "execution_count": 60,
     "metadata": {},
     "output_type": "execute_result"
    }
   ],
   "source": [
    "pt"
   ]
  },
  {
   "cell_type": "markdown",
   "metadata": {
    "id": "QpwM2poVIOEH"
   },
   "source": [
    "# **Item-Based Collaborative Filtering Recommendation System**"
   ]
  },
  {
   "cell_type": "code",
   "execution_count": 61,
   "metadata": {
    "colab": {
     "base_uri": "https://localhost:8080/"
    },
    "id": "WlHVhNgVNO76",
    "outputId": "7c953aea-5500-4b64-88f9-3f3999d680a3"
   },
   "outputs": [
    {
     "data": {
      "text/plain": [
       "(706, 706)"
      ]
     },
     "execution_count": 61,
     "metadata": {},
     "output_type": "execute_result"
    }
   ],
   "source": [
    "from sklearn.metrics.pairwise import cosine_similarity\n",
    "similarity_scores = cosine_similarity(pt)\n",
    "\n",
    "similarity_scores.shape"
   ]
  },
  {
   "cell_type": "code",
   "execution_count": 62,
   "metadata": {
    "colab": {
     "base_uri": "https://localhost:8080/",
     "height": 326,
     "referenced_widgets": [
      "d07394f422b7487194e48dd95e26d939",
      "7d33e1c82827441d904e50e9981ebea4",
      "cd52cca1a8114be1a31ec0f44b145840",
      "330859f7ae9d4e6c8da28b826f4f203e",
      "f5bcbf61f8e34d0eb31323cc18ce319e",
      "eb0c48934d974b15b054c437f3234c81",
      "7cab291b553449c49014ddf5748e4f16"
     ]
    },
    "id": "ipj6QKuSHJX3",
    "outputId": "36c3ade5-6457-4aa7-aeda-5d56368a8297"
   },
   "outputs": [
    {
     "data": {
      "application/vnd.jupyter.widget-view+json": {
       "model_id": "7c4cad4dbb114ef9983bc743d496ddb4",
       "version_major": 2,
       "version_minor": 0
      },
      "text/plain": [
       "interactive(children=(Dropdown(description='Book Name', options=('1984', '1st to Die: A Novel', '2nd Chance', …"
      ]
     },
     "metadata": {},
     "output_type": "display_data"
    }
   ],
   "source": [
    "# for interactive plot\n",
    "from ipywidgets import interact, widgets\n",
    "\n",
    "@interact(book_name=widgets.Dropdown(options=list(pt.index), description='Book Name'))\n",
    "def recommend(book_name):\n",
    "    # index fetch\n",
    "    index = np.where(pt.index == book_name)[0][0]\n",
    "    similar_items = sorted(list(enumerate(similarity_scores[index])), key=lambda x: x[1], reverse=True)[1:6]\n",
    "\n",
    "    data = []\n",
    "    for i in similar_items:\n",
    "        item = []\n",
    "        temp_df = books[books['Book-Title'] == pt.index[i[0]]]\n",
    "        item.extend(list(temp_df.drop_duplicates('Book-Title')['Book-Title'].values))\n",
    "        item.extend(list(temp_df.drop_duplicates('Book-Title')['Book-Author'].values))\n",
    "        item.extend(list(temp_df.drop_duplicates('Book-Title')['Image-URL-M'].values))\n",
    "\n",
    "        data.append(item)\n",
    "\n",
    "    return data\n"
   ]
  },
  {
   "cell_type": "code",
   "execution_count": 63,
   "metadata": {
    "id": "ysWvdUrGNpqn"
   },
   "outputs": [],
   "source": [
    "import pickle\n",
    "pickle.dump(popular_df,open('popular.pkl','wb'))"
   ]
  },
  {
   "cell_type": "code",
   "execution_count": 64,
   "metadata": {
    "id": "jd16EhZ3SgsO"
   },
   "outputs": [],
   "source": [
    "pickle.dump(pt,open('pt.pkl','wb'))"
   ]
  },
  {
   "cell_type": "code",
   "execution_count": 65,
   "metadata": {
    "id": "uoTGBhJ4UYK2"
   },
   "outputs": [],
   "source": [
    "pickle.dump(books,open('books.pkl','wb'))"
   ]
  },
  {
   "cell_type": "code",
   "execution_count": 66,
   "metadata": {
    "id": "9J-2mewiUOI0"
   },
   "outputs": [],
   "source": [
    "pickle.dump(similarity_scores,open('similarity_scores.pkl','wb'))"
   ]
  },
  {
   "cell_type": "markdown",
   "metadata": {
    "id": "I-CYcyXRPoou"
   },
   "source": [
    "The provided code implements an Item-Based Collaborative Filtering Recommendation System tailored for a book recommendation project. This recommendation system relies on the concept that users who enjoyed similar books in the past are likely to have comparable preferences in the future. Here's a step-by-step breakdown of how the system operates:\n",
    "\n",
    "1. **Interactive Plotting:** The system incorporates the `ipywidgets` library to create an interactive plot. Users can select a book from a dropdown list (`book_name`). The system then generates recommendations based on the chosen book.\n",
    "\n",
    "2. **Similarity Scores Calculation:** To determine recommendations, the system calculates similarity scores between the selected book and all other books in the dataset. This is achieved through a collaborative filtering approach, which assesses user preferences for different books.\n",
    "\n",
    "3. **Sorting Similar Items:** The calculated similarity scores are used to rank books in descending order. The most similar items are listed first.\n",
    "\n",
    "4. **Displaying Recommendations:** The system showcases the top 4 books with the highest similarity scores, excluding the selected book itself. For each recommended book, details like title, author, and an image URL are provided.\n",
    "\n",
    "5. **User Interaction:** Users can dynamically explore recommendations for various books, gaining insights into items that share similar user preferences.\n",
    "\n",
    "This collaborative filtering recommendation system is instrumental in suggesting books to users based on the preferences and behaviors of similar readers. It elevates the user experience by delivering personalized recommendations, fostering engagement, and enhancing overall satisfaction in the realm of book choices."
   ]
  },
  {
   "cell_type": "markdown",
   "metadata": {
    "id": "aWHjghIRPyzE"
   },
   "source": [
    "# **DataPreprocessing for ML Model**"
   ]
  },
  {
   "cell_type": "code",
   "execution_count": 67,
   "metadata": {
    "id": "SCrip0kLJVrO"
   },
   "outputs": [],
   "source": [
    "def num_to_obj(x):\n",
    "    if x >0 and x <=1:\n",
    "        return \"between 0 and 1\"\n",
    "    if x > 1 and x <= 2:\n",
    "        return \"between 1 and 2\"\n",
    "    if x > 2 and x <=3:\n",
    "        return \"between 2 and 3\"\n",
    "    if x >3 and x<=4:\n",
    "        return \"between 3 and 4\"\n",
    "    if x >4 and x<=5:\n",
    "        return \"between 4 and 5\"\n",
    "popular_df['rating_obj'] = popular_df['avg_rating'].apply(num_to_obj)"
   ]
  },
  {
   "cell_type": "code",
   "execution_count": 68,
   "metadata": {
    "colab": {
     "base_uri": "https://localhost:8080/"
    },
    "id": "VFZt4z7_JzwD",
    "outputId": "6aea06d9-179f-45c6-cfbe-725876c6e8f5"
   },
   "outputs": [
    {
     "data": {
      "text/plain": [
       "rating_obj\n",
       "between 4 and 5    32\n",
       "between 3 and 4    12\n",
       "Name: count, dtype: int64"
      ]
     },
     "execution_count": 68,
     "metadata": {},
     "output_type": "execute_result"
    }
   ],
   "source": [
    "popular_df['rating_obj'].value_counts()"
   ]
  },
  {
   "cell_type": "code",
   "execution_count": 69,
   "metadata": {
    "colab": {
     "base_uri": "https://localhost:8080/",
     "height": 206
    },
    "id": "H7zTKDHeJzrz",
    "outputId": "f3d4f481-03f5-4906-89d2-5f5d51944f86"
   },
   "outputs": [
    {
     "data": {
      "text/html": [
       "<div>\n",
       "<style scoped>\n",
       "    .dataframe tbody tr th:only-of-type {\n",
       "        vertical-align: middle;\n",
       "    }\n",
       "\n",
       "    .dataframe tbody tr th {\n",
       "        vertical-align: top;\n",
       "    }\n",
       "\n",
       "    .dataframe thead th {\n",
       "        text-align: right;\n",
       "    }\n",
       "</style>\n",
       "<table border=\"1\" class=\"dataframe\">\n",
       "  <thead>\n",
       "    <tr style=\"text-align: right;\">\n",
       "      <th></th>\n",
       "      <th>between 3 and 4</th>\n",
       "      <th>between 4 and 5</th>\n",
       "    </tr>\n",
       "  </thead>\n",
       "  <tbody>\n",
       "    <tr>\n",
       "      <th>0</th>\n",
       "      <td>False</td>\n",
       "      <td>False</td>\n",
       "    </tr>\n",
       "    <tr>\n",
       "      <th>3</th>\n",
       "      <td>False</td>\n",
       "      <td>False</td>\n",
       "    </tr>\n",
       "    <tr>\n",
       "      <th>5</th>\n",
       "      <td>False</td>\n",
       "      <td>False</td>\n",
       "    </tr>\n",
       "    <tr>\n",
       "      <th>9</th>\n",
       "      <td>False</td>\n",
       "      <td>False</td>\n",
       "    </tr>\n",
       "    <tr>\n",
       "      <th>13</th>\n",
       "      <td>False</td>\n",
       "      <td>False</td>\n",
       "    </tr>\n",
       "  </tbody>\n",
       "</table>\n",
       "</div>"
      ],
      "text/plain": [
       "    between 3 and 4  between 4 and 5\n",
       "0             False            False\n",
       "3             False            False\n",
       "5             False            False\n",
       "9             False            False\n",
       "13            False            False"
      ]
     },
     "execution_count": 69,
     "metadata": {},
     "output_type": "execute_result"
    }
   ],
   "source": [
    "rating_df = pd.get_dummies(popular_df['rating_obj'])\n",
    "rating_df.head()"
   ]
  },
  {
   "cell_type": "code",
   "execution_count": 70,
   "metadata": {
    "colab": {
     "base_uri": "https://localhost:8080/",
     "height": 237
    },
    "id": "bpxvQmxkJ-gS",
    "outputId": "81ef839c-0af1-495c-a846-215c17c085ff"
   },
   "outputs": [
    {
     "data": {
      "text/html": [
       "<div>\n",
       "<style scoped>\n",
       "    .dataframe tbody tr th:only-of-type {\n",
       "        vertical-align: middle;\n",
       "    }\n",
       "\n",
       "    .dataframe tbody tr th {\n",
       "        vertical-align: top;\n",
       "    }\n",
       "\n",
       "    .dataframe thead th {\n",
       "        text-align: right;\n",
       "    }\n",
       "</style>\n",
       "<table border=\"1\" class=\"dataframe\">\n",
       "  <thead>\n",
       "    <tr style=\"text-align: right;\">\n",
       "      <th></th>\n",
       "      <th>between 3 and 4</th>\n",
       "      <th>between 4 and 5</th>\n",
       "      <th>avg_rating</th>\n",
       "    </tr>\n",
       "    <tr>\n",
       "      <th>Book-Title</th>\n",
       "      <th></th>\n",
       "      <th></th>\n",
       "      <th></th>\n",
       "    </tr>\n",
       "  </thead>\n",
       "  <tbody>\n",
       "    <tr>\n",
       "      <th>Harry Potter and the Prisoner of Azkaban (Book 3)</th>\n",
       "      <td>False</td>\n",
       "      <td>False</td>\n",
       "      <td>5.852804</td>\n",
       "    </tr>\n",
       "    <tr>\n",
       "      <th>Harry Potter and the Goblet of Fire (Book 4)</th>\n",
       "      <td>False</td>\n",
       "      <td>False</td>\n",
       "      <td>5.824289</td>\n",
       "    </tr>\n",
       "    <tr>\n",
       "      <th>Harry Potter and the Sorcerer's Stone (Book 1)</th>\n",
       "      <td>False</td>\n",
       "      <td>False</td>\n",
       "      <td>5.737410</td>\n",
       "    </tr>\n",
       "    <tr>\n",
       "      <th>Harry Potter and the Order of the Phoenix (Book 5)</th>\n",
       "      <td>False</td>\n",
       "      <td>False</td>\n",
       "      <td>5.501441</td>\n",
       "    </tr>\n",
       "    <tr>\n",
       "      <th>Harry Potter and the Chamber of Secrets (Book 2)</th>\n",
       "      <td>False</td>\n",
       "      <td>False</td>\n",
       "      <td>5.183453</td>\n",
       "    </tr>\n",
       "  </tbody>\n",
       "</table>\n",
       "</div>"
      ],
      "text/plain": [
       "                                                    between 3 and 4  \\\n",
       "Book-Title                                                            \n",
       "Harry Potter and the Prisoner of Azkaban (Book 3)             False   \n",
       "Harry Potter and the Goblet of Fire (Book 4)                  False   \n",
       "Harry Potter and the Sorcerer's Stone (Book 1)                False   \n",
       "Harry Potter and the Order of the Phoenix (Book 5)            False   \n",
       "Harry Potter and the Chamber of Secrets (Book 2)              False   \n",
       "\n",
       "                                                    between 4 and 5  \\\n",
       "Book-Title                                                            \n",
       "Harry Potter and the Prisoner of Azkaban (Book 3)             False   \n",
       "Harry Potter and the Goblet of Fire (Book 4)                  False   \n",
       "Harry Potter and the Sorcerer's Stone (Book 1)                False   \n",
       "Harry Potter and the Order of the Phoenix (Book 5)            False   \n",
       "Harry Potter and the Chamber of Secrets (Book 2)              False   \n",
       "\n",
       "                                                    avg_rating  \n",
       "Book-Title                                                      \n",
       "Harry Potter and the Prisoner of Azkaban (Book 3)     5.852804  \n",
       "Harry Potter and the Goblet of Fire (Book 4)          5.824289  \n",
       "Harry Potter and the Sorcerer's Stone (Book 1)        5.737410  \n",
       "Harry Potter and the Order of the Phoenix (Book 5)    5.501441  \n",
       "Harry Potter and the Chamber of Secrets (Book 2)      5.183453  "
      ]
     },
     "execution_count": 70,
     "metadata": {},
     "output_type": "execute_result"
    }
   ],
   "source": [
    "features = pd.concat([rating_df, popular_df['avg_rating'],\n",
    "                     popular_df['Book-Title']], axis = 1)\n",
    "features.set_index('Book-Title', inplace= True)\n",
    "features.head()"
   ]
  },
  {
   "cell_type": "markdown",
   "metadata": {
    "id": "VfCC591jGiD4"
   },
   "source": [
    "## ***7. ML Model Implementation***"
   ]
  },
  {
   "cell_type": "markdown",
   "metadata": {
    "id": "OB4l2ZhMeS1U"
   },
   "source": [
    "### ML Model - 1"
   ]
  },
  {
   "cell_type": "code",
   "execution_count": 71,
   "metadata": {
    "colab": {
     "base_uri": "https://localhost:8080/",
     "height": 238,
     "referenced_widgets": [
      "b51e775a95a6491da030bd310635a4a7",
      "856f29861da14432842238c188ece591",
      "9f6bcb7791c2424983dd3d19525b3953",
      "f3c4dbe445234dacbd6089e1e98eb59f",
      "ff1333c59e83420a80dfd912091b4a97",
      "4d42237a80524c2384274f8acbc682d3",
      "3cf5266478434b26bd19b22264f7a960"
     ]
    },
    "id": "pMq1xmnYFtrm",
    "outputId": "2260b5dd-63b8-4b59-8cf7-85048af81e54"
   },
   "outputs": [
    {
     "data": {
      "application/vnd.jupyter.widget-view+json": {
       "model_id": "f38b9ceb3c14490c8130aabea1ffebf0",
       "version_major": 2,
       "version_minor": 0
      },
      "text/plain": [
       "interactive(children=(Dropdown(description='book_name', options=('Harry Potter and the Prisoner of Azkaban (Bo…"
      ]
     },
     "metadata": {},
     "output_type": "display_data"
    }
   ],
   "source": [
    "from sklearn.preprocessing import MinMaxScaler\n",
    "from sklearn.neighbors import NearestNeighbors\n",
    "\n",
    "# Selecting relevant features for recommendation\n",
    "features = popular_df[['num_ratings', 'avg_rating']]\n",
    "\n",
    "# Scaling the features\n",
    "scaler = MinMaxScaler()\n",
    "features_scaled = scaler.fit_transform(features)\n",
    "\n",
    "# Fit the Nearest Neighbors model\n",
    "model = NearestNeighbors(n_neighbors=5, algorithm='ball_tree', metric='euclidean')\n",
    "model.fit(features_scaled)\n",
    "\n",
    "@interact\n",
    "def recommend_books(book_name=list(popular_df['Book-Title'].unique())):\n",
    "    # Find the index of the selected book\n",
    "    book_index = popular_df[popular_df['Book-Title'] == book_name].index[0]\n",
    "\n",
    "    # Get neighbors for the selected book\n",
    "    _, neighbor_indices = model.kneighbors(features_scaled[book_index].reshape(1, -1))\n",
    "\n",
    "    # Get recommended books\n",
    "    recommended_books = popular_df.iloc[neighbor_indices[0]][['Book-Title', 'Book-Author', 'Image-URL-M', 'num_ratings', 'avg_rating']]\n",
    "\n",
    "    return recommended_books"
   ]
  },
  {
   "cell_type": "markdown",
   "metadata": {
    "id": "HvGl1hHyA_VK"
   },
   "source": [
    "### **Explain the model which you have used and the feature importance using any model explainability tool?**"
   ]
  },
  {
   "cell_type": "markdown",
   "metadata": {
    "id": "YnvVTiIxBL-C"
   },
   "source": [
    "The above model provided implements a book recommendation system using a Nearest Neighbors model. Here's a breakdown of the steps involved:\n",
    "\n",
    "1. **Feature Selection:** Relevant features for recommendation, namely 'num_ratings' (number of ratings) and 'avg_rating' (average rating), are selected from the `popular_df` DataFrame. These features capture both the popularity and average user ratings of books.\n",
    "\n",
    "2. **Feature Scaling:** To ensure that both 'num_ratings' and 'avg_rating' contribute equally to the distance calculations in the Nearest Neighbors model, the features are scaled using Min-Max scaling. This transformation scales the features to a specific range (usually between 0 and 1).\n",
    "\n",
    "3. **Nearest Neighbors Model:** The `NearestNeighbors` model is employed for finding the k-neighbors of a point (book) in the scaled feature space. The 'ball_tree' algorithm is used for efficient nearest neighbors search, and the Euclidean distance metric is chosen to measure the proximity between points.\n",
    "\n",
    "4. **Interactive Recommendation:** The `@interact` decorator from the `ipywidgets` library enables users to interactively choose a book from the provided dropdown list ('book_name'). The selected book's index is then used to identify its neighbors in the feature space.\n",
    "\n",
    "5. **Recommendation Generation:** The model identifies the k-nearest neighbors of the selected book based on the scaled 'num_ratings' and 'avg_rating'. The recommended books are retrieved from the `popular_df` DataFrame, including details like title, author, image URL, number of ratings, and average rating.\n"
   ]
  },
  {
   "cell_type": "markdown",
   "metadata": {
    "id": "EyNgTHvd2WFk"
   },
   "source": [
    "## ***8.*** ***Future Work (Optional)***"
   ]
  },
  {
   "cell_type": "markdown",
   "metadata": {
    "id": "KH5McJBi2d8v"
   },
   "source": [
    "### 1. Save the best performing ml model in a pickle file or joblib file format for deployment process.\n"
   ]
  },
  {
   "cell_type": "code",
   "execution_count": 72,
   "metadata": {
    "id": "bQIANRl32f4J"
   },
   "outputs": [],
   "source": [
    "# Save the File"
   ]
  },
  {
   "cell_type": "markdown",
   "metadata": {
    "id": "iW_Lq9qf2h6X"
   },
   "source": [
    "### 2. Again Load the saved model file and try to predict unseen data for a sanity check.\n"
   ]
  },
  {
   "cell_type": "code",
   "execution_count": 73,
   "metadata": {
    "id": "oEXk9ydD2nVC"
   },
   "outputs": [],
   "source": [
    "# Load the File and predict unseen data."
   ]
  },
  {
   "cell_type": "markdown",
   "metadata": {
    "id": "-Kee-DAl2viO"
   },
   "source": [
    "### ***Congrats! Your model is successfully created and ready for deployment on a live server for a real user interaction !!!***"
   ]
  },
  {
   "cell_type": "markdown",
   "metadata": {
    "id": "gCX9965dhzqZ"
   },
   "source": [
    "# **Conclusion**"
   ]
  },
  {
   "cell_type": "markdown",
   "metadata": {
    "id": "Fjb1IsQkh3yE"
   },
   "source": [
    "In conclusion, the implemented book recommendation system, utilizing a Nearest Neighbors model, successfully provides users with personalized book suggestions based on a combination of popularity metrics and average ratings. The system's interactivity empowers users to select a book of interest and receive dynamically generated recommendations, enhancing their exploration of the digital library.\n",
    "\n",
    "Recommendation systems are vital for user engagement, and this project lays a foundation for further improvements. To enhance the system's performance, incorporating additional factors such as user demographics, reading history, or genre preferences could provide more accurate and tailored recommendations. This expansion aligns with business goals to offer a comprehensive and personalized user experience.\n",
    "\n",
    "Continuous monitoring of the recommendation system's performance using relevant metrics, such as click-through rates or user satisfaction surveys, will be crucial. Feedback from users can guide iterative enhancements, ensuring that the recommendations align with evolving user preferences.\n",
    "\n",
    "Looking ahead, exploring advanced recommendation algorithms, machine learning techniques, and incorporating real-time user feedback can contribute to a more sophisticated and effective recommendation engine. As the system matures, collaboration with data scientists and user experience experts will be valuable for optimizing algorithms and refining the user interface.\n",
    "\n",
    "In summary, while the current book recommendation system provides valuable insights into user preferences, there is substantial room for growth. By considering business objectives, incorporating user feedback, and staying abreast of emerging technologies, the recommendation system can evolve into a powerful tool that not only meets but exceeds user expectations, ultimately contributing to positive business impact and sustained user engagement."
   ]
  },
  {
   "cell_type": "markdown",
   "metadata": {
    "id": "gIfDvo9L0UH2"
   },
   "source": [
    "### ***Hurrah! You have successfully completed your Machine Learning Capstone Project !!!***"
   ]
  },
  {
   "cell_type": "code",
   "execution_count": null,
   "metadata": {},
   "outputs": [],
   "source": []
  },
  {
   "cell_type": "code",
   "execution_count": null,
   "metadata": {},
   "outputs": [],
   "source": []
  }
 ],
 "metadata": {
  "colab": {
   "collapsed_sections": [
    "mDgbUHAGgjLW",
    "PBTbrJXOngz2",
    "tEA2Xm5dHt1r",
    "hwyV_J3ipUZe",
    "3yB-zSqbpUZe",
    "dEUvejAfpUZe",
    "Fd15vwWVpUZf",
    "49K5P_iCpZyH",
    "Nff-vKELpZyI",
    "kLW572S8pZyI",
    "dWbDXHzopZyI",
    "KH5McJBi2d8v",
    "iW_Lq9qf2h6X",
    "-Kee-DAl2viO",
    "gIfDvo9L0UH2"
   ],
   "include_colab_link": true,
   "provenance": [],
   "toc_visible": true
  },
  "kernelspec": {
   "display_name": "Python 3 (ipykernel)",
   "language": "python",
   "name": "python3"
  },
  "language_info": {
   "codemirror_mode": {
    "name": "ipython",
    "version": 3
   },
   "file_extension": ".py",
   "mimetype": "text/x-python",
   "name": "python",
   "nbconvert_exporter": "python",
   "pygments_lexer": "ipython3",
   "version": "3.13.2"
  },
  "widgets": {
   "application/vnd.jupyter.widget-state+json": {
    "330859f7ae9d4e6c8da28b826f4f203e": {
     "model_module": "@jupyter-widgets/base",
     "model_module_version": "1.2.0",
     "model_name": "LayoutModel",
     "state": {
      "_model_module": "@jupyter-widgets/base",
      "_model_module_version": "1.2.0",
      "_model_name": "LayoutModel",
      "_view_count": null,
      "_view_module": "@jupyter-widgets/base",
      "_view_module_version": "1.2.0",
      "_view_name": "LayoutView",
      "align_content": null,
      "align_items": null,
      "align_self": null,
      "border": null,
      "bottom": null,
      "display": null,
      "flex": null,
      "flex_flow": null,
      "grid_area": null,
      "grid_auto_columns": null,
      "grid_auto_flow": null,
      "grid_auto_rows": null,
      "grid_column": null,
      "grid_gap": null,
      "grid_row": null,
      "grid_template_areas": null,
      "grid_template_columns": null,
      "grid_template_rows": null,
      "height": null,
      "justify_content": null,
      "justify_items": null,
      "left": null,
      "margin": null,
      "max_height": null,
      "max_width": null,
      "min_height": null,
      "min_width": null,
      "object_fit": null,
      "object_position": null,
      "order": null,
      "overflow": null,
      "overflow_x": null,
      "overflow_y": null,
      "padding": null,
      "right": null,
      "top": null,
      "visibility": null,
      "width": null
     }
    },
    "3cf5266478434b26bd19b22264f7a960": {
     "model_module": "@jupyter-widgets/base",
     "model_module_version": "1.2.0",
     "model_name": "LayoutModel",
     "state": {
      "_model_module": "@jupyter-widgets/base",
      "_model_module_version": "1.2.0",
      "_model_name": "LayoutModel",
      "_view_count": null,
      "_view_module": "@jupyter-widgets/base",
      "_view_module_version": "1.2.0",
      "_view_name": "LayoutView",
      "align_content": null,
      "align_items": null,
      "align_self": null,
      "border": null,
      "bottom": null,
      "display": null,
      "flex": null,
      "flex_flow": null,
      "grid_area": null,
      "grid_auto_columns": null,
      "grid_auto_flow": null,
      "grid_auto_rows": null,
      "grid_column": null,
      "grid_gap": null,
      "grid_row": null,
      "grid_template_areas": null,
      "grid_template_columns": null,
      "grid_template_rows": null,
      "height": null,
      "justify_content": null,
      "justify_items": null,
      "left": null,
      "margin": null,
      "max_height": null,
      "max_width": null,
      "min_height": null,
      "min_width": null,
      "object_fit": null,
      "object_position": null,
      "order": null,
      "overflow": null,
      "overflow_x": null,
      "overflow_y": null,
      "padding": null,
      "right": null,
      "top": null,
      "visibility": null,
      "width": null
     }
    },
    "4d42237a80524c2384274f8acbc682d3": {
     "model_module": "@jupyter-widgets/controls",
     "model_module_version": "1.5.0",
     "model_name": "DescriptionStyleModel",
     "state": {
      "_model_module": "@jupyter-widgets/controls",
      "_model_module_version": "1.5.0",
      "_model_name": "DescriptionStyleModel",
      "_view_count": null,
      "_view_module": "@jupyter-widgets/base",
      "_view_module_version": "1.2.0",
      "_view_name": "StyleView",
      "description_width": ""
     }
    },
    "7cab291b553449c49014ddf5748e4f16": {
     "model_module": "@jupyter-widgets/base",
     "model_module_version": "1.2.0",
     "model_name": "LayoutModel",
     "state": {
      "_model_module": "@jupyter-widgets/base",
      "_model_module_version": "1.2.0",
      "_model_name": "LayoutModel",
      "_view_count": null,
      "_view_module": "@jupyter-widgets/base",
      "_view_module_version": "1.2.0",
      "_view_name": "LayoutView",
      "align_content": null,
      "align_items": null,
      "align_self": null,
      "border": null,
      "bottom": null,
      "display": null,
      "flex": null,
      "flex_flow": null,
      "grid_area": null,
      "grid_auto_columns": null,
      "grid_auto_flow": null,
      "grid_auto_rows": null,
      "grid_column": null,
      "grid_gap": null,
      "grid_row": null,
      "grid_template_areas": null,
      "grid_template_columns": null,
      "grid_template_rows": null,
      "height": null,
      "justify_content": null,
      "justify_items": null,
      "left": null,
      "margin": null,
      "max_height": null,
      "max_width": null,
      "min_height": null,
      "min_width": null,
      "object_fit": null,
      "object_position": null,
      "order": null,
      "overflow": null,
      "overflow_x": null,
      "overflow_y": null,
      "padding": null,
      "right": null,
      "top": null,
      "visibility": null,
      "width": null
     }
    },
    "7d33e1c82827441d904e50e9981ebea4": {
     "model_module": "@jupyter-widgets/controls",
     "model_module_version": "1.5.0",
     "model_name": "DropdownModel",
     "state": {
      "_dom_classes": [],
      "_model_module": "@jupyter-widgets/controls",
      "_model_module_version": "1.5.0",
      "_model_name": "DropdownModel",
      "_options_labels": [
       "1984",
       "1st to Die: A Novel",
       "2nd Chance",
       "4 Blondes",
       "A Bend in the Road",
       "A Case of Need",
       "A Child Called \\It\\\": One Child's Courage to Survive\"",
       "A Civil Action",
       "A Day Late and a Dollar Short",
       "A Fine Balance",
       "A Great Deliverance",
       "A Heartbreaking Work of Staggering Genius",
       "A Is for Alibi (Kinsey Millhone Mysteries (Paperback))",
       "A Lesson Before Dying (Vintage Contemporaries (Paperback))",
       "A Man Named Dave: A Story of Triumph and Forgiveness",
       "A Man in Full",
       "A Map of the World",
       "A Painted House",
       "A Patchwork Planet",
       "A Prayer for Owen Meany",
       "A Thin Dark Line (Mysteries &amp; Horror)",
       "A Thousand Acres (Ballantine Reader's Circle)",
       "A Time to Kill",
       "A Virtuous Woman (Oprah's Book Club (Paperback))",
       "A Walk to Remember",
       "A Widow for One Year",
       "A Wrinkle In Time",
       "A Wrinkle in Time",
       "A Year in Provence",
       "ANGELA'S ASHES",
       "About a Boy",
       "Absolute Power",
       "Acceptable Risk",
       "Accident",
       "Airframe",
       "All Around the Town",
       "All I Really Need to Know",
       "All That Remains (Kay Scarpetta Mysteries (Paperback))",
       "All the Pretty Horses (The Border Trilogy, Vol 1)",
       "Along Came a Spider (Alex Cross Novels)",
       "American Gods",
       "Angela's Ashes (MMP) : A Memoir",
       "Angela's Ashes: A Memoir",
       "Angels",
       "Angels &amp; Demons",
       "Angus, Thongs and Full-Frontal Snogging: Confessions of Georgia Nicolson",
       "Animal Dreams",
       "Animal Farm",
       "Anne Frank: The Diary of a Young Girl",
       "Anne of Avonlea (Anne of Green Gables Novels (Paperback))",
       "Anne of Green Gables (Anne of Green Gables Novels (Paperback))",
       "Anne of the Island",
       "Artemis Fowl (Artemis Fowl, Book 1)",
       "Ashes to Ashes",
       "At Home in Mitford (The Mitford Years)",
       "Atonement : A Novel",
       "B Is for Burglar (Kinsey Millhone Mysteries (Paperback))",
       "Back Roads",
       "Bag of Bones",
       "Balzac and the Little Chinese Seamstress : A Novel",
       "Bastard Out of Carolina",
       "Beach House",
       "Beach Music",
       "Before I Say Good-Bye",
       "Bel Canto: A Novel",
       "Beloved",
       "Beloved (Plume Contemporary Fiction)",
       "Betrayal in Death",
       "Big Stone Gap: A Novel (Ballantine Reader's Circle)",
       "Big Trouble",
       "Billy Straight : A Novel",
       "Birthright",
       "Bittersweet",
       "Black House",
       "Black Notice",
       "Black and Blue",
       "Bleachers",
       "Blessings",
       "Blood Work",
       "Blue Diary",
       "Body of Evidence (Kay Scarpetta Mysteries (Paperback))",
       "Body of Lies",
       "Brave New World",
       "Breath, Eyes, Memory",
       "Breathing Lessons",
       "Bridge to Terabithia",
       "Bridget Jones : The Edge of Reason",
       "Bridget Jones's Diary",
       "Bridget Jones: The Edge of Reason",
       "By the Light of the Moon",
       "C Is for Corpse (Kinsey Millhone Mysteries (Paperback))",
       "CAT'S EYE",
       "Call of the Wild",
       "Carnal Innocence",
       "Carolina Moon",
       "Carrie",
       "Cat &amp; Mouse (Alex Cross Novels)",
       "Catering to Nobody",
       "Cause of Death",
       "Certain Prey",
       "Charlotte's Web (Trophy Newbery)",
       "Charming Billy",
       "Chicken Soup for the Soul (Chicken Soup for the Soul)",
       "Chicken Soup for the Woman's Soul (Chicken Soup for the Soul Series (Paper))",
       "Chocolat",
       "Choke",
       "Chosen Prey",
       "Christine",
       "Chromosome 6",
       "Circle of Friends",
       "Clear and Present Danger (Jack Ryan Novels)",
       "Cold Mountain",
       "Cold Mountain : A Novel",
       "Cold Sassy Tree",
       "Colony",
       "Coming Home",
       "Confessions of a Shopaholic (Summer Display Opportunity)",
       "Confessions of an Ugly Stepsister : A Novel",
       "Congo",
       "Contact",
       "Contagion",
       "Coraline",
       "Couplehood",
       "Cradle and All",
       "Crazy for You",
       "Cruel &amp; Unusual (Kay Scarpetta Mysteries (Paperback))",
       "Cry Wolf",
       "Cujo",
       "D Is for Deadbeat (Kinsey Millhone Mysteries (Paperback))",
       "Daddy",
       "Daddy's Little Girl",
       "Daisy Fay and the Miracle Man",
       "Dance upon the Air (Three Sisters Island Trilogy)",
       "Dances With Wolves",
       "Dangerous",
       "Dark Angel",
       "Dark Paradise",
       "Dark Rivers of the Heart",
       "Dawn (Cutler)",
       "Death du Jour",
       "Debt of Honor (Jack Ryan Novels)",
       "Deception Point",
       "Deck the Halls (Holiday Classics)",
       "Degree of Guilt",
       "Deja Dead",
       "Desperation",
       "Devices and Desires",
       "Different Seasons",
       "Digital Fortress : A Thriller",
       "Disclosure",
       "Divine Secrets of the Ya-Ya Sisterhood: A Novel",
       "Dolores Claiborne",
       "Don't Stand Too Close to a Naked Man",
       "Don't Sweat the Small Stuff and It's All Small Stuff : Simple Ways to Keep the Little Things from Taking Over Your Life (Don't Sweat the Small Stuff Series)",
       "Dr. Atkins' New Diet Revolution",
       "Dragon Tears",
       "Dragonfly in Amber",
       "Dream Country",
       "Dreamcatcher",
       "Drowning Ruth",
       "Drowning Ruth (Oprah's Book Club)",
       "Drums of Autumn",
       "Dude, Where's My Country?",
       "Dust to Dust",
       "Dying for Chocolate (Culinary Mysteries (Paperback))",
       "E Is for Evidence: A Kinsey Millhone Mystery (Kinsey Millhone Mysteries (Paperback))",
       "Easy Prey",
       "Echoes",
       "Ellen Foster",
       "Empire Falls",
       "Ender's Game (Ender Wiggins Saga (Paperback))",
       "Engaging The Enemy",
       "Envy",
       "Evening Class",
       "Everything's Eventual : 14 Dark Tales",
       "Exclusive",
       "Executive Orders (Jack Ryan Novels)",
       "Eyes of a Child",
       "F Is for Fugitive (Kinsey Millhone Mysteries (Paperback))",
       "FORREST GUMP (Movie Tie in)",
       "Face the Fire (Three Sisters Island Trilogy)",
       "Fahrenheit 451",
       "Faking It",
       "Fall On Your Knees (Oprah #45)",
       "Falling Angels",
       "False Memory",
       "Family Album",
       "Fast Food Nation: The Dark Side of the All-American Meal",
       "Fast Women",
       "Fat Tuesday",
       "Fatal Cure",
       "Fatherhood",
       "Fear Nothing",
       "Final Target",
       "Fine Things",
       "Fingersmith",
       "Five Days in Paris",
       "Five Quarters of the Orange",
       "Flesh and Blood",
       "Forever... : A Novel of Good and Evil, Love and Hope",
       "Fortune's Rocks : A Novel",
       "Fortune's Rocks: A Novel",
       "Foucault's Pendulum",
       "Four Blind Mice",
       "Four Past Midnight",
       "Four To Score (A Stephanie Plum Novel)",
       "Fried Green Tomatoes at the Whistle Stop Cafe",
       "From Potter's Field",
       "From the Corner of His Eye",
       "Full House (Janet Evanovich's Full Series)",
       "Full Tilt (Janet Evanovich's Full Series)",
       "G Is for Gumshoe (Kinsey Millhone Mysteries (Paperback))",
       "GARDEN OF SHADOWS (Dollanger Saga (Paperback))",
       "Gerald's Game",
       "Girl in Hyacinth Blue",
       "Girl with a Pearl Earring",
       "Girl, Interrupted",
       "Good Omens",
       "Good in Bed",
       "Gorky Park",
       "Granny Dan",
       "Guardian Angel",
       "Guilty Pleasures (Anita Blake Vampire Hunter (Paperback))",
       "Guilty as Sin",
       "H Is for Homicide (Kinsey Millhone Mysteries (Paperback))",
       "Hannibal",
       "Hard Eight : A Stephanie Plum Novel (A Stephanie Plum Novel)",
       "Harry Potter and the Chamber of Secrets (Book 2)",
       "Harry Potter and the Goblet of Fire (Book 4)",
       "Harry Potter and the Order of the Phoenix (Book 5)",
       "Harry Potter and the Prisoner of Azkaban (Book 3)",
       "Harry Potter and the Sorcerer's Stone (Book 1)",
       "Harry Potter and the Sorcerer's Stone (Harry Potter (Paperback))",
       "Harvest",
       "Heart of the Sea (Irish Trilogy)",
       "Heartbeat",
       "Heartbreaker",
       "Hearts In Atlantis",
       "Hearts in Atlantis",
       "Heaven and Earth (Three Sisters Island Trilogy)",
       "Hemlock Bay",
       "Here on Earth",
       "Hide &amp; Seek",
       "Hideaway",
       "High Fidelity",
       "High Five (A Stephanie Plum Novel)",
       "Holes (Yearling Newbery)",
       "Homecoming",
       "Homeport",
       "Hornet's Nest",
       "Hot Six : A Stephanie Plum Novel (A Stephanie Plum Novel)",
       "House of Sand and Fog",
       "How Stella Got Her Groove Back",
       "How to Be Good",
       "How to Make an American Quilt",
       "I Capture the Castle",
       "I Is for Innocent",
       "I Know This Much Is True",
       "I Know This Much Is True (Oprah's Book Club)",
       "I Know Why the Caged Bird Sings",
       "I'll Be Seeing You",
       "Icebound",
       "Icy Sparks",
       "If Only It Were True",
       "If Tomorrow Comes",
       "In Her Shoes : A Novel",
       "Inner Harbor (Quinn Brothers (Paperback))",
       "Insomnia",
       "Intensity",
       "Interview with the Vampire",
       "Into Thin Air : A Personal Account of the Mt. Everest Disaster",
       "Into the Wild",
       "Invasion",
       "Irish Hearts",
       "Isle of Dogs",
       "It",
       "It Was on Fire When I Lay Down on It",
       "It's Always Something",
       "J Is for Judgment",
       "Jack &amp; Jill (Alex Cross Novels)",
       "Jacob Have I Loved",
       "Jemima J: A Novel About Ugly Ducklings and Swans",
       "Jewel",
       "Jewel (Oprah's Book Club)",
       "Jewels of the Sun (Irish Trilogy)",
       "Journey",
       "Jurassic Park",
       "K Is for Killer (Kinsey Millhone Mysteries (Paperback))",
       "Kaleidoscope",
       "Key of Knowledge (Key Trilogy (Paperback))",
       "Key of Light (Key Trilogy (Paperback))",
       "Key of Valor (Roberts, Nora. Key Trilogy, 3.)",
       "Killjoy",
       "Kiss the Girls",
       "L Is for Lawless",
       "Ladder of Years",
       "Lake Wobegon Days",
       "Lamb : The Gospel According to Biff, Christ's Childhood Pal",
       "Last Chance Saloon",
       "Last Man Standing",
       "Left Behind: A Novel of the Earth's Last Days (Left Behind No. 1)",
       "Let Me Call You Sweetheart",
       "Life of Pi",
       "Lightning",
       "Like Water for Chocolate : A Novel in Monthly Installments with Recipes, Romances, and Home Remedies",
       "Like Water for Chocolate: A Novel in Monthly Installments With Recipes, Romances and Home Remedies",
       "Like Water for Chocolate: A Novel in Monthly Installments, With Recipes, Romances, and Home Remedies",
       "Little Altars Everywhere: A Novel",
       "Long After Midnight",
       "Lord of the Flies",
       "Love in the Time of Cholera (Penguin Great Books of the 20th Century)",
       "Loves Music, Loves to Dance",
       "Lucky : A Memoir",
       "M Is for Malice",
       "Macgregor Brides (Macgregors)",
       "Macgregor Grooms (Macgregors)",
       "Master of the Game",
       "Matilda",
       "Me Talk Pretty One Day",
       "Men Are from Mars, Women Are from Venus: A Practical Guide for Improving Communication and Getting What You Want in Your Relationships",
       "Mercy",
       "Message from Nam",
       "Message in a Bottle",
       "Middlesex: A Novel",
       "Midnight",
       "Midnight Bayou",
       "Midnight in the Garden of Good and Evil",
       "Midnight in the Garden of Good and Evil: A Savannah Story",
       "Midwives: A Novel",
       "Mind Prey",
       "Mirror Image",
       "Misery",
       "Miss Julia Speaks Her Mind : A Novel",
       "Montana Sky",
       "Moo",
       "Moonlight Becomes You",
       "Morality for Beautiful Girls (No.1 Ladies Detective Agency)",
       "Mortal Fear",
       "Mortal Prey",
       "Mother of Pearl",
       "Mr. Murder",
       "My Gal Sunday",
       "Mystic River",
       "N Is for Noose",
       "Naked",
       "Needful Things",
       "Nerd in Shining Armor",
       "Neverwhere",
       "Nickel and Dimed: On (Not) Getting By in America",
       "Nicolae: The Rise of Antichrist (Left Behind No. 3)",
       "Night",
       "Night Prey",
       "Night Sins",
       "Night Whispers",
       "Nightmares &amp; Dreamscapes",
       "Nights in Rodanthe",
       "No Greater Love",
       "No Safe Place",
       "Notes from a Small Island",
       "Nothing Lasts Forever",
       "Now You See Her",
       "On the Street Where You Live",
       "One Door Away from Heaven",
       "One True Thing",
       "One for the Money (A Stephanie Plum Novel)",
       "One for the Money (Stephanie Plum Novels (Paperback))",
       "Oryx and Crake",
       "Outlander",
       "Over the Edge",
       "P Is for Peril",
       "Paradise",
       "Patriot Games (Jack Ryan Novels)",
       "Pay It Forward",
       "Peace Like a River",
       "Pet Sematary",
       "Phantoms",
       "Pigs in Heaven",
       "Plainsong (Vintage Contemporaries)",
       "Pleading Guilty",
       "Plum Island",
       "Point of Origin",
       "Politically Correct Bedtime Stories: Modern Tales for Our Life and Times",
       "Pop Goes the Weasel",
       "Portrait in Death",
       "Possession : A Romance",
       "Postmortem",
       "Practical Magic",
       "Presumed Innocent",
       "Pretend You Don't See Her",
       "Pride and Prejudice",
       "Primary Colors: A Novel of Politics",
       "Prime Cut",
       "Prodigal Summer",
       "Purity in Death",
       "Q Is for Quarry",
       "Rainbow Six",
       "Range of Motion",
       "Rebecca",
       "Red Dragon",
       "Red Storm Rising",
       "Remember Me",
       "Riptide",
       "Rising Sun",
       "Rising Tides",
       "River's End",
       "River, Cross My Heart",
       "Rose Madder",
       "Roses Are Red (Alex Cross Novels)",
       "Rules of Prey",
       "SHIPPING NEWS",
       "STONES FROM THE RIVER",
       "Sacred Sins",
       "Saint Maybe",
       "Sanctuary",
       "Saving Faith",
       "Scarlet Feather",
       "Scarlett : The Sequel to Margaret Mitchell's \\Gone With the Wind\\\"\"",
       "Schindler's List",
       "Sea Glass: A Novel",
       "Sea Swept (Quinn Brothers (Paperback))",
       "Seabiscuit",
       "Seabiscuit: An American Legend",
       "Second Nature",
       "Secret History",
       "Secrets",
       "Seize the Night",
       "Seven Habits Of Highly Effective People",
       "Seven Up (A Stephanie Plum Novel)",
       "Shadow Prey",
       "Shadowfires",
       "Shattered",
       "She's Come Undone (Oprah's Book Club (Paperback))",
       "She's Come Undone (Oprah's Book Club)",
       "Shell Seekers",
       "Shopaholic Takes Manhattan (Summer Display Opportunity)",
       "Shopaholic Ties the Knot",
       "Sick Puppy",
       "Silence of the Lambs",
       "Silent Witness",
       "Skeleton Crew",
       "Skipping Christmas",
       "Slammerkin",
       "Sleepers",
       "Slow Waltz in Cedar Bend",
       "Small Town Girl",
       "Smart Women",
       "Smilla's Sense of Snow",
       "Snow Falling on Cedars",
       "Sole Survivor",
       "Song of Solomon (Oprah's Book Club (Paperback))",
       "Songs in Ordinary Time (Oprah's Book Club (Paperback))",
       "Sophie's World: A Novel About the History of Philosophy",
       "Southern Cross",
       "Sphere",
       "Standoff",
       "Stanislaski Brothers (Silhouette Promo)",
       "Still Waters",
       "Stillwatch",
       "Strangers",
       "Stupid White Men ...and Other Sorry Excuses for the State of the Nation!",
       "Sudden Prey",
       "Summer Pleasures",
       "Summer Sisters",
       "Suzanne's Diary for Nicholas",
       "Tales of a Fourth Grade Nothing",
       "Taltos: Lives of the Mayfair Witches",
       "Tara Road",
       "Tears of the Giraffe (No.1 Ladies Detective Agency)",
       "Tears of the Moon (Irish Trilogy)",
       "Tell Me Lies (Tell Me Lies)",
       "Tell No One",
       "Temptation",
       "That Camden Summer",
       "The Accidental Tourist",
       "The Alchemist: A Fable About Following Your Dream",
       "The Alibi",
       "The Alienist",
       "The Amber Spyglass (His Dark Materials, Book 3)",
       "The Andromeda Strain",
       "The Angel of Darkness",
       "The Bachelor (Warner Books Contemporary Romance)",
       "The Bad Beginning (A Series of Unfortunate Events, Book 1)",
       "The Bad Place",
       "The Beach House",
       "The Bean Trees",
       "The Blind Assassin",
       "The Blue Nowhere : A Novel",
       "The Body Farm",
       "The Bonesetter's Daughter",
       "The Bonfire of the Vanities",
       "The Book of Ruth (Oprah's Book Club (Paperback))",
       "The Bourne Identity",
       "The Bourne Supremacy",
       "The Bourne Ultimatum",
       "The Boy Next Door",
       "The Brethren",
       "The Bridges of Madison County",
       "The Burden of Proof",
       "The Cardinal of the Kremlin (Jack Ryan Novels)",
       "The Carousel",
       "The Catcher in the Rye",
       "The Celestine Prophecy (Celestine Prophecy)",
       "The Chamber",
       "The Cider House Rules",
       "The Clan of the Cave Bear (Earth's Children (Paperback))",
       "The Client",
       "The Clinic (Alex Delaware Novels (Paperback))",
       "The Color Purple",
       "The Color of Water: A Black Man's Tribute to His White Mother",
       "The Copper Beech",
       "The Cradle Will Fall",
       "The Crimson Petal and the White",
       "The Da Vinci Code",
       "The Dark Half",
       "The Deep End of the Ocean",
       "The Devil Wears Prada : A Novel",
       "The Diary of Ellen Rimbauer: My Life at Rose Red",
       "The Divine Secrets of the Ya-Ya Sisterhood: A Novel",
       "The Dogs of Babel (Today Show Book Club #12)",
       "The Door to December",
       "The Drawing of the Three (The Dark Tower, Book 2)",
       "The Edge",
       "The Eight",
       "The Empty Chair",
       "The English Patient",
       "The Eyre Affair: A Novel",
       "The Face of Deception",
       "The Fellowship of the Ring (The Lord of the Rings, Part 1)",
       "The Firm",
       "The First Counsel",
       "The Five People You Meet in Heaven",
       "The Fourth Hand",
       "The General's Daughter",
       "The Genesis Code",
       "The Gift",
       "The Girl Who Loved Tom Gordon",
       "The Girls' Guide to Hunting and Fishing",
       "The Giver (21st Century Reference)",
       "The Glass Lake",
       "The God of Small Things",
       "The Golden Compass (His Dark Materials, Book 1)",
       "The Great Gatsby",
       "The Green Mile",
       "The Guardian",
       "The Gunslinger (The Dark Tower, Book 1)",
       "The Handmaid's Tale",
       "The Hitchhiker's Guide to the Galaxy",
       "The Hobbit : The Enchanting Prelude to The Lord of the Rings",
       "The Honk and Holler Opening Soon",
       "The Horse Whisperer",
       "The Hot Zone",
       "The Hours : A Novel",
       "The Hours: A Novel",
       "The House of the Spirits",
       "The Hundred Secret Senses",
       "The Hunt for Red October",
       "The Idiot Girls' Action Adventure Club",
       "The Jester",
       "The Joy Luck Club",
       "The Killing Game: Only One Can Win...and the Loser Dies",
       "The King of Torts",
       "The Kiss",
       "The Kitchen God's Wife",
       "The Last Precinct",
       "The Last Time They Met : A Novel",
       "The Little Prince",
       "The Long Road Home",
       "The Loop",
       "The Lost World",
       "The Lottery Winner : Alvirah And Willy Stories",
       "The Lovely Bones: A Novel",
       "The Mists of Avalon",
       "The Most Wanted",
       "The Mulberry Tree",
       "The Mummy or Ramses the Damned",
       "The Murder Book",
       "The Nanny Diaries: A Novel",
       "The Next Accident",
       "The No. 1 Ladies' Detective Agency (Today Show Book Club #8)",
       "The Notebook",
       "The Other Boleyn Girl",
       "The Partner",
       "The Pelican Brief",
       "The Perfect Storm : A True Story of Men Against the Sea",
       "The Phantom Tollbooth",
       "The Pillars of the Earth",
       "The Pilot's Wife : A Novel",
       "The Plains of Passage (Earth's Children (Paperback))",
       "The Poisonwood Bible",
       "The Poisonwood Bible: A Novel",
       "The Prince of Tides",
       "The Princess Bride: S Morgenstern's Classic Tale of True Love and High Adventure",
       "The Promise",
       "The Pull of the Moon",
       "The Queen of the Damned (Vampire Chronicles (Paperback))",
       "The Rainmaker",
       "The Rapture of Canaan",
       "The Reader",
       "The Red Tent (Bestselling Backlist)",
       "The Reef",
       "The Regulators",
       "The Reptile Room (A Series of Unfortunate Events, Book 2)",
       "The Rescue",
       "The Return Journey",
       "The Return of the King (The Lord of the Rings, Part 3)",
       "The Robber Bride",
       "The Runaway Jury",
       "The Sands of Time",
       "The Saving Graces: A Novel",
       "The Search",
       "The Secret Garden",
       "The Secret Life of Bees",
       "The Shipping News : A Novel",
       "The Simple Truth",
       "The Smoke Jumper",
       "The Stone Diaries",
       "The Street Lawyer",
       "The Subtle Knife (His Dark Materials, Book 2)",
       "The Sum of All Fears (Jack Ryan Novels)",
       "The Summerhouse",
       "The Summons",
       "The Surgeon",
       "The Sweet Potato Queens' Book of Love",
       "The Switch",
       "The Tale of the Body Thief (Vampire Chronicles (Paperback))",
       "The Talisman",
       "The Tao of Pooh",
       "The Temple of My Familiar",
       "The Testament",
       "The Thorn Birds",
       "The Tommyknockers",
       "The Two Towers (The Lord of the Rings, Part 2)",
       "The Ugly Duckling",
       "The Valley of Horses",
       "The Vampire Lestat (Vampire Chronicles, Book II)",
       "The Villa",
       "The Virgin Suicides",
       "The Wedding",
       "The Weight of Water : A Novel Tag: Author of Resistance and Strange Fits of Passion",
       "The Winner",
       "The Witching Hour (Lives of the Mayfair Witches)",
       "The Witness",
       "The Woman Next Door",
       "Thinner",
       "Three Fates",
       "Three Junes",
       "Three To Get Deadly : A Stephanie Plum Novel (A Stephanie Plum Novel)",
       "Timeline",
       "Tis : A Memoir",
       "Tis: A Memoir",
       "To Kill a Mockingbird",
       "To the Nines: A Stephanie Plum Novel",
       "Tom Clancy's Op-Center (Tom Clancy's Op Center (Paperback))",
       "Touching Evil",
       "Toxin",
       "Tribulation Force: The Continuing Drama of Those Left Behind (Left Behind No. 2)",
       "Truly, Madly Manhattan",
       "Tuesdays with Morrie: An Old Man, a Young Man, and Life's Greatest Lesson",
       "Turtle Moon",
       "Two for the Dough",
       "Under the Tuscan Sun",
       "Unnatural Exposure",
       "Unspeakable",
       "Vanished",
       "Vector",
       "Vinegar Hill (Oprah's Book Club (Paperback))",
       "Violets Are Blue",
       "Violin",
       "Voyager",
       "WLD ACCORDNG GARP",
       "Waiting to Exhale",
       "Wanderlust",
       "Watchers",
       "Watermelon",
       "Watership Down",
       "We Were the Mulvaneys",
       "We'll Meet Again",
       "Weep No More My Lady",
       "Welcome to Temptation",
       "Welcome to the World, Baby Girl!",
       "What Looks Like Crazy On An Ordinary Day",
       "What to Expect When You're Expecting (Revised Edition)",
       "When the Wind Blows",
       "Where the Heart Is (Oprah's Book Club (Paperback))",
       "Where the Red Fern Grows",
       "While I Was Gone",
       "While My Pretty One Sleeps",
       "Whirlwind (Tyler, Book 1)",
       "Whispers",
       "White Oleander : A Novel",
       "White Oleander : A Novel (Oprah's Book Club)",
       "White Teeth: A Novel",
       "Wicked: The Life and Times of the Wicked Witch of the West",
       "Wifey",
       "Wild Animus",
       "Winter Moon",
       "Winter Solstice",
       "Wish You Well",
       "Without Remorse",
       "Wizard and Glass (The Dark Tower, Book 4)",
       "Wuthering Heights",
       "Year of Wonders",
       "You Belong To Me",
       "Zen and the Art of Motorcycle Maintenance: An Inquiry into Values",
       "Zoya",
       "\\O\\\" Is for Outlaw\""
      ],
      "_view_count": null,
      "_view_module": "@jupyter-widgets/controls",
      "_view_module_version": "1.5.0",
      "_view_name": "DropdownView",
      "description": "Book Name",
      "description_tooltip": null,
      "disabled": false,
      "index": 10,
      "layout": "IPY_MODEL_f5bcbf61f8e34d0eb31323cc18ce319e",
      "style": "IPY_MODEL_eb0c48934d974b15b054c437f3234c81"
     }
    },
    "856f29861da14432842238c188ece591": {
     "model_module": "@jupyter-widgets/controls",
     "model_module_version": "1.5.0",
     "model_name": "DropdownModel",
     "state": {
      "_dom_classes": [],
      "_model_module": "@jupyter-widgets/controls",
      "_model_module_version": "1.5.0",
      "_model_name": "DropdownModel",
      "_options_labels": [
       "Harry Potter and the Prisoner of Azkaban (Book 3)",
       "Harry Potter and the Goblet of Fire (Book 4)",
       "Harry Potter and the Sorcerer's Stone (Book 1)",
       "Harry Potter and the Order of the Phoenix (Book 5)",
       "Harry Potter and the Chamber of Secrets (Book 2)",
       "The Hobbit : The Enchanting Prelude to The Lord of the Rings",
       "The Fellowship of the Ring (The Lord of the Rings, Part 1)",
       "Harry Potter and the Sorcerer's Stone (Harry Potter (Paperback))",
       "The Two Towers (The Lord of the Rings, Part 2)",
       "To Kill a Mockingbird",
       "The Da Vinci Code",
       "The Five People You Meet in Heaven",
       "The Catcher in the Rye",
       "The Lovely Bones: A Novel",
       "1984",
       "Prodigal Summer: A Novel",
       "Neverwhere",
       "The Secret Life of Bees",
       "Stupid White Men ...and Other Sorry Excuses for the State of the Nation!",
       "Tuesdays with Morrie: An Old Man, a Young Man, and Life's Greatest Lesson",
       "The Red Tent (Bestselling Backlist)",
       "The Hitchhiker's Guide to the Galaxy",
       "Nickel and Dimed: On (Not) Getting By in America",
       "Into the Wild",
       "Fahrenheit 451",
       "Girl with a Pearl Earring",
       "Outlander",
       "Where the Heart Is (Oprah's Book Club (Paperback))",
       "Seabiscuit: An American Legend",
       "Life of Pi",
       "The Bean Trees",
       "A Child Called \\It\\\": One Child's Courage to Survive\"",
       "ANGELA'S ASHES",
       "Good in Bed",
       "Fast Food Nation: The Dark Side of the All-American Meal",
       "American Gods",
       "Skipping Christmas",
       "Left Behind: A Novel of the Earth's Last Days (Left Behind No. 1)",
       "The Golden Compass (His Dark Materials, Book 1)",
       "The Color Purple",
       "Silence of the Lambs",
       "About a Boy",
       "Seven Up (A Stephanie Plum Novel)",
       "The Alchemist: A Fable About Following Your Dream",
       "Hard Eight : A Stephanie Plum Novel (A Stephanie Plum Novel)",
       "Suzanne's Diary for Nicholas",
       "Lord of the Flies",
       "A Prayer for Owen Meany",
       "The Vampire Lestat (Vampire Chronicles, Book II)",
       "White Oleander : A Novel (Oprah's Book Club)"
      ],
      "_view_count": null,
      "_view_module": "@jupyter-widgets/controls",
      "_view_module_version": "1.5.0",
      "_view_name": "DropdownView",
      "description": "book_name",
      "description_tooltip": null,
      "disabled": false,
      "index": 0,
      "layout": "IPY_MODEL_ff1333c59e83420a80dfd912091b4a97",
      "style": "IPY_MODEL_4d42237a80524c2384274f8acbc682d3"
     }
    },
    "9f6bcb7791c2424983dd3d19525b3953": {
     "model_module": "@jupyter-widgets/output",
     "model_module_version": "1.0.0",
     "model_name": "OutputModel",
     "state": {
      "_dom_classes": [],
      "_model_module": "@jupyter-widgets/output",
      "_model_module_version": "1.0.0",
      "_model_name": "OutputModel",
      "_view_count": null,
      "_view_module": "@jupyter-widgets/output",
      "_view_module_version": "1.0.0",
      "_view_name": "OutputView",
      "layout": "IPY_MODEL_3cf5266478434b26bd19b22264f7a960",
      "msg_id": "",
      "outputs": [
       {
        "data": {
         "application/vnd.google.colaboratory.intrinsic+json": {
          "summary": "{\n  \"name\": \"    return recommended_books\",\n  \"rows\": 5,\n  \"fields\": [\n    {\n      \"column\": \"Book-Title\",\n      \"properties\": {\n        \"dtype\": \"string\",\n        \"num_unique_values\": 5,\n        \"samples\": [\n          \"Harry Potter and the Goblet of Fire (Book 4)\",\n          \"Harry Potter and the Chamber of Secrets (Book 2)\",\n          \"Harry Potter and the Sorcerer's Stone (Book 1)\"\n        ],\n        \"semantic_type\": \"\",\n        \"description\": \"\"\n      }\n    },\n    {\n      \"column\": \"Book-Author\",\n      \"properties\": {\n        \"dtype\": \"category\",\n        \"num_unique_values\": 1,\n        \"samples\": [\n          \"J. K. Rowling\"\n        ],\n        \"semantic_type\": \"\",\n        \"description\": \"\"\n      }\n    },\n    {\n      \"column\": \"Image-URL-M\",\n      \"properties\": {\n        \"dtype\": \"string\",\n        \"num_unique_values\": 5,\n        \"samples\": [\n          \"http://images.amazon.com/images/P/0439139597.01.MZZZZZZZ.jpg\"\n        ],\n        \"semantic_type\": \"\",\n        \"description\": \"\"\n      }\n    },\n    {\n      \"column\": \"num_ratings\",\n      \"properties\": {\n        \"dtype\": \"number\",\n        \"std\": 103,\n        \"min\": 278,\n        \"max\": 556,\n        \"num_unique_values\": 5,\n        \"samples\": [\n          387\n        ],\n        \"semantic_type\": \"\",\n        \"description\": \"\"\n      }\n    },\n    {\n      \"column\": \"avg_rating\",\n      \"properties\": {\n        \"dtype\": \"number\",\n        \"std\": 0.280332893659883,\n        \"min\": 5.183453237410072,\n        \"max\": 5.852803738317757,\n        \"num_unique_values\": 5,\n        \"samples\": [\n          5.8242894056847545\n        ],\n        \"semantic_type\": \"\",\n        \"description\": \"\"\n      }\n    }\n  ]\n}",
          "type": "dataframe"
         },
         "text/html": "\n  <div id=\"df-4be3b61e-aa2d-4845-a514-22fcc398f82e\" class=\"colab-df-container\">\n    <div>\n<style scoped>\n    .dataframe tbody tr th:only-of-type {\n        vertical-align: middle;\n    }\n\n    .dataframe tbody tr th {\n        vertical-align: top;\n    }\n\n    .dataframe thead th {\n        text-align: right;\n    }\n</style>\n<table border=\"1\" class=\"dataframe\">\n  <thead>\n    <tr style=\"text-align: right;\">\n      <th></th>\n      <th>Book-Title</th>\n      <th>Book-Author</th>\n      <th>Image-URL-M</th>\n      <th>num_ratings</th>\n      <th>avg_rating</th>\n    </tr>\n  </thead>\n  <tbody>\n    <tr>\n      <th>0</th>\n      <td>Harry Potter and the Prisoner of Azkaban (Book 3)</td>\n      <td>J. K. Rowling</td>\n      <td>http://images.amazon.com/images/P/0439136350.0...</td>\n      <td>428</td>\n      <td>5.852804</td>\n    </tr>\n    <tr>\n      <th>3</th>\n      <td>Harry Potter and the Goblet of Fire (Book 4)</td>\n      <td>J. K. Rowling</td>\n      <td>http://images.amazon.com/images/P/0439139597.0...</td>\n      <td>387</td>\n      <td>5.824289</td>\n    </tr>\n    <tr>\n      <th>5</th>\n      <td>Harry Potter and the Sorcerer's Stone (Book 1)</td>\n      <td>J. K. Rowling</td>\n      <td>http://images.amazon.com/images/P/0590353403.0...</td>\n      <td>278</td>\n      <td>5.737410</td>\n    </tr>\n    <tr>\n      <th>9</th>\n      <td>Harry Potter and the Order of the Phoenix (Boo...</td>\n      <td>J. K. Rowling</td>\n      <td>http://images.amazon.com/images/P/043935806X.0...</td>\n      <td>347</td>\n      <td>5.501441</td>\n    </tr>\n    <tr>\n      <th>13</th>\n      <td>Harry Potter and the Chamber of Secrets (Book 2)</td>\n      <td>J. K. Rowling</td>\n      <td>http://images.amazon.com/images/P/0439064872.0...</td>\n      <td>556</td>\n      <td>5.183453</td>\n    </tr>\n  </tbody>\n</table>\n</div>\n    <div class=\"colab-df-buttons\">\n\n  <div class=\"colab-df-container\">\n    <button class=\"colab-df-convert\" onclick=\"convertToInteractive('df-4be3b61e-aa2d-4845-a514-22fcc398f82e')\"\n            title=\"Convert this dataframe to an interactive table.\"\n            style=\"display:none;\">\n\n  <svg xmlns=\"http://www.w3.org/2000/svg\" height=\"24px\" viewBox=\"0 -960 960 960\">\n    <path d=\"M120-120v-720h720v720H120Zm60-500h600v-160H180v160Zm220 220h160v-160H400v160Zm0 220h160v-160H400v160ZM180-400h160v-160H180v160Zm440 0h160v-160H620v160ZM180-180h160v-160H180v160Zm440 0h160v-160H620v160Z\"/>\n  </svg>\n    </button>\n\n  <style>\n    .colab-df-container {\n      display:flex;\n      gap: 12px;\n    }\n\n    .colab-df-convert {\n      background-color: #E8F0FE;\n      border: none;\n      border-radius: 50%;\n      cursor: pointer;\n      display: none;\n      fill: #1967D2;\n      height: 32px;\n      padding: 0 0 0 0;\n      width: 32px;\n    }\n\n    .colab-df-convert:hover {\n      background-color: #E2EBFA;\n      box-shadow: 0px 1px 2px rgba(60, 64, 67, 0.3), 0px 1px 3px 1px rgba(60, 64, 67, 0.15);\n      fill: #174EA6;\n    }\n\n    .colab-df-buttons div {\n      margin-bottom: 4px;\n    }\n\n    [theme=dark] .colab-df-convert {\n      background-color: #3B4455;\n      fill: #D2E3FC;\n    }\n\n    [theme=dark] .colab-df-convert:hover {\n      background-color: #434B5C;\n      box-shadow: 0px 1px 3px 1px rgba(0, 0, 0, 0.15);\n      filter: drop-shadow(0px 1px 2px rgba(0, 0, 0, 0.3));\n      fill: #FFFFFF;\n    }\n  </style>\n\n    <script>\n      const buttonEl =\n        document.querySelector('#df-4be3b61e-aa2d-4845-a514-22fcc398f82e button.colab-df-convert');\n      buttonEl.style.display =\n        google.colab.kernel.accessAllowed ? 'block' : 'none';\n\n      async function convertToInteractive(key) {\n        const element = document.querySelector('#df-4be3b61e-aa2d-4845-a514-22fcc398f82e');\n        const dataTable =\n          await google.colab.kernel.invokeFunction('convertToInteractive',\n                                                    [key], {});\n        if (!dataTable) return;\n\n        const docLinkHtml = 'Like what you see? Visit the ' +\n          '<a target=\"_blank\" href=https://colab.research.google.com/notebooks/data_table.ipynb>data table notebook</a>'\n          + ' to learn more about interactive tables.';\n        element.innerHTML = '';\n        dataTable['output_type'] = 'display_data';\n        await google.colab.output.renderOutput(dataTable, element);\n        const docLink = document.createElement('div');\n        docLink.innerHTML = docLinkHtml;\n        element.appendChild(docLink);\n      }\n    </script>\n  </div>\n\n\n<div id=\"df-969daa68-9996-4c03-874b-38e72092047b\">\n  <button class=\"colab-df-quickchart\" onclick=\"quickchart('df-969daa68-9996-4c03-874b-38e72092047b')\"\n            title=\"Suggest charts\"\n            style=\"display:none;\">\n\n<svg xmlns=\"http://www.w3.org/2000/svg\" height=\"24px\"viewBox=\"0 0 24 24\"\n     width=\"24px\">\n    <g>\n        <path d=\"M19 3H5c-1.1 0-2 .9-2 2v14c0 1.1.9 2 2 2h14c1.1 0 2-.9 2-2V5c0-1.1-.9-2-2-2zM9 17H7v-7h2v7zm4 0h-2V7h2v10zm4 0h-2v-4h2v4z\"/>\n    </g>\n</svg>\n  </button>\n\n<style>\n  .colab-df-quickchart {\n      --bg-color: #E8F0FE;\n      --fill-color: #1967D2;\n      --hover-bg-color: #E2EBFA;\n      --hover-fill-color: #174EA6;\n      --disabled-fill-color: #AAA;\n      --disabled-bg-color: #DDD;\n  }\n\n  [theme=dark] .colab-df-quickchart {\n      --bg-color: #3B4455;\n      --fill-color: #D2E3FC;\n      --hover-bg-color: #434B5C;\n      --hover-fill-color: #FFFFFF;\n      --disabled-bg-color: #3B4455;\n      --disabled-fill-color: #666;\n  }\n\n  .colab-df-quickchart {\n    background-color: var(--bg-color);\n    border: none;\n    border-radius: 50%;\n    cursor: pointer;\n    display: none;\n    fill: var(--fill-color);\n    height: 32px;\n    padding: 0;\n    width: 32px;\n  }\n\n  .colab-df-quickchart:hover {\n    background-color: var(--hover-bg-color);\n    box-shadow: 0 1px 2px rgba(60, 64, 67, 0.3), 0 1px 3px 1px rgba(60, 64, 67, 0.15);\n    fill: var(--button-hover-fill-color);\n  }\n\n  .colab-df-quickchart-complete:disabled,\n  .colab-df-quickchart-complete:disabled:hover {\n    background-color: var(--disabled-bg-color);\n    fill: var(--disabled-fill-color);\n    box-shadow: none;\n  }\n\n  .colab-df-spinner {\n    border: 2px solid var(--fill-color);\n    border-color: transparent;\n    border-bottom-color: var(--fill-color);\n    animation:\n      spin 1s steps(1) infinite;\n  }\n\n  @keyframes spin {\n    0% {\n      border-color: transparent;\n      border-bottom-color: var(--fill-color);\n      border-left-color: var(--fill-color);\n    }\n    20% {\n      border-color: transparent;\n      border-left-color: var(--fill-color);\n      border-top-color: var(--fill-color);\n    }\n    30% {\n      border-color: transparent;\n      border-left-color: var(--fill-color);\n      border-top-color: var(--fill-color);\n      border-right-color: var(--fill-color);\n    }\n    40% {\n      border-color: transparent;\n      border-right-color: var(--fill-color);\n      border-top-color: var(--fill-color);\n    }\n    60% {\n      border-color: transparent;\n      border-right-color: var(--fill-color);\n    }\n    80% {\n      border-color: transparent;\n      border-right-color: var(--fill-color);\n      border-bottom-color: var(--fill-color);\n    }\n    90% {\n      border-color: transparent;\n      border-bottom-color: var(--fill-color);\n    }\n  }\n</style>\n\n  <script>\n    async function quickchart(key) {\n      const quickchartButtonEl =\n        document.querySelector('#' + key + ' button');\n      quickchartButtonEl.disabled = true;  // To prevent multiple clicks.\n      quickchartButtonEl.classList.add('colab-df-spinner');\n      try {\n        const charts = await google.colab.kernel.invokeFunction(\n            'suggestCharts', [key], {});\n      } catch (error) {\n        console.error('Error during call to suggestCharts:', error);\n      }\n      quickchartButtonEl.classList.remove('colab-df-spinner');\n      quickchartButtonEl.classList.add('colab-df-quickchart-complete');\n    }\n    (() => {\n      let quickchartButtonEl =\n        document.querySelector('#df-969daa68-9996-4c03-874b-38e72092047b button');\n      quickchartButtonEl.style.display =\n        google.colab.kernel.accessAllowed ? 'block' : 'none';\n    })();\n  </script>\n</div>\n\n    </div>\n  </div>\n",
         "text/plain": "                                           Book-Title    Book-Author  \\\n0   Harry Potter and the Prisoner of Azkaban (Book 3)  J. K. Rowling   \n3        Harry Potter and the Goblet of Fire (Book 4)  J. K. Rowling   \n5      Harry Potter and the Sorcerer's Stone (Book 1)  J. K. Rowling   \n9   Harry Potter and the Order of the Phoenix (Boo...  J. K. Rowling   \n13   Harry Potter and the Chamber of Secrets (Book 2)  J. K. Rowling   \n\n                                          Image-URL-M  num_ratings  avg_rating  \n0   http://images.amazon.com/images/P/0439136350.0...          428    5.852804  \n3   http://images.amazon.com/images/P/0439139597.0...          387    5.824289  \n5   http://images.amazon.com/images/P/0590353403.0...          278    5.737410  \n9   http://images.amazon.com/images/P/043935806X.0...          347    5.501441  \n13  http://images.amazon.com/images/P/0439064872.0...          556    5.183453  "
        },
        "metadata": {},
        "output_type": "display_data"
       }
      ]
     }
    },
    "b51e775a95a6491da030bd310635a4a7": {
     "model_module": "@jupyter-widgets/controls",
     "model_module_version": "1.5.0",
     "model_name": "VBoxModel",
     "state": {
      "_dom_classes": [
       "widget-interact"
      ],
      "_model_module": "@jupyter-widgets/controls",
      "_model_module_version": "1.5.0",
      "_model_name": "VBoxModel",
      "_view_count": null,
      "_view_module": "@jupyter-widgets/controls",
      "_view_module_version": "1.5.0",
      "_view_name": "VBoxView",
      "box_style": "",
      "children": [
       "IPY_MODEL_856f29861da14432842238c188ece591",
       "IPY_MODEL_9f6bcb7791c2424983dd3d19525b3953"
      ],
      "layout": "IPY_MODEL_f3c4dbe445234dacbd6089e1e98eb59f"
     }
    },
    "cd52cca1a8114be1a31ec0f44b145840": {
     "model_module": "@jupyter-widgets/output",
     "model_module_version": "1.0.0",
     "model_name": "OutputModel",
     "state": {
      "_dom_classes": [],
      "_model_module": "@jupyter-widgets/output",
      "_model_module_version": "1.0.0",
      "_model_name": "OutputModel",
      "_view_count": null,
      "_view_module": "@jupyter-widgets/output",
      "_view_module_version": "1.0.0",
      "_view_name": "OutputView",
      "layout": "IPY_MODEL_7cab291b553449c49014ddf5748e4f16",
      "msg_id": "",
      "outputs": [
       {
        "data": {
         "text/plain": "[['Death du Jour',\n  'Kathy Reichs',\n  'http://images.amazon.com/images/P/0684841185.01.MZZZZZZZ.jpg'],\n ['Cry Wolf',\n  'Wilbur Smith',\n  'http://images.amazon.com/images/P/0312982585.01.MZZZZZZZ.jpg'],\n ['C Is for Corpse (Kinsey Millhone Mysteries (Paperback))',\n  'Sue Grafton',\n  'http://images.amazon.com/images/P/0553280368.01.MZZZZZZZ.jpg'],\n ['Winter Solstice',\n  'Rosamunde Pilcher',\n  'http://images.amazon.com/images/P/0312244266.01.MZZZZZZZ.jpg'],\n ['Cold Mountain',\n  'Charles Frazier',\n  'http://images.amazon.com/images/P/0871136791.01.MZZZZZZZ.jpg']]"
        },
        "metadata": {},
        "output_type": "display_data"
       }
      ]
     }
    },
    "d07394f422b7487194e48dd95e26d939": {
     "model_module": "@jupyter-widgets/controls",
     "model_module_version": "1.5.0",
     "model_name": "VBoxModel",
     "state": {
      "_dom_classes": [
       "widget-interact"
      ],
      "_model_module": "@jupyter-widgets/controls",
      "_model_module_version": "1.5.0",
      "_model_name": "VBoxModel",
      "_view_count": null,
      "_view_module": "@jupyter-widgets/controls",
      "_view_module_version": "1.5.0",
      "_view_name": "VBoxView",
      "box_style": "",
      "children": [
       "IPY_MODEL_7d33e1c82827441d904e50e9981ebea4",
       "IPY_MODEL_cd52cca1a8114be1a31ec0f44b145840"
      ],
      "layout": "IPY_MODEL_330859f7ae9d4e6c8da28b826f4f203e"
     }
    },
    "eb0c48934d974b15b054c437f3234c81": {
     "model_module": "@jupyter-widgets/controls",
     "model_module_version": "1.5.0",
     "model_name": "DescriptionStyleModel",
     "state": {
      "_model_module": "@jupyter-widgets/controls",
      "_model_module_version": "1.5.0",
      "_model_name": "DescriptionStyleModel",
      "_view_count": null,
      "_view_module": "@jupyter-widgets/base",
      "_view_module_version": "1.2.0",
      "_view_name": "StyleView",
      "description_width": ""
     }
    },
    "f3c4dbe445234dacbd6089e1e98eb59f": {
     "model_module": "@jupyter-widgets/base",
     "model_module_version": "1.2.0",
     "model_name": "LayoutModel",
     "state": {
      "_model_module": "@jupyter-widgets/base",
      "_model_module_version": "1.2.0",
      "_model_name": "LayoutModel",
      "_view_count": null,
      "_view_module": "@jupyter-widgets/base",
      "_view_module_version": "1.2.0",
      "_view_name": "LayoutView",
      "align_content": null,
      "align_items": null,
      "align_self": null,
      "border": null,
      "bottom": null,
      "display": null,
      "flex": null,
      "flex_flow": null,
      "grid_area": null,
      "grid_auto_columns": null,
      "grid_auto_flow": null,
      "grid_auto_rows": null,
      "grid_column": null,
      "grid_gap": null,
      "grid_row": null,
      "grid_template_areas": null,
      "grid_template_columns": null,
      "grid_template_rows": null,
      "height": null,
      "justify_content": null,
      "justify_items": null,
      "left": null,
      "margin": null,
      "max_height": null,
      "max_width": null,
      "min_height": null,
      "min_width": null,
      "object_fit": null,
      "object_position": null,
      "order": null,
      "overflow": null,
      "overflow_x": null,
      "overflow_y": null,
      "padding": null,
      "right": null,
      "top": null,
      "visibility": null,
      "width": null
     }
    },
    "f5bcbf61f8e34d0eb31323cc18ce319e": {
     "model_module": "@jupyter-widgets/base",
     "model_module_version": "1.2.0",
     "model_name": "LayoutModel",
     "state": {
      "_model_module": "@jupyter-widgets/base",
      "_model_module_version": "1.2.0",
      "_model_name": "LayoutModel",
      "_view_count": null,
      "_view_module": "@jupyter-widgets/base",
      "_view_module_version": "1.2.0",
      "_view_name": "LayoutView",
      "align_content": null,
      "align_items": null,
      "align_self": null,
      "border": null,
      "bottom": null,
      "display": null,
      "flex": null,
      "flex_flow": null,
      "grid_area": null,
      "grid_auto_columns": null,
      "grid_auto_flow": null,
      "grid_auto_rows": null,
      "grid_column": null,
      "grid_gap": null,
      "grid_row": null,
      "grid_template_areas": null,
      "grid_template_columns": null,
      "grid_template_rows": null,
      "height": null,
      "justify_content": null,
      "justify_items": null,
      "left": null,
      "margin": null,
      "max_height": null,
      "max_width": null,
      "min_height": null,
      "min_width": null,
      "object_fit": null,
      "object_position": null,
      "order": null,
      "overflow": null,
      "overflow_x": null,
      "overflow_y": null,
      "padding": null,
      "right": null,
      "top": null,
      "visibility": null,
      "width": null
     }
    },
    "ff1333c59e83420a80dfd912091b4a97": {
     "model_module": "@jupyter-widgets/base",
     "model_module_version": "1.2.0",
     "model_name": "LayoutModel",
     "state": {
      "_model_module": "@jupyter-widgets/base",
      "_model_module_version": "1.2.0",
      "_model_name": "LayoutModel",
      "_view_count": null,
      "_view_module": "@jupyter-widgets/base",
      "_view_module_version": "1.2.0",
      "_view_name": "LayoutView",
      "align_content": null,
      "align_items": null,
      "align_self": null,
      "border": null,
      "bottom": null,
      "display": null,
      "flex": null,
      "flex_flow": null,
      "grid_area": null,
      "grid_auto_columns": null,
      "grid_auto_flow": null,
      "grid_auto_rows": null,
      "grid_column": null,
      "grid_gap": null,
      "grid_row": null,
      "grid_template_areas": null,
      "grid_template_columns": null,
      "grid_template_rows": null,
      "height": null,
      "justify_content": null,
      "justify_items": null,
      "left": null,
      "margin": null,
      "max_height": null,
      "max_width": null,
      "min_height": null,
      "min_width": null,
      "object_fit": null,
      "object_position": null,
      "order": null,
      "overflow": null,
      "overflow_x": null,
      "overflow_y": null,
      "padding": null,
      "right": null,
      "top": null,
      "visibility": null,
      "width": null
     }
    }
   }
  }
 },
 "nbformat": 4,
 "nbformat_minor": 4
}
